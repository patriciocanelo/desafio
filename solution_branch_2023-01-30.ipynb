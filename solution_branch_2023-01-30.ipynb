{
 "cells": [
  {
   "cell_type": "markdown",
   "id": "f3eb54bb-1342-46e0-af4d-8b0bc333486d",
   "metadata": {},
   "source": [
    "# **Librerías y revisión inicial**"
   ]
  },
  {
   "cell_type": "code",
   "execution_count": 1,
   "id": "adfd73f4-51eb-4e96-9482-26ec03e844d6",
   "metadata": {},
   "outputs": [],
   "source": [
    "#Importar librería pandas y leer datos\n",
    "import pandas as pd\n",
    "import numpy as np\n",
    "import seaborn as sns\n",
    "import matplotlib.pyplot as plt\n",
    "\n",
    "df = pd.read_csv(\"C:/Users/patri/challenge_ntt/dataset_SCL.csv\", sep = ',', low_memory = False)"
   ]
  },
  {
   "cell_type": "code",
   "execution_count": 2,
   "id": "bc6aeacb-224e-4cb7-a6d8-77894710f423",
   "metadata": {
    "tags": []
   },
   "outputs": [
    {
     "data": {
      "text/html": [
       "<div>\n",
       "<style scoped>\n",
       "    .dataframe tbody tr th:only-of-type {\n",
       "        vertical-align: middle;\n",
       "    }\n",
       "\n",
       "    .dataframe tbody tr th {\n",
       "        vertical-align: top;\n",
       "    }\n",
       "\n",
       "    .dataframe thead th {\n",
       "        text-align: right;\n",
       "    }\n",
       "</style>\n",
       "<table border=\"1\" class=\"dataframe\">\n",
       "  <thead>\n",
       "    <tr style=\"text-align: right;\">\n",
       "      <th></th>\n",
       "      <th>Fecha-I</th>\n",
       "      <th>Vlo-I</th>\n",
       "      <th>Ori-I</th>\n",
       "      <th>Des-I</th>\n",
       "      <th>Emp-I</th>\n",
       "      <th>Fecha-O</th>\n",
       "      <th>Vlo-O</th>\n",
       "      <th>Ori-O</th>\n",
       "      <th>Des-O</th>\n",
       "      <th>Emp-O</th>\n",
       "      <th>DIA</th>\n",
       "      <th>MES</th>\n",
       "      <th>AÑO</th>\n",
       "      <th>DIANOM</th>\n",
       "      <th>TIPOVUELO</th>\n",
       "      <th>OPERA</th>\n",
       "      <th>SIGLAORI</th>\n",
       "      <th>SIGLADES</th>\n",
       "    </tr>\n",
       "  </thead>\n",
       "  <tbody>\n",
       "    <tr>\n",
       "      <th>0</th>\n",
       "      <td>2017-01-01 23:30:00</td>\n",
       "      <td>226</td>\n",
       "      <td>SCEL</td>\n",
       "      <td>KMIA</td>\n",
       "      <td>AAL</td>\n",
       "      <td>2017-01-01 23:33:00</td>\n",
       "      <td>226</td>\n",
       "      <td>SCEL</td>\n",
       "      <td>KMIA</td>\n",
       "      <td>AAL</td>\n",
       "      <td>1</td>\n",
       "      <td>1</td>\n",
       "      <td>2017</td>\n",
       "      <td>Domingo</td>\n",
       "      <td>I</td>\n",
       "      <td>American Airlines</td>\n",
       "      <td>Santiago</td>\n",
       "      <td>Miami</td>\n",
       "    </tr>\n",
       "    <tr>\n",
       "      <th>1</th>\n",
       "      <td>2017-01-02 23:30:00</td>\n",
       "      <td>226</td>\n",
       "      <td>SCEL</td>\n",
       "      <td>KMIA</td>\n",
       "      <td>AAL</td>\n",
       "      <td>2017-01-02 23:39:00</td>\n",
       "      <td>226</td>\n",
       "      <td>SCEL</td>\n",
       "      <td>KMIA</td>\n",
       "      <td>AAL</td>\n",
       "      <td>2</td>\n",
       "      <td>1</td>\n",
       "      <td>2017</td>\n",
       "      <td>Lunes</td>\n",
       "      <td>I</td>\n",
       "      <td>American Airlines</td>\n",
       "      <td>Santiago</td>\n",
       "      <td>Miami</td>\n",
       "    </tr>\n",
       "    <tr>\n",
       "      <th>2</th>\n",
       "      <td>2017-01-03 23:30:00</td>\n",
       "      <td>226</td>\n",
       "      <td>SCEL</td>\n",
       "      <td>KMIA</td>\n",
       "      <td>AAL</td>\n",
       "      <td>2017-01-03 23:39:00</td>\n",
       "      <td>226</td>\n",
       "      <td>SCEL</td>\n",
       "      <td>KMIA</td>\n",
       "      <td>AAL</td>\n",
       "      <td>3</td>\n",
       "      <td>1</td>\n",
       "      <td>2017</td>\n",
       "      <td>Martes</td>\n",
       "      <td>I</td>\n",
       "      <td>American Airlines</td>\n",
       "      <td>Santiago</td>\n",
       "      <td>Miami</td>\n",
       "    </tr>\n",
       "    <tr>\n",
       "      <th>3</th>\n",
       "      <td>2017-01-04 23:30:00</td>\n",
       "      <td>226</td>\n",
       "      <td>SCEL</td>\n",
       "      <td>KMIA</td>\n",
       "      <td>AAL</td>\n",
       "      <td>2017-01-04 23:33:00</td>\n",
       "      <td>226</td>\n",
       "      <td>SCEL</td>\n",
       "      <td>KMIA</td>\n",
       "      <td>AAL</td>\n",
       "      <td>4</td>\n",
       "      <td>1</td>\n",
       "      <td>2017</td>\n",
       "      <td>Miercoles</td>\n",
       "      <td>I</td>\n",
       "      <td>American Airlines</td>\n",
       "      <td>Santiago</td>\n",
       "      <td>Miami</td>\n",
       "    </tr>\n",
       "    <tr>\n",
       "      <th>4</th>\n",
       "      <td>2017-01-05 23:30:00</td>\n",
       "      <td>226</td>\n",
       "      <td>SCEL</td>\n",
       "      <td>KMIA</td>\n",
       "      <td>AAL</td>\n",
       "      <td>2017-01-05 23:28:00</td>\n",
       "      <td>226</td>\n",
       "      <td>SCEL</td>\n",
       "      <td>KMIA</td>\n",
       "      <td>AAL</td>\n",
       "      <td>5</td>\n",
       "      <td>1</td>\n",
       "      <td>2017</td>\n",
       "      <td>Jueves</td>\n",
       "      <td>I</td>\n",
       "      <td>American Airlines</td>\n",
       "      <td>Santiago</td>\n",
       "      <td>Miami</td>\n",
       "    </tr>\n",
       "  </tbody>\n",
       "</table>\n",
       "</div>"
      ],
      "text/plain": [
       "               Fecha-I Vlo-I Ori-I Des-I Emp-I              Fecha-O Vlo-O  \\\n",
       "0  2017-01-01 23:30:00   226  SCEL  KMIA   AAL  2017-01-01 23:33:00   226   \n",
       "1  2017-01-02 23:30:00   226  SCEL  KMIA   AAL  2017-01-02 23:39:00   226   \n",
       "2  2017-01-03 23:30:00   226  SCEL  KMIA   AAL  2017-01-03 23:39:00   226   \n",
       "3  2017-01-04 23:30:00   226  SCEL  KMIA   AAL  2017-01-04 23:33:00   226   \n",
       "4  2017-01-05 23:30:00   226  SCEL  KMIA   AAL  2017-01-05 23:28:00   226   \n",
       "\n",
       "  Ori-O Des-O Emp-O  DIA  MES   AÑO     DIANOM TIPOVUELO              OPERA  \\\n",
       "0  SCEL  KMIA   AAL    1    1  2017    Domingo         I  American Airlines   \n",
       "1  SCEL  KMIA   AAL    2    1  2017      Lunes         I  American Airlines   \n",
       "2  SCEL  KMIA   AAL    3    1  2017     Martes         I  American Airlines   \n",
       "3  SCEL  KMIA   AAL    4    1  2017  Miercoles         I  American Airlines   \n",
       "4  SCEL  KMIA   AAL    5    1  2017     Jueves         I  American Airlines   \n",
       "\n",
       "   SIGLAORI SIGLADES  \n",
       "0  Santiago    Miami  \n",
       "1  Santiago    Miami  \n",
       "2  Santiago    Miami  \n",
       "3  Santiago    Miami  \n",
       "4  Santiago    Miami  "
      ]
     },
     "execution_count": 2,
     "metadata": {},
     "output_type": "execute_result"
    }
   ],
   "source": [
    "#Verificar primeros datos\n",
    "df.head()"
   ]
  },
  {
   "cell_type": "code",
   "execution_count": 3,
   "id": "909252f5-63e6-496d-89d6-3c505eb6b7cf",
   "metadata": {},
   "outputs": [
    {
     "data": {
      "text/plain": [
       "Fecha-I      0\n",
       "Vlo-I        0\n",
       "Ori-I        0\n",
       "Des-I        0\n",
       "Emp-I        0\n",
       "Fecha-O      0\n",
       "Vlo-O        1\n",
       "Ori-O        0\n",
       "Des-O        0\n",
       "Emp-O        0\n",
       "DIA          0\n",
       "MES          0\n",
       "AÑO          0\n",
       "DIANOM       0\n",
       "TIPOVUELO    0\n",
       "OPERA        0\n",
       "SIGLAORI     0\n",
       "SIGLADES     0\n",
       "dtype: int64"
      ]
     },
     "execution_count": 3,
     "metadata": {},
     "output_type": "execute_result"
    }
   ],
   "source": [
    "df.isnull().sum()"
   ]
  },
  {
   "cell_type": "code",
   "execution_count": 4,
   "id": "38cb4c2d-6ed1-4372-8a47-2154114b9079",
   "metadata": {},
   "outputs": [
    {
     "data": {
      "text/plain": [
       "Fecha-I      object\n",
       "Vlo-I        object\n",
       "Ori-I        object\n",
       "Des-I        object\n",
       "Emp-I        object\n",
       "Fecha-O      object\n",
       "Vlo-O        object\n",
       "Ori-O        object\n",
       "Des-O        object\n",
       "Emp-O        object\n",
       "DIA           int64\n",
       "MES           int64\n",
       "AÑO           int64\n",
       "DIANOM       object\n",
       "TIPOVUELO    object\n",
       "OPERA        object\n",
       "SIGLAORI     object\n",
       "SIGLADES     object\n",
       "dtype: object"
      ]
     },
     "execution_count": 4,
     "metadata": {},
     "output_type": "execute_result"
    }
   ],
   "source": [
    "#Visualizar tipo de datos\n",
    "df.dtypes"
   ]
  },
  {
   "cell_type": "code",
   "execution_count": 5,
   "id": "dc9f671b-a5f3-4128-8364-4f41039fd321",
   "metadata": {
    "tags": []
   },
   "outputs": [
    {
     "data": {
      "text/html": [
       "<div>\n",
       "<style scoped>\n",
       "    .dataframe tbody tr th:only-of-type {\n",
       "        vertical-align: middle;\n",
       "    }\n",
       "\n",
       "    .dataframe tbody tr th {\n",
       "        vertical-align: top;\n",
       "    }\n",
       "\n",
       "    .dataframe thead th {\n",
       "        text-align: right;\n",
       "    }\n",
       "</style>\n",
       "<table border=\"1\" class=\"dataframe\">\n",
       "  <thead>\n",
       "    <tr style=\"text-align: right;\">\n",
       "      <th></th>\n",
       "      <th>DIA</th>\n",
       "      <th>MES</th>\n",
       "      <th>AÑO</th>\n",
       "    </tr>\n",
       "  </thead>\n",
       "  <tbody>\n",
       "    <tr>\n",
       "      <th>count</th>\n",
       "      <td>68206.000000</td>\n",
       "      <td>68206.000000</td>\n",
       "      <td>68206.000000</td>\n",
       "    </tr>\n",
       "    <tr>\n",
       "      <th>mean</th>\n",
       "      <td>15.714790</td>\n",
       "      <td>6.622585</td>\n",
       "      <td>2017.000029</td>\n",
       "    </tr>\n",
       "    <tr>\n",
       "      <th>std</th>\n",
       "      <td>8.782886</td>\n",
       "      <td>3.523321</td>\n",
       "      <td>0.005415</td>\n",
       "    </tr>\n",
       "    <tr>\n",
       "      <th>min</th>\n",
       "      <td>1.000000</td>\n",
       "      <td>1.000000</td>\n",
       "      <td>2017.000000</td>\n",
       "    </tr>\n",
       "    <tr>\n",
       "      <th>25%</th>\n",
       "      <td>8.000000</td>\n",
       "      <td>3.000000</td>\n",
       "      <td>2017.000000</td>\n",
       "    </tr>\n",
       "    <tr>\n",
       "      <th>50%</th>\n",
       "      <td>16.000000</td>\n",
       "      <td>7.000000</td>\n",
       "      <td>2017.000000</td>\n",
       "    </tr>\n",
       "    <tr>\n",
       "      <th>75%</th>\n",
       "      <td>23.000000</td>\n",
       "      <td>10.000000</td>\n",
       "      <td>2017.000000</td>\n",
       "    </tr>\n",
       "    <tr>\n",
       "      <th>max</th>\n",
       "      <td>31.000000</td>\n",
       "      <td>12.000000</td>\n",
       "      <td>2018.000000</td>\n",
       "    </tr>\n",
       "  </tbody>\n",
       "</table>\n",
       "</div>"
      ],
      "text/plain": [
       "                DIA           MES           AÑO\n",
       "count  68206.000000  68206.000000  68206.000000\n",
       "mean      15.714790      6.622585   2017.000029\n",
       "std        8.782886      3.523321      0.005415\n",
       "min        1.000000      1.000000   2017.000000\n",
       "25%        8.000000      3.000000   2017.000000\n",
       "50%       16.000000      7.000000   2017.000000\n",
       "75%       23.000000     10.000000   2017.000000\n",
       "max       31.000000     12.000000   2018.000000"
      ]
     },
     "execution_count": 5,
     "metadata": {},
     "output_type": "execute_result"
    }
   ],
   "source": [
    "#Describir datos numéricos\n",
    "df.describe()"
   ]
  },
  {
   "cell_type": "code",
   "execution_count": 6,
   "id": "a41d9546-b37b-4d82-9e77-3bc7513e677b",
   "metadata": {},
   "outputs": [],
   "source": [
    "#Fechas a formato correcto\n",
    "df[\"Fecha_I2\"] = pd.to_datetime(df['Fecha-I'], format=\"%Y-%m-%d %H:%M:%S\")\n",
    "df[\"Fecha_O2\"] = pd.to_datetime(df['Fecha-O'], format=\"%Y-%m-%d %H:%M:%S\")"
   ]
  },
  {
   "cell_type": "code",
   "execution_count": 7,
   "id": "1249be2b-c049-4901-9fbd-1d8b7f972c87",
   "metadata": {},
   "outputs": [
    {
     "data": {
      "text/plain": [
       "Fecha-I              object\n",
       "Vlo-I                object\n",
       "Ori-I                object\n",
       "Des-I                object\n",
       "Emp-I                object\n",
       "Fecha-O              object\n",
       "Vlo-O                object\n",
       "Ori-O                object\n",
       "Des-O                object\n",
       "Emp-O                object\n",
       "DIA                   int64\n",
       "MES                   int64\n",
       "AÑO                   int64\n",
       "DIANOM               object\n",
       "TIPOVUELO            object\n",
       "OPERA                object\n",
       "SIGLAORI             object\n",
       "SIGLADES             object\n",
       "Fecha_I2     datetime64[ns]\n",
       "Fecha_O2     datetime64[ns]\n",
       "dtype: object"
      ]
     },
     "execution_count": 7,
     "metadata": {},
     "output_type": "execute_result"
    }
   ],
   "source": [
    "df.dtypes"
   ]
  },
  {
   "cell_type": "code",
   "execution_count": 8,
   "id": "7db405f4-f774-4596-8887-c1d3b3e3fff7",
   "metadata": {},
   "outputs": [],
   "source": [
    "#Retraso en días\n",
    "df[\"Retraso\"] = (df[\"Fecha_O2\"] - df[\"Fecha_I2\"]) / np.timedelta64(1, 'D')"
   ]
  },
  {
   "cell_type": "code",
   "execution_count": 9,
   "id": "96617e2d-d92f-43f9-94b0-28ae18caa370",
   "metadata": {
    "tags": []
   },
   "outputs": [
    {
     "data": {
      "text/html": [
       "<div>\n",
       "<style scoped>\n",
       "    .dataframe tbody tr th:only-of-type {\n",
       "        vertical-align: middle;\n",
       "    }\n",
       "\n",
       "    .dataframe tbody tr th {\n",
       "        vertical-align: top;\n",
       "    }\n",
       "\n",
       "    .dataframe thead th {\n",
       "        text-align: right;\n",
       "    }\n",
       "</style>\n",
       "<table border=\"1\" class=\"dataframe\">\n",
       "  <thead>\n",
       "    <tr style=\"text-align: right;\">\n",
       "      <th></th>\n",
       "      <th>Retraso</th>\n",
       "      <th>Fecha_O2</th>\n",
       "      <th>Fecha_I2</th>\n",
       "    </tr>\n",
       "  </thead>\n",
       "  <tbody>\n",
       "    <tr>\n",
       "      <th>4</th>\n",
       "      <td>-0.001389</td>\n",
       "      <td>2017-01-05 23:28:00</td>\n",
       "      <td>2017-01-05 23:30:00</td>\n",
       "    </tr>\n",
       "    <tr>\n",
       "      <th>6</th>\n",
       "      <td>-0.003472</td>\n",
       "      <td>2017-01-07 23:25:00</td>\n",
       "      <td>2017-01-07 23:30:00</td>\n",
       "    </tr>\n",
       "    <tr>\n",
       "      <th>7</th>\n",
       "      <td>-0.003472</td>\n",
       "      <td>2017-01-08 23:25:00</td>\n",
       "      <td>2017-01-08 23:30:00</td>\n",
       "    </tr>\n",
       "    <tr>\n",
       "      <th>10</th>\n",
       "      <td>-0.006250</td>\n",
       "      <td>2017-01-14 23:21:00</td>\n",
       "      <td>2017-01-14 23:30:00</td>\n",
       "    </tr>\n",
       "    <tr>\n",
       "      <th>12</th>\n",
       "      <td>-0.004861</td>\n",
       "      <td>2017-01-18 23:23:00</td>\n",
       "      <td>2017-01-18 23:30:00</td>\n",
       "    </tr>\n",
       "    <tr>\n",
       "      <th>...</th>\n",
       "      <td>...</td>\n",
       "      <td>...</td>\n",
       "      <td>...</td>\n",
       "    </tr>\n",
       "    <tr>\n",
       "      <th>68181</th>\n",
       "      <td>-0.001389</td>\n",
       "      <td>2017-12-03 16:14:00</td>\n",
       "      <td>2017-12-03 16:16:00</td>\n",
       "    </tr>\n",
       "    <tr>\n",
       "      <th>68183</th>\n",
       "      <td>-0.004167</td>\n",
       "      <td>2017-12-17 16:10:00</td>\n",
       "      <td>2017-12-17 16:16:00</td>\n",
       "    </tr>\n",
       "    <tr>\n",
       "      <th>68192</th>\n",
       "      <td>-0.003472</td>\n",
       "      <td>2017-12-29 04:00:00</td>\n",
       "      <td>2017-12-29 04:05:00</td>\n",
       "    </tr>\n",
       "    <tr>\n",
       "      <th>68195</th>\n",
       "      <td>-0.002778</td>\n",
       "      <td>2017-12-23 04:01:00</td>\n",
       "      <td>2017-12-23 04:05:00</td>\n",
       "    </tr>\n",
       "    <tr>\n",
       "      <th>68197</th>\n",
       "      <td>-0.003472</td>\n",
       "      <td>2017-12-30 04:00:00</td>\n",
       "      <td>2017-12-30 04:05:00</td>\n",
       "    </tr>\n",
       "  </tbody>\n",
       "</table>\n",
       "<p>17910 rows × 3 columns</p>\n",
       "</div>"
      ],
      "text/plain": [
       "        Retraso            Fecha_O2            Fecha_I2\n",
       "4     -0.001389 2017-01-05 23:28:00 2017-01-05 23:30:00\n",
       "6     -0.003472 2017-01-07 23:25:00 2017-01-07 23:30:00\n",
       "7     -0.003472 2017-01-08 23:25:00 2017-01-08 23:30:00\n",
       "10    -0.006250 2017-01-14 23:21:00 2017-01-14 23:30:00\n",
       "12    -0.004861 2017-01-18 23:23:00 2017-01-18 23:30:00\n",
       "...         ...                 ...                 ...\n",
       "68181 -0.001389 2017-12-03 16:14:00 2017-12-03 16:16:00\n",
       "68183 -0.004167 2017-12-17 16:10:00 2017-12-17 16:16:00\n",
       "68192 -0.003472 2017-12-29 04:00:00 2017-12-29 04:05:00\n",
       "68195 -0.002778 2017-12-23 04:01:00 2017-12-23 04:05:00\n",
       "68197 -0.003472 2017-12-30 04:00:00 2017-12-30 04:05:00\n",
       "\n",
       "[17910 rows x 3 columns]"
      ]
     },
     "execution_count": 9,
     "metadata": {},
     "output_type": "execute_result"
    }
   ],
   "source": [
    "#Corroboro el cálculo de retraso\n",
    "df[df[\"Fecha_O2\"] < df[\"Fecha_I2\"]][[\"Retraso\",\"Fecha_O2\",\"Fecha_I2\"]]"
   ]
  },
  {
   "cell_type": "code",
   "execution_count": 10,
   "id": "c1f41d50-48ba-4da0-96c4-35e3f490ba4d",
   "metadata": {},
   "outputs": [
    {
     "data": {
      "text/html": [
       "<div>\n",
       "<style scoped>\n",
       "    .dataframe tbody tr th:only-of-type {\n",
       "        vertical-align: middle;\n",
       "    }\n",
       "\n",
       "    .dataframe tbody tr th {\n",
       "        vertical-align: top;\n",
       "    }\n",
       "\n",
       "    .dataframe thead th {\n",
       "        text-align: right;\n",
       "    }\n",
       "</style>\n",
       "<table border=\"1\" class=\"dataframe\">\n",
       "  <thead>\n",
       "    <tr style=\"text-align: right;\">\n",
       "      <th></th>\n",
       "      <th>Retraso</th>\n",
       "      <th>Fecha_O2</th>\n",
       "      <th>Fecha_I2</th>\n",
       "    </tr>\n",
       "  </thead>\n",
       "  <tbody>\n",
       "    <tr>\n",
       "      <th>0</th>\n",
       "      <td>0.002083</td>\n",
       "      <td>2017-01-01 23:33:00</td>\n",
       "      <td>2017-01-01 23:30:00</td>\n",
       "    </tr>\n",
       "    <tr>\n",
       "      <th>1</th>\n",
       "      <td>0.006250</td>\n",
       "      <td>2017-01-02 23:39:00</td>\n",
       "      <td>2017-01-02 23:30:00</td>\n",
       "    </tr>\n",
       "    <tr>\n",
       "      <th>2</th>\n",
       "      <td>0.006250</td>\n",
       "      <td>2017-01-03 23:39:00</td>\n",
       "      <td>2017-01-03 23:30:00</td>\n",
       "    </tr>\n",
       "    <tr>\n",
       "      <th>3</th>\n",
       "      <td>0.002083</td>\n",
       "      <td>2017-01-04 23:33:00</td>\n",
       "      <td>2017-01-04 23:30:00</td>\n",
       "    </tr>\n",
       "    <tr>\n",
       "      <th>5</th>\n",
       "      <td>0.023611</td>\n",
       "      <td>2017-01-07 00:04:00</td>\n",
       "      <td>2017-01-06 23:30:00</td>\n",
       "    </tr>\n",
       "    <tr>\n",
       "      <th>...</th>\n",
       "      <td>...</td>\n",
       "      <td>...</td>\n",
       "      <td>...</td>\n",
       "    </tr>\n",
       "    <tr>\n",
       "      <th>68201</th>\n",
       "      <td>0.031944</td>\n",
       "      <td>2017-12-22 15:41:00</td>\n",
       "      <td>2017-12-22 14:55:00</td>\n",
       "    </tr>\n",
       "    <tr>\n",
       "      <th>68202</th>\n",
       "      <td>0.011111</td>\n",
       "      <td>2017-12-25 15:11:00</td>\n",
       "      <td>2017-12-25 14:55:00</td>\n",
       "    </tr>\n",
       "    <tr>\n",
       "      <th>68203</th>\n",
       "      <td>0.027778</td>\n",
       "      <td>2017-12-27 15:35:00</td>\n",
       "      <td>2017-12-27 14:55:00</td>\n",
       "    </tr>\n",
       "    <tr>\n",
       "      <th>68204</th>\n",
       "      <td>0.009028</td>\n",
       "      <td>2017-12-29 15:08:00</td>\n",
       "      <td>2017-12-29 14:55:00</td>\n",
       "    </tr>\n",
       "    <tr>\n",
       "      <th>68205</th>\n",
       "      <td>0.006250</td>\n",
       "      <td>2017-12-31 15:04:00</td>\n",
       "      <td>2017-12-31 14:55:00</td>\n",
       "    </tr>\n",
       "  </tbody>\n",
       "</table>\n",
       "<p>45507 rows × 3 columns</p>\n",
       "</div>"
      ],
      "text/plain": [
       "        Retraso            Fecha_O2            Fecha_I2\n",
       "0      0.002083 2017-01-01 23:33:00 2017-01-01 23:30:00\n",
       "1      0.006250 2017-01-02 23:39:00 2017-01-02 23:30:00\n",
       "2      0.006250 2017-01-03 23:39:00 2017-01-03 23:30:00\n",
       "3      0.002083 2017-01-04 23:33:00 2017-01-04 23:30:00\n",
       "5      0.023611 2017-01-07 00:04:00 2017-01-06 23:30:00\n",
       "...         ...                 ...                 ...\n",
       "68201  0.031944 2017-12-22 15:41:00 2017-12-22 14:55:00\n",
       "68202  0.011111 2017-12-25 15:11:00 2017-12-25 14:55:00\n",
       "68203  0.027778 2017-12-27 15:35:00 2017-12-27 14:55:00\n",
       "68204  0.009028 2017-12-29 15:08:00 2017-12-29 14:55:00\n",
       "68205  0.006250 2017-12-31 15:04:00 2017-12-31 14:55:00\n",
       "\n",
       "[45507 rows x 3 columns]"
      ]
     },
     "execution_count": 10,
     "metadata": {},
     "output_type": "execute_result"
    }
   ],
   "source": [
    "#Corroboro el cálculo de retraso\n",
    "df[df[\"Fecha_O2\"] > df[\"Fecha_I2\"]][[\"Retraso\",\"Fecha_O2\",\"Fecha_I2\"]]"
   ]
  },
  {
   "cell_type": "markdown",
   "id": "c2d233a1-c972-4c1a-ade6-43e190a635ec",
   "metadata": {},
   "source": [
    "# **1) ¿Cómo se distribuyen los datos? ¿Qué te llama la atención o cuál es tu conclusión sobre esto?**"
   ]
  },
  {
   "cell_type": "code",
   "execution_count": 11,
   "id": "299aa312-fc5a-4d33-a9da-f4bb59ce05cc",
   "metadata": {},
   "outputs": [
    {
     "data": {
      "text/html": [
       "<div>\n",
       "<style scoped>\n",
       "    .dataframe tbody tr th:only-of-type {\n",
       "        vertical-align: middle;\n",
       "    }\n",
       "\n",
       "    .dataframe tbody tr th {\n",
       "        vertical-align: top;\n",
       "    }\n",
       "\n",
       "    .dataframe thead th {\n",
       "        text-align: right;\n",
       "    }\n",
       "</style>\n",
       "<table border=\"1\" class=\"dataframe\">\n",
       "  <thead>\n",
       "    <tr style=\"text-align: right;\">\n",
       "      <th></th>\n",
       "      <th>Fecha-I</th>\n",
       "      <th>Ori-I</th>\n",
       "      <th>Des-I</th>\n",
       "      <th>Emp-I</th>\n",
       "      <th>Fecha-O</th>\n",
       "      <th>Vlo-O</th>\n",
       "      <th>Ori-O</th>\n",
       "      <th>Des-O</th>\n",
       "      <th>Emp-O</th>\n",
       "      <th>DIA</th>\n",
       "      <th>MES</th>\n",
       "      <th>AÑO</th>\n",
       "      <th>DIANOM</th>\n",
       "      <th>TIPOVUELO</th>\n",
       "      <th>OPERA</th>\n",
       "      <th>SIGLAORI</th>\n",
       "      <th>SIGLADES</th>\n",
       "      <th>Fecha_I2</th>\n",
       "      <th>Fecha_O2</th>\n",
       "      <th>Retraso</th>\n",
       "    </tr>\n",
       "    <tr>\n",
       "      <th>Vlo-I</th>\n",
       "      <th></th>\n",
       "      <th></th>\n",
       "      <th></th>\n",
       "      <th></th>\n",
       "      <th></th>\n",
       "      <th></th>\n",
       "      <th></th>\n",
       "      <th></th>\n",
       "      <th></th>\n",
       "      <th></th>\n",
       "      <th></th>\n",
       "      <th></th>\n",
       "      <th></th>\n",
       "      <th></th>\n",
       "      <th></th>\n",
       "      <th></th>\n",
       "      <th></th>\n",
       "      <th></th>\n",
       "      <th></th>\n",
       "      <th></th>\n",
       "    </tr>\n",
       "  </thead>\n",
       "  <tbody>\n",
       "    <tr>\n",
       "      <th>1</th>\n",
       "      <td>407</td>\n",
       "      <td>407</td>\n",
       "      <td>407</td>\n",
       "      <td>407</td>\n",
       "      <td>407</td>\n",
       "      <td>407</td>\n",
       "      <td>407</td>\n",
       "      <td>407</td>\n",
       "      <td>407</td>\n",
       "      <td>407</td>\n",
       "      <td>407</td>\n",
       "      <td>407</td>\n",
       "      <td>407</td>\n",
       "      <td>407</td>\n",
       "      <td>407</td>\n",
       "      <td>407</td>\n",
       "      <td>407</td>\n",
       "      <td>407</td>\n",
       "      <td>407</td>\n",
       "      <td>407</td>\n",
       "    </tr>\n",
       "    <tr>\n",
       "      <th>10</th>\n",
       "      <td>39</td>\n",
       "      <td>39</td>\n",
       "      <td>39</td>\n",
       "      <td>39</td>\n",
       "      <td>39</td>\n",
       "      <td>39</td>\n",
       "      <td>39</td>\n",
       "      <td>39</td>\n",
       "      <td>39</td>\n",
       "      <td>39</td>\n",
       "      <td>39</td>\n",
       "      <td>39</td>\n",
       "      <td>39</td>\n",
       "      <td>39</td>\n",
       "      <td>39</td>\n",
       "      <td>39</td>\n",
       "      <td>39</td>\n",
       "      <td>39</td>\n",
       "      <td>39</td>\n",
       "      <td>39</td>\n",
       "    </tr>\n",
       "    <tr>\n",
       "      <th>100</th>\n",
       "      <td>20</td>\n",
       "      <td>20</td>\n",
       "      <td>20</td>\n",
       "      <td>20</td>\n",
       "      <td>20</td>\n",
       "      <td>20</td>\n",
       "      <td>20</td>\n",
       "      <td>20</td>\n",
       "      <td>20</td>\n",
       "      <td>20</td>\n",
       "      <td>20</td>\n",
       "      <td>20</td>\n",
       "      <td>20</td>\n",
       "      <td>20</td>\n",
       "      <td>20</td>\n",
       "      <td>20</td>\n",
       "      <td>20</td>\n",
       "      <td>20</td>\n",
       "      <td>20</td>\n",
       "      <td>20</td>\n",
       "    </tr>\n",
       "    <tr>\n",
       "      <th>1003</th>\n",
       "      <td>3</td>\n",
       "      <td>3</td>\n",
       "      <td>3</td>\n",
       "      <td>3</td>\n",
       "      <td>3</td>\n",
       "      <td>3</td>\n",
       "      <td>3</td>\n",
       "      <td>3</td>\n",
       "      <td>3</td>\n",
       "      <td>3</td>\n",
       "      <td>3</td>\n",
       "      <td>3</td>\n",
       "      <td>3</td>\n",
       "      <td>3</td>\n",
       "      <td>3</td>\n",
       "      <td>3</td>\n",
       "      <td>3</td>\n",
       "      <td>3</td>\n",
       "      <td>3</td>\n",
       "      <td>3</td>\n",
       "    </tr>\n",
       "    <tr>\n",
       "      <th>1004</th>\n",
       "      <td>1</td>\n",
       "      <td>1</td>\n",
       "      <td>1</td>\n",
       "      <td>1</td>\n",
       "      <td>1</td>\n",
       "      <td>1</td>\n",
       "      <td>1</td>\n",
       "      <td>1</td>\n",
       "      <td>1</td>\n",
       "      <td>1</td>\n",
       "      <td>1</td>\n",
       "      <td>1</td>\n",
       "      <td>1</td>\n",
       "      <td>1</td>\n",
       "      <td>1</td>\n",
       "      <td>1</td>\n",
       "      <td>1</td>\n",
       "      <td>1</td>\n",
       "      <td>1</td>\n",
       "      <td>1</td>\n",
       "    </tr>\n",
       "    <tr>\n",
       "      <th>...</th>\n",
       "      <td>...</td>\n",
       "      <td>...</td>\n",
       "      <td>...</td>\n",
       "      <td>...</td>\n",
       "      <td>...</td>\n",
       "      <td>...</td>\n",
       "      <td>...</td>\n",
       "      <td>...</td>\n",
       "      <td>...</td>\n",
       "      <td>...</td>\n",
       "      <td>...</td>\n",
       "      <td>...</td>\n",
       "      <td>...</td>\n",
       "      <td>...</td>\n",
       "      <td>...</td>\n",
       "      <td>...</td>\n",
       "      <td>...</td>\n",
       "      <td>...</td>\n",
       "      <td>...</td>\n",
       "      <td>...</td>\n",
       "    </tr>\n",
       "    <tr>\n",
       "      <th>99</th>\n",
       "      <td>17</td>\n",
       "      <td>17</td>\n",
       "      <td>17</td>\n",
       "      <td>17</td>\n",
       "      <td>17</td>\n",
       "      <td>17</td>\n",
       "      <td>17</td>\n",
       "      <td>17</td>\n",
       "      <td>17</td>\n",
       "      <td>17</td>\n",
       "      <td>17</td>\n",
       "      <td>17</td>\n",
       "      <td>17</td>\n",
       "      <td>17</td>\n",
       "      <td>17</td>\n",
       "      <td>17</td>\n",
       "      <td>17</td>\n",
       "      <td>17</td>\n",
       "      <td>17</td>\n",
       "      <td>17</td>\n",
       "    </tr>\n",
       "    <tr>\n",
       "      <th>991</th>\n",
       "      <td>9</td>\n",
       "      <td>9</td>\n",
       "      <td>9</td>\n",
       "      <td>9</td>\n",
       "      <td>9</td>\n",
       "      <td>9</td>\n",
       "      <td>9</td>\n",
       "      <td>9</td>\n",
       "      <td>9</td>\n",
       "      <td>9</td>\n",
       "      <td>9</td>\n",
       "      <td>9</td>\n",
       "      <td>9</td>\n",
       "      <td>9</td>\n",
       "      <td>9</td>\n",
       "      <td>9</td>\n",
       "      <td>9</td>\n",
       "      <td>9</td>\n",
       "      <td>9</td>\n",
       "      <td>9</td>\n",
       "    </tr>\n",
       "    <tr>\n",
       "      <th>993</th>\n",
       "      <td>3</td>\n",
       "      <td>3</td>\n",
       "      <td>3</td>\n",
       "      <td>3</td>\n",
       "      <td>3</td>\n",
       "      <td>3</td>\n",
       "      <td>3</td>\n",
       "      <td>3</td>\n",
       "      <td>3</td>\n",
       "      <td>3</td>\n",
       "      <td>3</td>\n",
       "      <td>3</td>\n",
       "      <td>3</td>\n",
       "      <td>3</td>\n",
       "      <td>3</td>\n",
       "      <td>3</td>\n",
       "      <td>3</td>\n",
       "      <td>3</td>\n",
       "      <td>3</td>\n",
       "      <td>3</td>\n",
       "    </tr>\n",
       "    <tr>\n",
       "      <th>9955</th>\n",
       "      <td>1</td>\n",
       "      <td>1</td>\n",
       "      <td>1</td>\n",
       "      <td>1</td>\n",
       "      <td>1</td>\n",
       "      <td>1</td>\n",
       "      <td>1</td>\n",
       "      <td>1</td>\n",
       "      <td>1</td>\n",
       "      <td>1</td>\n",
       "      <td>1</td>\n",
       "      <td>1</td>\n",
       "      <td>1</td>\n",
       "      <td>1</td>\n",
       "      <td>1</td>\n",
       "      <td>1</td>\n",
       "      <td>1</td>\n",
       "      <td>1</td>\n",
       "      <td>1</td>\n",
       "      <td>1</td>\n",
       "    </tr>\n",
       "    <tr>\n",
       "      <th>9956</th>\n",
       "      <td>1</td>\n",
       "      <td>1</td>\n",
       "      <td>1</td>\n",
       "      <td>1</td>\n",
       "      <td>1</td>\n",
       "      <td>1</td>\n",
       "      <td>1</td>\n",
       "      <td>1</td>\n",
       "      <td>1</td>\n",
       "      <td>1</td>\n",
       "      <td>1</td>\n",
       "      <td>1</td>\n",
       "      <td>1</td>\n",
       "      <td>1</td>\n",
       "      <td>1</td>\n",
       "      <td>1</td>\n",
       "      <td>1</td>\n",
       "      <td>1</td>\n",
       "      <td>1</td>\n",
       "      <td>1</td>\n",
       "    </tr>\n",
       "  </tbody>\n",
       "</table>\n",
       "<p>584 rows × 20 columns</p>\n",
       "</div>"
      ],
      "text/plain": [
       "       Fecha-I  Ori-I  Des-I  Emp-I  Fecha-O  Vlo-O  Ori-O  Des-O  Emp-O  DIA  \\\n",
       "Vlo-I                                                                           \n",
       "1          407    407    407    407      407    407    407    407    407  407   \n",
       "10          39     39     39     39       39     39     39     39     39   39   \n",
       "100         20     20     20     20       20     20     20     20     20   20   \n",
       "1003         3      3      3      3        3      3      3      3      3    3   \n",
       "1004         1      1      1      1        1      1      1      1      1    1   \n",
       "...        ...    ...    ...    ...      ...    ...    ...    ...    ...  ...   \n",
       "99          17     17     17     17       17     17     17     17     17   17   \n",
       "991          9      9      9      9        9      9      9      9      9    9   \n",
       "993          3      3      3      3        3      3      3      3      3    3   \n",
       "9955         1      1      1      1        1      1      1      1      1    1   \n",
       "9956         1      1      1      1        1      1      1      1      1    1   \n",
       "\n",
       "       MES  AÑO  DIANOM  TIPOVUELO  OPERA  SIGLAORI  SIGLADES  Fecha_I2  \\\n",
       "Vlo-I                                                                     \n",
       "1      407  407     407        407    407       407       407       407   \n",
       "10      39   39      39         39     39        39        39        39   \n",
       "100     20   20      20         20     20        20        20        20   \n",
       "1003     3    3       3          3      3         3         3         3   \n",
       "1004     1    1       1          1      1         1         1         1   \n",
       "...    ...  ...     ...        ...    ...       ...       ...       ...   \n",
       "99      17   17      17         17     17        17        17        17   \n",
       "991      9    9       9          9      9         9         9         9   \n",
       "993      3    3       3          3      3         3         3         3   \n",
       "9955     1    1       1          1      1         1         1         1   \n",
       "9956     1    1       1          1      1         1         1         1   \n",
       "\n",
       "       Fecha_O2  Retraso  \n",
       "Vlo-I                     \n",
       "1           407      407  \n",
       "10           39       39  \n",
       "100          20       20  \n",
       "1003          3        3  \n",
       "1004          1        1  \n",
       "...         ...      ...  \n",
       "99           17       17  \n",
       "991           9        9  \n",
       "993           3        3  \n",
       "9955          1        1  \n",
       "9956          1        1  \n",
       "\n",
       "[584 rows x 20 columns]"
      ]
     },
     "execution_count": 11,
     "metadata": {},
     "output_type": "execute_result"
    }
   ],
   "source": [
    "############################ Distribución de los Datos ################################33\n",
    "#Descripción de los datos por VLO-I\n",
    "df.groupby(by = [\"Vlo-I\"]).count()  \n",
    "#Existen 584 tipos de vuelos distintos según el código de vuelo"
   ]
  },
  {
   "cell_type": "markdown",
   "id": "67021d6c-37f1-4c3f-b2b3-5983182c2d97",
   "metadata": {},
   "source": [
    "**Existen 584 tipos de vuelo según el número de operación del vuelo \"Vlo -I\"**"
   ]
  },
  {
   "cell_type": "code",
   "execution_count": 12,
   "id": "146948b9-74c8-4175-84d0-3c190a0c65e1",
   "metadata": {},
   "outputs": [
    {
     "data": {
      "text/html": [
       "<div>\n",
       "<style scoped>\n",
       "    .dataframe tbody tr th:only-of-type {\n",
       "        vertical-align: middle;\n",
       "    }\n",
       "\n",
       "    .dataframe tbody tr th {\n",
       "        vertical-align: top;\n",
       "    }\n",
       "\n",
       "    .dataframe thead th {\n",
       "        text-align: right;\n",
       "    }\n",
       "</style>\n",
       "<table border=\"1\" class=\"dataframe\">\n",
       "  <thead>\n",
       "    <tr style=\"text-align: right;\">\n",
       "      <th></th>\n",
       "      <th></th>\n",
       "      <th>Fecha-I</th>\n",
       "      <th>Vlo-I</th>\n",
       "      <th>Emp-I</th>\n",
       "      <th>Fecha-O</th>\n",
       "      <th>Vlo-O</th>\n",
       "      <th>Ori-O</th>\n",
       "      <th>Des-O</th>\n",
       "      <th>Emp-O</th>\n",
       "      <th>DIA</th>\n",
       "      <th>MES</th>\n",
       "      <th>AÑO</th>\n",
       "      <th>DIANOM</th>\n",
       "      <th>TIPOVUELO</th>\n",
       "      <th>OPERA</th>\n",
       "      <th>SIGLAORI</th>\n",
       "      <th>SIGLADES</th>\n",
       "      <th>Fecha_I2</th>\n",
       "      <th>Fecha_O2</th>\n",
       "      <th>Retraso</th>\n",
       "    </tr>\n",
       "    <tr>\n",
       "      <th>Ori-I</th>\n",
       "      <th>Des-I</th>\n",
       "      <th></th>\n",
       "      <th></th>\n",
       "      <th></th>\n",
       "      <th></th>\n",
       "      <th></th>\n",
       "      <th></th>\n",
       "      <th></th>\n",
       "      <th></th>\n",
       "      <th></th>\n",
       "      <th></th>\n",
       "      <th></th>\n",
       "      <th></th>\n",
       "      <th></th>\n",
       "      <th></th>\n",
       "      <th></th>\n",
       "      <th></th>\n",
       "      <th></th>\n",
       "      <th></th>\n",
       "      <th></th>\n",
       "    </tr>\n",
       "  </thead>\n",
       "  <tbody>\n",
       "    <tr>\n",
       "      <th rowspan=\"11\" valign=\"top\">SCEL</th>\n",
       "      <th>CYYZ</th>\n",
       "      <td>283</td>\n",
       "      <td>283</td>\n",
       "      <td>283</td>\n",
       "      <td>283</td>\n",
       "      <td>283</td>\n",
       "      <td>283</td>\n",
       "      <td>283</td>\n",
       "      <td>283</td>\n",
       "      <td>283</td>\n",
       "      <td>283</td>\n",
       "      <td>283</td>\n",
       "      <td>283</td>\n",
       "      <td>283</td>\n",
       "      <td>283</td>\n",
       "      <td>283</td>\n",
       "      <td>283</td>\n",
       "      <td>283</td>\n",
       "      <td>283</td>\n",
       "      <td>283</td>\n",
       "    </tr>\n",
       "    <tr>\n",
       "      <th>EGLL</th>\n",
       "      <td>205</td>\n",
       "      <td>205</td>\n",
       "      <td>205</td>\n",
       "      <td>205</td>\n",
       "      <td>205</td>\n",
       "      <td>205</td>\n",
       "      <td>205</td>\n",
       "      <td>205</td>\n",
       "      <td>205</td>\n",
       "      <td>205</td>\n",
       "      <td>205</td>\n",
       "      <td>205</td>\n",
       "      <td>205</td>\n",
       "      <td>205</td>\n",
       "      <td>205</td>\n",
       "      <td>205</td>\n",
       "      <td>205</td>\n",
       "      <td>205</td>\n",
       "      <td>205</td>\n",
       "    </tr>\n",
       "    <tr>\n",
       "      <th>EGYP</th>\n",
       "      <td>1</td>\n",
       "      <td>1</td>\n",
       "      <td>1</td>\n",
       "      <td>1</td>\n",
       "      <td>1</td>\n",
       "      <td>1</td>\n",
       "      <td>1</td>\n",
       "      <td>1</td>\n",
       "      <td>1</td>\n",
       "      <td>1</td>\n",
       "      <td>1</td>\n",
       "      <td>1</td>\n",
       "      <td>1</td>\n",
       "      <td>1</td>\n",
       "      <td>1</td>\n",
       "      <td>1</td>\n",
       "      <td>1</td>\n",
       "      <td>1</td>\n",
       "      <td>1</td>\n",
       "    </tr>\n",
       "    <tr>\n",
       "      <th>KATL</th>\n",
       "      <td>358</td>\n",
       "      <td>358</td>\n",
       "      <td>358</td>\n",
       "      <td>358</td>\n",
       "      <td>358</td>\n",
       "      <td>358</td>\n",
       "      <td>358</td>\n",
       "      <td>358</td>\n",
       "      <td>358</td>\n",
       "      <td>358</td>\n",
       "      <td>358</td>\n",
       "      <td>358</td>\n",
       "      <td>358</td>\n",
       "      <td>358</td>\n",
       "      <td>358</td>\n",
       "      <td>358</td>\n",
       "      <td>358</td>\n",
       "      <td>358</td>\n",
       "      <td>358</td>\n",
       "    </tr>\n",
       "    <tr>\n",
       "      <th>KDFW</th>\n",
       "      <td>357</td>\n",
       "      <td>357</td>\n",
       "      <td>357</td>\n",
       "      <td>357</td>\n",
       "      <td>357</td>\n",
       "      <td>357</td>\n",
       "      <td>357</td>\n",
       "      <td>357</td>\n",
       "      <td>357</td>\n",
       "      <td>357</td>\n",
       "      <td>357</td>\n",
       "      <td>357</td>\n",
       "      <td>357</td>\n",
       "      <td>357</td>\n",
       "      <td>357</td>\n",
       "      <td>357</td>\n",
       "      <td>357</td>\n",
       "      <td>357</td>\n",
       "      <td>357</td>\n",
       "    </tr>\n",
       "    <tr>\n",
       "      <th>...</th>\n",
       "      <td>...</td>\n",
       "      <td>...</td>\n",
       "      <td>...</td>\n",
       "      <td>...</td>\n",
       "      <td>...</td>\n",
       "      <td>...</td>\n",
       "      <td>...</td>\n",
       "      <td>...</td>\n",
       "      <td>...</td>\n",
       "      <td>...</td>\n",
       "      <td>...</td>\n",
       "      <td>...</td>\n",
       "      <td>...</td>\n",
       "      <td>...</td>\n",
       "      <td>...</td>\n",
       "      <td>...</td>\n",
       "      <td>...</td>\n",
       "      <td>...</td>\n",
       "      <td>...</td>\n",
       "    </tr>\n",
       "    <tr>\n",
       "      <th>SPSO</th>\n",
       "      <td>1</td>\n",
       "      <td>1</td>\n",
       "      <td>1</td>\n",
       "      <td>1</td>\n",
       "      <td>1</td>\n",
       "      <td>1</td>\n",
       "      <td>1</td>\n",
       "      <td>1</td>\n",
       "      <td>1</td>\n",
       "      <td>1</td>\n",
       "      <td>1</td>\n",
       "      <td>1</td>\n",
       "      <td>1</td>\n",
       "      <td>1</td>\n",
       "      <td>1</td>\n",
       "      <td>1</td>\n",
       "      <td>1</td>\n",
       "      <td>1</td>\n",
       "      <td>1</td>\n",
       "    </tr>\n",
       "    <tr>\n",
       "      <th>SULS</th>\n",
       "      <td>6</td>\n",
       "      <td>6</td>\n",
       "      <td>6</td>\n",
       "      <td>6</td>\n",
       "      <td>6</td>\n",
       "      <td>6</td>\n",
       "      <td>6</td>\n",
       "      <td>6</td>\n",
       "      <td>6</td>\n",
       "      <td>6</td>\n",
       "      <td>6</td>\n",
       "      <td>6</td>\n",
       "      <td>6</td>\n",
       "      <td>6</td>\n",
       "      <td>6</td>\n",
       "      <td>6</td>\n",
       "      <td>6</td>\n",
       "      <td>6</td>\n",
       "      <td>6</td>\n",
       "    </tr>\n",
       "    <tr>\n",
       "      <th>SUMU</th>\n",
       "      <td>1066</td>\n",
       "      <td>1066</td>\n",
       "      <td>1066</td>\n",
       "      <td>1066</td>\n",
       "      <td>1066</td>\n",
       "      <td>1066</td>\n",
       "      <td>1066</td>\n",
       "      <td>1066</td>\n",
       "      <td>1066</td>\n",
       "      <td>1066</td>\n",
       "      <td>1066</td>\n",
       "      <td>1066</td>\n",
       "      <td>1066</td>\n",
       "      <td>1066</td>\n",
       "      <td>1066</td>\n",
       "      <td>1066</td>\n",
       "      <td>1066</td>\n",
       "      <td>1066</td>\n",
       "      <td>1066</td>\n",
       "    </tr>\n",
       "    <tr>\n",
       "      <th>YMML</th>\n",
       "      <td>38</td>\n",
       "      <td>38</td>\n",
       "      <td>38</td>\n",
       "      <td>38</td>\n",
       "      <td>38</td>\n",
       "      <td>38</td>\n",
       "      <td>38</td>\n",
       "      <td>38</td>\n",
       "      <td>38</td>\n",
       "      <td>38</td>\n",
       "      <td>38</td>\n",
       "      <td>38</td>\n",
       "      <td>38</td>\n",
       "      <td>38</td>\n",
       "      <td>38</td>\n",
       "      <td>38</td>\n",
       "      <td>38</td>\n",
       "      <td>38</td>\n",
       "      <td>38</td>\n",
       "    </tr>\n",
       "    <tr>\n",
       "      <th>YSSY</th>\n",
       "      <td>195</td>\n",
       "      <td>195</td>\n",
       "      <td>195</td>\n",
       "      <td>195</td>\n",
       "      <td>195</td>\n",
       "      <td>195</td>\n",
       "      <td>195</td>\n",
       "      <td>195</td>\n",
       "      <td>195</td>\n",
       "      <td>195</td>\n",
       "      <td>195</td>\n",
       "      <td>195</td>\n",
       "      <td>195</td>\n",
       "      <td>195</td>\n",
       "      <td>195</td>\n",
       "      <td>195</td>\n",
       "      <td>195</td>\n",
       "      <td>195</td>\n",
       "      <td>195</td>\n",
       "    </tr>\n",
       "  </tbody>\n",
       "</table>\n",
       "<p>64 rows × 19 columns</p>\n",
       "</div>"
      ],
      "text/plain": [
       "             Fecha-I  Vlo-I  Emp-I  Fecha-O  Vlo-O  Ori-O  Des-O  Emp-O   DIA  \\\n",
       "Ori-I Des-I                                                                     \n",
       "SCEL  CYYZ       283    283    283      283    283    283    283    283   283   \n",
       "      EGLL       205    205    205      205    205    205    205    205   205   \n",
       "      EGYP         1      1      1        1      1      1      1      1     1   \n",
       "      KATL       358    358    358      358    358    358    358    358   358   \n",
       "      KDFW       357    357    357      357    357    357    357    357   357   \n",
       "...              ...    ...    ...      ...    ...    ...    ...    ...   ...   \n",
       "      SPSO         1      1      1        1      1      1      1      1     1   \n",
       "      SULS         6      6      6        6      6      6      6      6     6   \n",
       "      SUMU      1066   1066   1066     1066   1066   1066   1066   1066  1066   \n",
       "      YMML        38     38     38       38     38     38     38     38    38   \n",
       "      YSSY       195    195    195      195    195    195    195    195   195   \n",
       "\n",
       "              MES   AÑO  DIANOM  TIPOVUELO  OPERA  SIGLAORI  SIGLADES  \\\n",
       "Ori-I Des-I                                                             \n",
       "SCEL  CYYZ    283   283     283        283    283       283       283   \n",
       "      EGLL    205   205     205        205    205       205       205   \n",
       "      EGYP      1     1       1          1      1         1         1   \n",
       "      KATL    358   358     358        358    358       358       358   \n",
       "      KDFW    357   357     357        357    357       357       357   \n",
       "...           ...   ...     ...        ...    ...       ...       ...   \n",
       "      SPSO      1     1       1          1      1         1         1   \n",
       "      SULS      6     6       6          6      6         6         6   \n",
       "      SUMU   1066  1066    1066       1066   1066      1066      1066   \n",
       "      YMML     38    38      38         38     38        38        38   \n",
       "      YSSY    195   195     195        195    195       195       195   \n",
       "\n",
       "             Fecha_I2  Fecha_O2  Retraso  \n",
       "Ori-I Des-I                               \n",
       "SCEL  CYYZ        283       283      283  \n",
       "      EGLL        205       205      205  \n",
       "      EGYP          1         1        1  \n",
       "      KATL        358       358      358  \n",
       "      KDFW        357       357      357  \n",
       "...               ...       ...      ...  \n",
       "      SPSO          1         1        1  \n",
       "      SULS          6         6        6  \n",
       "      SUMU       1066      1066     1066  \n",
       "      YMML         38        38       38  \n",
       "      YSSY        195       195      195  \n",
       "\n",
       "[64 rows x 19 columns]"
      ]
     },
     "execution_count": 12,
     "metadata": {},
     "output_type": "execute_result"
    }
   ],
   "source": [
    "#Tipos de vuelo por origen y destino\n",
    "df.groupby(by = [\"Ori-I\", \"Des-I\"]).count()  \n",
    "\n",
    "#El Origen siempre es SCEL y se registran 64 destinos distintos"
   ]
  },
  {
   "cell_type": "code",
   "execution_count": 13,
   "id": "9f90fb58-e26d-4c14-8819-d5fcc07cd03a",
   "metadata": {},
   "outputs": [
    {
     "data": {
      "text/html": [
       "<div>\n",
       "<style scoped>\n",
       "    .dataframe tbody tr th:only-of-type {\n",
       "        vertical-align: middle;\n",
       "    }\n",
       "\n",
       "    .dataframe tbody tr th {\n",
       "        vertical-align: top;\n",
       "    }\n",
       "\n",
       "    .dataframe thead th {\n",
       "        text-align: right;\n",
       "    }\n",
       "</style>\n",
       "<table border=\"1\" class=\"dataframe\">\n",
       "  <thead>\n",
       "    <tr style=\"text-align: right;\">\n",
       "      <th></th>\n",
       "      <th>Porc_Total</th>\n",
       "      <th>n</th>\n",
       "    </tr>\n",
       "    <tr>\n",
       "      <th>SIGLADES</th>\n",
       "      <th></th>\n",
       "      <th></th>\n",
       "    </tr>\n",
       "  </thead>\n",
       "  <tbody>\n",
       "    <tr>\n",
       "      <th>Buenos Aires</th>\n",
       "      <td>0.092880</td>\n",
       "      <td>6335</td>\n",
       "    </tr>\n",
       "    <tr>\n",
       "      <th>Antofagasta</th>\n",
       "      <td>0.084831</td>\n",
       "      <td>5786</td>\n",
       "    </tr>\n",
       "    <tr>\n",
       "      <th>Lima</th>\n",
       "      <td>0.077266</td>\n",
       "      <td>5270</td>\n",
       "    </tr>\n",
       "    <tr>\n",
       "      <th>Calama</th>\n",
       "      <td>0.075448</td>\n",
       "      <td>5146</td>\n",
       "    </tr>\n",
       "    <tr>\n",
       "      <th>Puerto Montt</th>\n",
       "      <td>0.063880</td>\n",
       "      <td>4357</td>\n",
       "    </tr>\n",
       "    <tr>\n",
       "      <th>Concepcion</th>\n",
       "      <td>0.058543</td>\n",
       "      <td>3993</td>\n",
       "    </tr>\n",
       "    <tr>\n",
       "      <th>Iquique</th>\n",
       "      <td>0.054937</td>\n",
       "      <td>3747</td>\n",
       "    </tr>\n",
       "    <tr>\n",
       "      <th>Sao Paulo</th>\n",
       "      <td>0.052327</td>\n",
       "      <td>3569</td>\n",
       "    </tr>\n",
       "    <tr>\n",
       "      <th>Temuco</th>\n",
       "      <td>0.037959</td>\n",
       "      <td>2589</td>\n",
       "    </tr>\n",
       "    <tr>\n",
       "      <th>Arica</th>\n",
       "      <td>0.035715</td>\n",
       "      <td>2436</td>\n",
       "    </tr>\n",
       "    <tr>\n",
       "      <th>La Serena</th>\n",
       "      <td>0.035334</td>\n",
       "      <td>2410</td>\n",
       "    </tr>\n",
       "    <tr>\n",
       "      <th>Punta Arenas</th>\n",
       "      <td>0.030862</td>\n",
       "      <td>2105</td>\n",
       "    </tr>\n",
       "    <tr>\n",
       "      <th>Ciudad de Panama</th>\n",
       "      <td>0.027124</td>\n",
       "      <td>1850</td>\n",
       "    </tr>\n",
       "    <tr>\n",
       "      <th>Copiapo</th>\n",
       "      <td>0.026097</td>\n",
       "      <td>1780</td>\n",
       "    </tr>\n",
       "    <tr>\n",
       "      <th>Mendoza</th>\n",
       "      <td>0.023825</td>\n",
       "      <td>1625</td>\n",
       "    </tr>\n",
       "    <tr>\n",
       "      <th>Bogota</th>\n",
       "      <td>0.023517</td>\n",
       "      <td>1604</td>\n",
       "    </tr>\n",
       "    <tr>\n",
       "      <th>Rio de Janeiro</th>\n",
       "      <td>0.021039</td>\n",
       "      <td>1435</td>\n",
       "    </tr>\n",
       "    <tr>\n",
       "      <th>Montevideo</th>\n",
       "      <td>0.015629</td>\n",
       "      <td>1066</td>\n",
       "    </tr>\n",
       "    <tr>\n",
       "      <th>Cordoba</th>\n",
       "      <td>0.014999</td>\n",
       "      <td>1023</td>\n",
       "    </tr>\n",
       "    <tr>\n",
       "      <th>Miami</th>\n",
       "      <td>0.014896</td>\n",
       "      <td>1016</td>\n",
       "    </tr>\n",
       "    <tr>\n",
       "      <th>Madrid</th>\n",
       "      <td>0.013107</td>\n",
       "      <td>894</td>\n",
       "    </tr>\n",
       "    <tr>\n",
       "      <th>Balmaceda</th>\n",
       "      <td>0.012301</td>\n",
       "      <td>839</td>\n",
       "    </tr>\n",
       "    <tr>\n",
       "      <th>Valdivia</th>\n",
       "      <td>0.011040</td>\n",
       "      <td>753</td>\n",
       "    </tr>\n",
       "    <tr>\n",
       "      <th>Ciudad de Mexico</th>\n",
       "      <td>0.010263</td>\n",
       "      <td>700</td>\n",
       "    </tr>\n",
       "  </tbody>\n",
       "</table>\n",
       "</div>"
      ],
      "text/plain": [
       "                  Porc_Total     n\n",
       "SIGLADES                          \n",
       "Buenos Aires        0.092880  6335\n",
       "Antofagasta         0.084831  5786\n",
       "Lima                0.077266  5270\n",
       "Calama              0.075448  5146\n",
       "Puerto Montt        0.063880  4357\n",
       "Concepcion          0.058543  3993\n",
       "Iquique             0.054937  3747\n",
       "Sao Paulo           0.052327  3569\n",
       "Temuco              0.037959  2589\n",
       "Arica               0.035715  2436\n",
       "La Serena           0.035334  2410\n",
       "Punta Arenas        0.030862  2105\n",
       "Ciudad de Panama    0.027124  1850\n",
       "Copiapo             0.026097  1780\n",
       "Mendoza             0.023825  1625\n",
       "Bogota              0.023517  1604\n",
       "Rio de Janeiro      0.021039  1435\n",
       "Montevideo          0.015629  1066\n",
       "Cordoba             0.014999  1023\n",
       "Miami               0.014896  1016\n",
       "Madrid              0.013107   894\n",
       "Balmaceda           0.012301   839\n",
       "Valdivia            0.011040   753\n",
       "Ciudad de Mexico    0.010263   700"
      ]
     },
     "execution_count": 13,
     "metadata": {},
     "output_type": "execute_result"
    }
   ],
   "source": [
    "#Destino\n",
    "destinos = pd.DataFrame(df.groupby(by = [\"SIGLADES\"])[\"SIGLADES\"].count() / 68206)\n",
    "destinos.rename(columns = {'SIGLADES':'Porc_Total'}, inplace = True)\n",
    "destinos[\"n\"] = df.groupby(by = [\"SIGLADES\"])[\"SIGLADES\"].count()\n",
    "destinos = destinos.sort_values('n',ascending=False)\n",
    "destinos = destinos[destinos[\"n\"] > 68206*0.01]\n",
    "destinos"
   ]
  },
  {
   "cell_type": "code",
   "execution_count": 14,
   "id": "1eb28357-ae53-49e4-b7cf-a3c6212c7298",
   "metadata": {},
   "outputs": [
    {
     "data": {
      "image/png": "[encoded data removed]",
      "text/plain": [
       "<Figure size 432x288 with 1 Axes>"
      ]
     },
     "metadata": {},
     "output_type": "display_data"
    }
   ],
   "source": [
    "#Destinos - piechart\n",
    "import matplotlib.pyplot as plt\n",
    "data = np.unique(df['SIGLADES'], return_counts=True)\n",
    "plt.pie(x = data[1], autopct='%.1f%%' ,\n",
    "       labels = data[0],\n",
    "       #colors =  [\"Blue\", \"Red\"],\n",
    "       shadow = True,\n",
    "       startangle = 90,\n",
    "       radius = 3\n",
    "       )\n",
    "plt.show()  "
   ]
  },
  {
   "cell_type": "markdown",
   "id": "f9c7ee7d",
   "metadata": {},
   "source": [
    "**Los destinos principales son Buenos Aires 9,3%, Antofagasta 8,5%, Lima 7,7% y Calama con un 7,5% del total de vuelos**"
   ]
  },
  {
   "cell_type": "code",
   "execution_count": 15,
   "id": "d75e93ad-40ce-476a-8041-dc0c2bb3bd25",
   "metadata": {},
   "outputs": [
    {
     "data": {
      "text/html": [
       "<div>\n",
       "<style scoped>\n",
       "    .dataframe tbody tr th:only-of-type {\n",
       "        vertical-align: middle;\n",
       "    }\n",
       "\n",
       "    .dataframe tbody tr th {\n",
       "        vertical-align: top;\n",
       "    }\n",
       "\n",
       "    .dataframe thead th {\n",
       "        text-align: right;\n",
       "    }\n",
       "</style>\n",
       "<table border=\"1\" class=\"dataframe\">\n",
       "  <thead>\n",
       "    <tr style=\"text-align: right;\">\n",
       "      <th></th>\n",
       "      <th>Porc_Total</th>\n",
       "      <th>n</th>\n",
       "    </tr>\n",
       "    <tr>\n",
       "      <th>OPERA</th>\n",
       "      <th></th>\n",
       "      <th></th>\n",
       "    </tr>\n",
       "  </thead>\n",
       "  <tbody>\n",
       "    <tr>\n",
       "      <th>Grupo LATAM</th>\n",
       "      <td>0.599537</td>\n",
       "      <td>40892</td>\n",
       "    </tr>\n",
       "    <tr>\n",
       "      <th>Sky Airline</th>\n",
       "      <td>0.209630</td>\n",
       "      <td>14298</td>\n",
       "    </tr>\n",
       "    <tr>\n",
       "      <th>Aerolineas Argentinas</th>\n",
       "      <td>0.028575</td>\n",
       "      <td>1949</td>\n",
       "    </tr>\n",
       "    <tr>\n",
       "      <th>Copa Air</th>\n",
       "      <td>0.027124</td>\n",
       "      <td>1850</td>\n",
       "    </tr>\n",
       "    <tr>\n",
       "      <th>Latin American Wings</th>\n",
       "      <td>0.024543</td>\n",
       "      <td>1674</td>\n",
       "    </tr>\n",
       "    <tr>\n",
       "      <th>Avianca</th>\n",
       "      <td>0.016890</td>\n",
       "      <td>1152</td>\n",
       "    </tr>\n",
       "    <tr>\n",
       "      <th>JetSmart SPA</th>\n",
       "      <td>0.016054</td>\n",
       "      <td>1095</td>\n",
       "    </tr>\n",
       "    <tr>\n",
       "      <th>Gol Trans</th>\n",
       "      <td>0.011817</td>\n",
       "      <td>806</td>\n",
       "    </tr>\n",
       "    <tr>\n",
       "      <th>American Airlines</th>\n",
       "      <td>0.011099</td>\n",
       "      <td>757</td>\n",
       "    </tr>\n",
       "  </tbody>\n",
       "</table>\n",
       "</div>"
      ],
      "text/plain": [
       "                       Porc_Total      n\n",
       "OPERA                                   \n",
       "Grupo LATAM              0.599537  40892\n",
       "Sky Airline              0.209630  14298\n",
       "Aerolineas Argentinas    0.028575   1949\n",
       "Copa Air                 0.027124   1850\n",
       "Latin American Wings     0.024543   1674\n",
       "Avianca                  0.016890   1152\n",
       "JetSmart SPA             0.016054   1095\n",
       "Gol Trans                0.011817    806\n",
       "American Airlines        0.011099    757"
      ]
     },
     "execution_count": 15,
     "metadata": {},
     "output_type": "execute_result"
    }
   ],
   "source": [
    "#Aerolineas\n",
    "aerolineas = pd.DataFrame(df.groupby(by = [\"OPERA\"])[\"OPERA\"].count() / 68206)\n",
    "aerolineas.rename(columns = {'OPERA':'Porc_Total'}, inplace = True)\n",
    "aerolineas[\"n\"] = df.groupby(by = [\"OPERA\"])[\"OPERA\"].count()\n",
    "aerolineas = aerolineas.sort_values('n',ascending=False)\n",
    "aerolineas = aerolineas[aerolineas[\"n\"] > 68206*0.01]\n",
    "aerolineas"
   ]
  },
  {
   "cell_type": "code",
   "execution_count": 16,
   "id": "18602895-72f3-4304-adc4-fb1f3a90aed2",
   "metadata": {},
   "outputs": [
    {
     "data": {
      "image/png": "[encoded data removed]",
      "text/plain": [
       "<Figure size 432x288 with 1 Axes>"
      ]
     },
     "metadata": {},
     "output_type": "display_data"
    }
   ],
   "source": [
    "####Aerolineas - piechart\n",
    "data = np.unique(df['OPERA'], return_counts=True)\n",
    "plt.pie(x = data[1], autopct='%.1f%%' ,\n",
    "       labels = data[0],\n",
    "       #colors =  [\"Blue\", \"Red\"],\n",
    "       shadow = True,\n",
    "       startangle = 90,\n",
    "       radius = 3\n",
    "       )\n",
    "plt.show()  \n",
    "\n",
    "#Un 60% de los vuelos fue realizado por Grupo Latam, un 21% por Sky Airline y el resto de aerolineas solo un 19% del total"
   ]
  },
  {
   "cell_type": "code",
   "execution_count": 17,
   "id": "043d0d48-21d3-4faa-9dfe-770d80dfb440",
   "metadata": {
    "tags": []
   },
   "outputs": [
    {
     "data": {
      "text/html": [
       "<div>\n",
       "<style scoped>\n",
       "    .dataframe tbody tr th:only-of-type {\n",
       "        vertical-align: middle;\n",
       "    }\n",
       "\n",
       "    .dataframe tbody tr th {\n",
       "        vertical-align: top;\n",
       "    }\n",
       "\n",
       "    .dataframe thead th {\n",
       "        text-align: right;\n",
       "    }\n",
       "</style>\n",
       "<table border=\"1\" class=\"dataframe\">\n",
       "  <thead>\n",
       "    <tr style=\"text-align: right;\">\n",
       "      <th></th>\n",
       "      <th>Fecha-I</th>\n",
       "      <th>Fecha-O</th>\n",
       "      <th>AÑO</th>\n",
       "      <th>MES</th>\n",
       "      <th>DIA</th>\n",
       "      <th>DIANOM</th>\n",
       "      <th>Fecha_I2</th>\n",
       "    </tr>\n",
       "  </thead>\n",
       "  <tbody>\n",
       "    <tr>\n",
       "      <th>66918</th>\n",
       "      <td>2017-12-31 23:55:00</td>\n",
       "      <td>2018-01-01 00:02:00</td>\n",
       "      <td>2018</td>\n",
       "      <td>1</td>\n",
       "      <td>1</td>\n",
       "      <td>Lunes</td>\n",
       "      <td>2017-12-31 23:55:00</td>\n",
       "    </tr>\n",
       "    <tr>\n",
       "      <th>66947</th>\n",
       "      <td>2017-12-31 23:40:00</td>\n",
       "      <td>2018-01-01 00:12:00</td>\n",
       "      <td>2018</td>\n",
       "      <td>1</td>\n",
       "      <td>1</td>\n",
       "      <td>Lunes</td>\n",
       "      <td>2017-12-31 23:40:00</td>\n",
       "    </tr>\n",
       "  </tbody>\n",
       "</table>\n",
       "</div>"
      ],
      "text/plain": [
       "                   Fecha-I              Fecha-O   AÑO  MES  DIA DIANOM  \\\n",
       "66918  2017-12-31 23:55:00  2018-01-01 00:02:00  2018    1    1  Lunes   \n",
       "66947  2017-12-31 23:40:00  2018-01-01 00:12:00  2018    1    1  Lunes   \n",
       "\n",
       "                 Fecha_I2  \n",
       "66918 2017-12-31 23:55:00  \n",
       "66947 2017-12-31 23:40:00  "
      ]
     },
     "execution_count": 17,
     "metadata": {},
     "output_type": "execute_result"
    }
   ],
   "source": [
    "#Año\n",
    "df[df[\"AÑO\"] == 2018][[\"Fecha-I\", \"Fecha-O\", \"AÑO\", \"MES\", \"DIA\", \"DIANOM\", \"Fecha_I2\"]]"
   ]
  },
  {
   "cell_type": "code",
   "execution_count": 18,
   "id": "bdda0685-4204-4e07-91c7-bf28aaccedbb",
   "metadata": {},
   "outputs": [],
   "source": [
    "#MES y día\n",
    "df[\"MES_I\"] = pd.to_numeric(df['Fecha_I2'].astype(str).str[5:7])\n",
    "#df[df[\"MES\"] != df[\"MES_I\"]][[\"MES_I\", \"Fecha-I\", \"Fecha-O\"]] - 9 casos, pero se puede calcular\n",
    "\n",
    "df[\"DIA_I\"] = pd.to_numeric(df['Fecha_I2'].astype(str).str[8:10])\n",
    "#df[df[\"DIA\"] != df[\"DIA_I\"]][[\"DIA\",\"DIA_I\", \"DIANOM\", \"Fecha-I\", \"Fecha-O\"]] - 306 Casos\n"
   ]
  },
  {
   "cell_type": "markdown",
   "id": "0c141408-f8f0-417c-8ee0-4f695d20bd6d",
   "metadata": {
    "tags": []
   },
   "source": [
    "**Las variables AÑO, MES, DIA y DIANOM, están calculadas con respecto a la Fecha y hora de operación del vuelo en lugar de la programada, si se quieren utilizar para predecir o estudiar cómo se compone la tasa de atraso por destino se deben calcular nuevamente**"
   ]
  },
  {
   "cell_type": "code",
   "execution_count": 19,
   "id": "1abd1953-6248-4257-a365-ed603179a6f5",
   "metadata": {},
   "outputs": [
    {
     "data": {
      "text/plain": [
       "Des-I       28\n",
       "Des-O       28\n",
       "SIGLADES    28\n",
       "dtype: int64"
      ]
     },
     "execution_count": 19,
     "metadata": {},
     "output_type": "execute_result"
    }
   ],
   "source": [
    "#Diferentes Destinos\n",
    "df[df[\"Des-I\"] != df[\"Des-O\"]][[\"Des-I\", \"Des-O\", \"SIGLADES\"]].count()"
   ]
  },
  {
   "cell_type": "code",
   "execution_count": 20,
   "id": "952681ed-06e5-45f8-b1e5-1a6fb7f5b0e1",
   "metadata": {},
   "outputs": [
    {
     "data": {
      "text/html": [
       "<div>\n",
       "<style scoped>\n",
       "    .dataframe tbody tr th:only-of-type {\n",
       "        vertical-align: middle;\n",
       "    }\n",
       "\n",
       "    .dataframe tbody tr th {\n",
       "        vertical-align: top;\n",
       "    }\n",
       "\n",
       "    .dataframe thead th {\n",
       "        text-align: right;\n",
       "    }\n",
       "</style>\n",
       "<table border=\"1\" class=\"dataframe\">\n",
       "  <thead>\n",
       "    <tr style=\"text-align: right;\">\n",
       "      <th></th>\n",
       "      <th>DIA</th>\n",
       "      <th>MES</th>\n",
       "      <th>AÑO</th>\n",
       "      <th>Retraso</th>\n",
       "      <th>MES_I</th>\n",
       "      <th>DIA_I</th>\n",
       "    </tr>\n",
       "  </thead>\n",
       "  <tbody>\n",
       "    <tr>\n",
       "      <th>count</th>\n",
       "      <td>68178.000000</td>\n",
       "      <td>68178.000000</td>\n",
       "      <td>68178.000000</td>\n",
       "      <td>68178.000000</td>\n",
       "      <td>68178.000000</td>\n",
       "      <td>68178.000000</td>\n",
       "    </tr>\n",
       "    <tr>\n",
       "      <th>mean</th>\n",
       "      <td>15.715788</td>\n",
       "      <td>6.622679</td>\n",
       "      <td>2017.000029</td>\n",
       "      <td>0.006322</td>\n",
       "      <td>6.622899</td>\n",
       "      <td>15.715333</td>\n",
       "    </tr>\n",
       "    <tr>\n",
       "      <th>std</th>\n",
       "      <td>8.783224</td>\n",
       "      <td>3.523311</td>\n",
       "      <td>0.005416</td>\n",
       "      <td>0.013400</td>\n",
       "      <td>3.523366</td>\n",
       "      <td>8.783564</td>\n",
       "    </tr>\n",
       "    <tr>\n",
       "      <th>min</th>\n",
       "      <td>1.000000</td>\n",
       "      <td>1.000000</td>\n",
       "      <td>2017.000000</td>\n",
       "      <td>-0.009722</td>\n",
       "      <td>1.000000</td>\n",
       "      <td>1.000000</td>\n",
       "    </tr>\n",
       "    <tr>\n",
       "      <th>25%</th>\n",
       "      <td>8.000000</td>\n",
       "      <td>3.000000</td>\n",
       "      <td>2017.000000</td>\n",
       "      <td>-0.000694</td>\n",
       "      <td>3.000000</td>\n",
       "      <td>8.000000</td>\n",
       "    </tr>\n",
       "    <tr>\n",
       "      <th>50%</th>\n",
       "      <td>16.000000</td>\n",
       "      <td>7.000000</td>\n",
       "      <td>2017.000000</td>\n",
       "      <td>0.002778</td>\n",
       "      <td>7.000000</td>\n",
       "      <td>16.000000</td>\n",
       "    </tr>\n",
       "    <tr>\n",
       "      <th>75%</th>\n",
       "      <td>23.000000</td>\n",
       "      <td>10.000000</td>\n",
       "      <td>2017.000000</td>\n",
       "      <td>0.008333</td>\n",
       "      <td>10.000000</td>\n",
       "      <td>23.000000</td>\n",
       "    </tr>\n",
       "    <tr>\n",
       "      <th>max</th>\n",
       "      <td>31.000000</td>\n",
       "      <td>12.000000</td>\n",
       "      <td>2018.000000</td>\n",
       "      <td>0.111806</td>\n",
       "      <td>12.000000</td>\n",
       "      <td>31.000000</td>\n",
       "    </tr>\n",
       "  </tbody>\n",
       "</table>\n",
       "</div>"
      ],
      "text/plain": [
       "                DIA           MES           AÑO       Retraso         MES_I  \\\n",
       "count  68178.000000  68178.000000  68178.000000  68178.000000  68178.000000   \n",
       "mean      15.715788      6.622679   2017.000029      0.006322      6.622899   \n",
       "std        8.783224      3.523311      0.005416      0.013400      3.523366   \n",
       "min        1.000000      1.000000   2017.000000     -0.009722      1.000000   \n",
       "25%        8.000000      3.000000   2017.000000     -0.000694      3.000000   \n",
       "50%       16.000000      7.000000   2017.000000      0.002778      7.000000   \n",
       "75%       23.000000     10.000000   2017.000000      0.008333     10.000000   \n",
       "max       31.000000     12.000000   2018.000000      0.111806     12.000000   \n",
       "\n",
       "              DIA_I  \n",
       "count  68178.000000  \n",
       "mean      15.715333  \n",
       "std        8.783564  \n",
       "min        1.000000  \n",
       "25%        8.000000  \n",
       "50%       16.000000  \n",
       "75%       23.000000  \n",
       "max       31.000000  "
      ]
     },
     "execution_count": 20,
     "metadata": {},
     "output_type": "execute_result"
    }
   ],
   "source": [
    "#Destino programado distinto al Destino operado - supongo que es un error en los registros, se eliminan de la base de análisis\n",
    "df[df[\"Des-I\"] != df[\"Des-O\"]][[\"Des-I\", \"Des-O\", \"SIGLADES\"]]\n",
    "df = df[df[\"Des-I\"] == df[\"Des-O\"]]\n",
    "df.describe()"
   ]
  },
  {
   "cell_type": "code",
   "execution_count": 21,
   "id": "49e87f47-266c-485e-a6f6-002cb2051e4b",
   "metadata": {},
   "outputs": [
    {
     "data": {
      "text/plain": [
       "Des-I    0.0\n",
       "dtype: float64"
      ]
     },
     "execution_count": 21,
     "metadata": {},
     "output_type": "execute_result"
    }
   ],
   "source": [
    "#Destino programado distinto al Destino operado\n",
    "df[df[\"Des-I\"] != df[\"Des-O\"]][[\"Des-I\"]].count()/df[[\"Des-I\"]].count() "
   ]
  },
  {
   "cell_type": "markdown",
   "id": "61823977-828d-43d1-b8ab-0a9792542eff",
   "metadata": {},
   "source": [
    "**Supongo que la diferencia entre el destino programado y el operado se debe a error en los registros, se elimina los 28 registros con problemas de la base de análisis**"
   ]
  },
  {
   "cell_type": "markdown",
   "id": "c936cc62-47c5-44ed-9b6b-6a56ba3354a6",
   "metadata": {},
   "source": [
    "# **2) Genera las columnas adicionales y luego expórtelas en un archivo synthetic_features.csv**"
   ]
  },
  {
   "cell_type": "code",
   "execution_count": 22,
   "id": "10057625-575c-49cb-86de-03711b697d72",
   "metadata": {},
   "outputs": [],
   "source": [
    "################## 2 synthetic_features.csv \n",
    "\n",
    "## Temporada Alta\n",
    "df['mesdia'] = df[\"MES_I\"]*100+df[\"DIA_I\"]\n",
    "#df[[\"mesdia\",\"MES_I\",\"DIA_I\", 'Fecha_I2']].head(30)\n",
    "#df[df[\"MES_I\"] != df[\"MES\"]][[\"mesdia\",\"MES_I\", \"MES\",\"DIA_I\", 'Fecha_I2', \"Fecha-I\"]].head(30)\n",
    "\n",
    "df['temporada_alta'] = np.where(\n",
    "     df['mesdia'].between(1215, 1531, inclusive='both'),  1,  #Si está entre el 15 y el 31 de diciembre es temporada alta - Supongo ambas fechas inclusive\n",
    "     \n",
    "     np.where(\n",
    "        df['mesdia'].between(101, 303, inclusive='both'), 1,  #Si está entre el 01 de enero y el 03 de marzo es temporada alta - Supongo ambas fechas inclusive\n",
    "     \n",
    "     np.where(\n",
    "        df['mesdia'].between(715, 731, inclusive='both'), 1,  #Si está entre el 15 y el 31 de julio es temporada alta - Supongo ambas fechas inclusive\n",
    "     \n",
    "     np.where(\n",
    "        df['mesdia'].between(911, 930, inclusive='both'), 1,  #Si está entre el 11 y el 30 de septiembre es temporada alta - Supongo ambas fechas inclusive\n",
    "         0                                                  #Si no cumple ninguna de las condiciones anteriores entonces no es temporada alta\n",
    "         \n",
    "         \n",
    "     )\n",
    ")))\n",
    "\n",
    "#tab = df.groupby(['temporada_alta', 'mesdia']).size() - verificacion\n",
    "#tab - prueba\n",
    "\n",
    "##Dif min\n",
    "df[\"dif_min\"] = (df[\"Fecha_O2\"] - df[\"Fecha_I2\"]) / np.timedelta64(1, 'm')\n",
    "#df[[\"dif_min\", \"Retraso\", \"Fecha_I2\", \"Fecha_O2\"]] - verificacion\n",
    "\n",
    "##Atraso 15\n",
    "df[\"atraso_15\"] = np.where(df[\"dif_min\"] > 15, 1, 0)\n",
    "#df.groupby(by = [\"atraso_15\", \"dif_min\"]).size().head(40)  \n",
    "\n",
    "##Periodo día\n",
    "df[\"horamin\"] = pd.to_numeric(df['Fecha_I2'].astype(str).str[11:13])*100  + pd.to_numeric(df['Fecha_I2'].astype(str).str[14:16])\n",
    "#df[[\"horamin\", \"Fecha_I2\"]][9000:9010] - verificacion\n",
    "\n",
    "df[\"periodo_dia\"] = np.where(\n",
    "     df['horamin'].between(500, 1159, inclusive='both'),  'mañana',  #Si está entre las 5:00 y las 11:59 es de mañana \n",
    "     \n",
    "     np.where(\n",
    "        df['horamin'].between(1200, 1859, inclusive='both'), 'tarde',  #Si está entre las 5:00 y las 11:59 es de mañana \n",
    "     \n",
    "     np.where(\n",
    "        df['horamin'].between(1900, 2400, inclusive='both'), 'noche',  #Si está entre las 19:00 y las 24:00 es de noche \n",
    "     \n",
    "     np.where(\n",
    "        df['horamin'].between(0000, 459, inclusive='both'), 'noche',  #Si está entre las 00:00 y las 4:59 es de mañana \n",
    "         'error'                                                  #Si no cumple ninguna de las condiciones anteriores entonces es un error\n",
    "         \n",
    "         \n",
    "     )\n",
    ")))\n",
    "#df[[\"periodo_dia\", \"horamin\", \"Fecha-I\"]]  - verificacion\n",
    "#df.groupby(by = [\"periodo_dia\"]).size() #- verificacion\n",
    "\n",
    "\n",
    "####Exportar a csv delimitado por |\n",
    "#Si quisiera exportar el archivo completo\n",
    "df.to_csv(\"C:/Users/patri/challenge_ntt/synthetic_features.csv\", index = False,sep = '|', encoding = 'utf-8') \n",
    "\n",
    "#Si quisiera exportar solo las columnas creadas\n",
    "#df[[\"temporada_alta\", \"dif_min\", \"atraso_15\", \"periodo_dia\"]].to_csv(\"C:/Users/patri/challenge_ntt/synthetic_features.csv\", index = False,sep = '|', encoding = 'utf-8') \n",
    "\n"
   ]
  },
  {
   "cell_type": "markdown",
   "id": "73872390-e58f-4e92-9019-7c6465a6b0eb",
   "metadata": {},
   "source": [
    "# **3) ¿Cómo se compone la tasa de atraso por destino, aerolínea, mes del año, día de la semana, temporada, tipo de vuelo? ¿Qué variables esperarías que más influyeran en predecir atrasos?**"
   ]
  },
  {
   "cell_type": "code",
   "execution_count": 23,
   "id": "216b9289",
   "metadata": {
    "tags": []
   },
   "outputs": [
    {
     "data": {
      "text/plain": [
       "Text(0, 0.5, 'Ciudades')"
      ]
     },
     "execution_count": 23,
     "metadata": {},
     "output_type": "execute_result"
    },
    {
     "data": {
      "image/png": "[encoded data removed]",
      "text/plain": [
       "<Figure size 360x1080 with 1 Axes>"
      ]
     },
     "metadata": {
      "needs_background": "light"
     },
     "output_type": "display_data"
    }
   ],
   "source": [
    "#Tasa de atrasos por destino\n",
    "br_destino = pd.DataFrame(df.groupby(by = [\"SIGLADES\"])[\"atraso_15\"].sum() / df.groupby(by = [\"SIGLADES\"])[\"atraso_15\"].count())\n",
    "br_destino[\"n\"] = df.groupby(by = [\"SIGLADES\"])[\"atraso_15\"].count()\n",
    "br_destino = br_destino.sort_values('atraso_15',ascending=False)\n",
    "br_destino_plot = br_destino[br_destino[\"n\"] > df[\"Fecha-I\"].size*0.01] #Solo para visualizar mejor, se considera  destinos con más de 1% del total\n",
    "\n",
    "br_destino_plot[\"atraso_15\"].plot(kind='barh', figsize=(5,15))\n",
    "plt.title('Tasa de atraso_15 por Ciudad Destino (Destinos con más de 1% del Total)')\n",
    "plt.xlabel('Tasa Atraso')\n",
    "plt.ylabel('Ciudades')"
   ]
  },
  {
   "cell_type": "code",
   "execution_count": 24,
   "id": "c0ec8c49-df76-4492-8b5e-cb34fc881101",
   "metadata": {
    "tags": []
   },
   "outputs": [
    {
     "data": {
      "text/html": [
       "<div>\n",
       "<style scoped>\n",
       "    .dataframe tbody tr th:only-of-type {\n",
       "        vertical-align: middle;\n",
       "    }\n",
       "\n",
       "    .dataframe tbody tr th {\n",
       "        vertical-align: top;\n",
       "    }\n",
       "\n",
       "    .dataframe thead th {\n",
       "        text-align: right;\n",
       "    }\n",
       "</style>\n",
       "<table border=\"1\" class=\"dataframe\">\n",
       "  <thead>\n",
       "    <tr style=\"text-align: right;\">\n",
       "      <th></th>\n",
       "      <th>atraso_15</th>\n",
       "      <th>n</th>\n",
       "    </tr>\n",
       "    <tr>\n",
       "      <th>SIGLADES</th>\n",
       "      <th></th>\n",
       "      <th></th>\n",
       "    </tr>\n",
       "  </thead>\n",
       "  <tbody>\n",
       "    <tr>\n",
       "      <th>Cordoba</th>\n",
       "      <td>0.301075</td>\n",
       "      <td>1023</td>\n",
       "    </tr>\n",
       "    <tr>\n",
       "      <th>Rio de Janeiro</th>\n",
       "      <td>0.282427</td>\n",
       "      <td>1434</td>\n",
       "    </tr>\n",
       "    <tr>\n",
       "      <th>Mendoza</th>\n",
       "      <td>0.272615</td>\n",
       "      <td>1625</td>\n",
       "    </tr>\n",
       "    <tr>\n",
       "      <th>Bogota</th>\n",
       "      <td>0.258728</td>\n",
       "      <td>1604</td>\n",
       "    </tr>\n",
       "    <tr>\n",
       "      <th>Buenos Aires</th>\n",
       "      <td>0.255571</td>\n",
       "      <td>6327</td>\n",
       "    </tr>\n",
       "    <tr>\n",
       "      <th>Sao Paulo</th>\n",
       "      <td>0.246848</td>\n",
       "      <td>3569</td>\n",
       "    </tr>\n",
       "    <tr>\n",
       "      <th>Lima</th>\n",
       "      <td>0.230361</td>\n",
       "      <td>5270</td>\n",
       "    </tr>\n",
       "    <tr>\n",
       "      <th>Montevideo</th>\n",
       "      <td>0.206379</td>\n",
       "      <td>1066</td>\n",
       "    </tr>\n",
       "    <tr>\n",
       "      <th>Madrid</th>\n",
       "      <td>0.190157</td>\n",
       "      <td>894</td>\n",
       "    </tr>\n",
       "    <tr>\n",
       "      <th>Miami</th>\n",
       "      <td>0.190148</td>\n",
       "      <td>1015</td>\n",
       "    </tr>\n",
       "    <tr>\n",
       "      <th>Iquique</th>\n",
       "      <td>0.170803</td>\n",
       "      <td>3747</td>\n",
       "    </tr>\n",
       "    <tr>\n",
       "      <th>Puerto Montt</th>\n",
       "      <td>0.168467</td>\n",
       "      <td>4351</td>\n",
       "    </tr>\n",
       "    <tr>\n",
       "      <th>La Serena</th>\n",
       "      <td>0.161826</td>\n",
       "      <td>2410</td>\n",
       "    </tr>\n",
       "    <tr>\n",
       "      <th>Concepcion</th>\n",
       "      <td>0.156023</td>\n",
       "      <td>3993</td>\n",
       "    </tr>\n",
       "    <tr>\n",
       "      <th>Valdivia</th>\n",
       "      <td>0.155378</td>\n",
       "      <td>753</td>\n",
       "    </tr>\n",
       "    <tr>\n",
       "      <th>Temuco</th>\n",
       "      <td>0.155246</td>\n",
       "      <td>2583</td>\n",
       "    </tr>\n",
       "    <tr>\n",
       "      <th>Punta Arenas</th>\n",
       "      <td>0.153992</td>\n",
       "      <td>2104</td>\n",
       "    </tr>\n",
       "    <tr>\n",
       "      <th>Balmaceda</th>\n",
       "      <td>0.146603</td>\n",
       "      <td>839</td>\n",
       "    </tr>\n",
       "    <tr>\n",
       "      <th>Antofagasta</th>\n",
       "      <td>0.146388</td>\n",
       "      <td>5786</td>\n",
       "    </tr>\n",
       "    <tr>\n",
       "      <th>Copiapo</th>\n",
       "      <td>0.135955</td>\n",
       "      <td>1780</td>\n",
       "    </tr>\n",
       "    <tr>\n",
       "      <th>Arica</th>\n",
       "      <td>0.135468</td>\n",
       "      <td>2436</td>\n",
       "    </tr>\n",
       "    <tr>\n",
       "      <th>Calama</th>\n",
       "      <td>0.122255</td>\n",
       "      <td>5145</td>\n",
       "    </tr>\n",
       "    <tr>\n",
       "      <th>Ciudad de Mexico</th>\n",
       "      <td>0.094286</td>\n",
       "      <td>700</td>\n",
       "    </tr>\n",
       "    <tr>\n",
       "      <th>Ciudad de Panama</th>\n",
       "      <td>0.062703</td>\n",
       "      <td>1850</td>\n",
       "    </tr>\n",
       "  </tbody>\n",
       "</table>\n",
       "</div>"
      ],
      "text/plain": [
       "                  atraso_15     n\n",
       "SIGLADES                         \n",
       "Cordoba            0.301075  1023\n",
       "Rio de Janeiro     0.282427  1434\n",
       "Mendoza            0.272615  1625\n",
       "Bogota             0.258728  1604\n",
       "Buenos Aires       0.255571  6327\n",
       "Sao Paulo          0.246848  3569\n",
       "Lima               0.230361  5270\n",
       "Montevideo         0.206379  1066\n",
       "Madrid             0.190157   894\n",
       "Miami              0.190148  1015\n",
       "Iquique            0.170803  3747\n",
       "Puerto Montt       0.168467  4351\n",
       "La Serena          0.161826  2410\n",
       "Concepcion         0.156023  3993\n",
       "Valdivia           0.155378   753\n",
       "Temuco             0.155246  2583\n",
       "Punta Arenas       0.153992  2104\n",
       "Balmaceda          0.146603   839\n",
       "Antofagasta        0.146388  5786\n",
       "Copiapo            0.135955  1780\n",
       "Arica              0.135468  2436\n",
       "Calama             0.122255  5145\n",
       "Ciudad de Mexico   0.094286   700\n",
       "Ciudad de Panama   0.062703  1850"
      ]
     },
     "execution_count": 24,
     "metadata": {},
     "output_type": "execute_result"
    }
   ],
   "source": [
    "br_destino_plot"
   ]
  },
  {
   "cell_type": "code",
   "execution_count": 25,
   "id": "5e8e9d23-d93c-4a29-ac7c-ed874e9eb7af",
   "metadata": {
    "tags": []
   },
   "outputs": [
    {
     "data": {
      "text/plain": [
       "0.9138431752178122"
      ]
     },
     "execution_count": 25,
     "metadata": {},
     "output_type": "execute_result"
    }
   ],
   "source": [
    "sum(br_destino_plot[\"n\"])/df[\"SIGLADES\"].count()"
   ]
  },
  {
   "cell_type": "code",
   "execution_count": 26,
   "id": "95634162-cf42-414c-95e9-a94e3b0d458a",
   "metadata": {
    "tags": []
   },
   "outputs": [
    {
     "data": {
      "text/html": [
       "<div>\n",
       "<style scoped>\n",
       "    .dataframe tbody tr th:only-of-type {\n",
       "        vertical-align: middle;\n",
       "    }\n",
       "\n",
       "    .dataframe tbody tr th {\n",
       "        vertical-align: top;\n",
       "    }\n",
       "\n",
       "    .dataframe thead th {\n",
       "        text-align: right;\n",
       "    }\n",
       "</style>\n",
       "<table border=\"1\" class=\"dataframe\">\n",
       "  <thead>\n",
       "    <tr style=\"text-align: right;\">\n",
       "      <th></th>\n",
       "      <th>atraso_15</th>\n",
       "      <th>n</th>\n",
       "    </tr>\n",
       "  </thead>\n",
       "  <tbody>\n",
       "    <tr>\n",
       "      <th>count</th>\n",
       "      <td>24.000000</td>\n",
       "      <td>24.00000</td>\n",
       "    </tr>\n",
       "    <tr>\n",
       "      <th>mean</th>\n",
       "      <td>0.183321</td>\n",
       "      <td>2596.00000</td>\n",
       "    </tr>\n",
       "    <tr>\n",
       "      <th>std</th>\n",
       "      <td>0.061470</td>\n",
       "      <td>1746.29247</td>\n",
       "    </tr>\n",
       "    <tr>\n",
       "      <th>min</th>\n",
       "      <td>0.062703</td>\n",
       "      <td>700.00000</td>\n",
       "    </tr>\n",
       "    <tr>\n",
       "      <th>25%</th>\n",
       "      <td>0.146549</td>\n",
       "      <td>1055.25000</td>\n",
       "    </tr>\n",
       "    <tr>\n",
       "      <th>50%</th>\n",
       "      <td>0.165146</td>\n",
       "      <td>1977.00000</td>\n",
       "    </tr>\n",
       "    <tr>\n",
       "      <th>75%</th>\n",
       "      <td>0.234482</td>\n",
       "      <td>3808.50000</td>\n",
       "    </tr>\n",
       "    <tr>\n",
       "      <th>max</th>\n",
       "      <td>0.301075</td>\n",
       "      <td>6327.00000</td>\n",
       "    </tr>\n",
       "  </tbody>\n",
       "</table>\n",
       "</div>"
      ],
      "text/plain": [
       "       atraso_15           n\n",
       "count  24.000000    24.00000\n",
       "mean    0.183321  2596.00000\n",
       "std     0.061470  1746.29247\n",
       "min     0.062703   700.00000\n",
       "25%     0.146549  1055.25000\n",
       "50%     0.165146  1977.00000\n",
       "75%     0.234482  3808.50000\n",
       "max     0.301075  6327.00000"
      ]
     },
     "execution_count": 26,
     "metadata": {},
     "output_type": "execute_result"
    }
   ],
   "source": [
    "br_destino_plot.describe()"
   ]
  },
  {
   "cell_type": "markdown",
   "id": "15c0d1ea-10aa-4d3c-a5ea-ad350ed2aee2",
   "metadata": {},
   "source": [
    "**Existen 24 destinos con un peso mayor al 1% de la muestra que van desde el 30,11% de a un 6,27% de Bad Rate, estos 24 destinos representan un 91,38% del total de registros, por lo que se esperaría que sea una variable influyente para predecir el retraso**"
   ]
  },
  {
   "cell_type": "code",
   "execution_count": 27,
   "id": "92fe3393-9640-463c-bfd8-646d27ba4a8b",
   "metadata": {
    "tags": []
   },
   "outputs": [
    {
     "data": {
      "text/plain": [
       "Text(0, 0.5, 'Aerolíneas')"
      ]
     },
     "execution_count": 27,
     "metadata": {},
     "output_type": "execute_result"
    },
    {
     "data": {
      "image/png": "[encoded data removed]",
      "text/plain": [
       "<Figure size 360x1080 with 1 Axes>"
      ]
     },
     "metadata": {
      "needs_background": "light"
     },
     "output_type": "display_data"
    }
   ],
   "source": [
    "#Tasa de atrasos por aerolinea\n",
    "br_aerolinea = pd.DataFrame(df.groupby(by = [\"OPERA\"])[\"atraso_15\"].sum() / df.groupby(by = [\"OPERA\"])[\"atraso_15\"].count())\n",
    "br_aerolinea[\"n\"] = df.groupby(by = [\"OPERA\"])[\"atraso_15\"].count()\n",
    "br_aerolinea = br_aerolinea.sort_values('atraso_15',ascending=False)\n",
    "br_aerolinea_plot = br_aerolinea[br_aerolinea[\"n\"] > df[\"Fecha-I\"].size*0.01]\n",
    "\n",
    "br_aerolinea_plot[\"atraso_15\"].plot(kind='barh', figsize=(5,15))\n",
    "plt.title('Tasa de atraso_15 por Aerolínea (Aerolíneas con más del 1% del total)')\n",
    "plt.xlabel('Tasa Atraso')\n",
    "plt.ylabel('Aerolíneas')"
   ]
  },
  {
   "cell_type": "code",
   "execution_count": 28,
   "id": "66985db0-69f2-4538-aa4d-9a1a078dc37a",
   "metadata": {
    "tags": []
   },
   "outputs": [
    {
     "data": {
      "text/html": [
       "<div>\n",
       "<style scoped>\n",
       "    .dataframe tbody tr th:only-of-type {\n",
       "        vertical-align: middle;\n",
       "    }\n",
       "\n",
       "    .dataframe tbody tr th {\n",
       "        vertical-align: top;\n",
       "    }\n",
       "\n",
       "    .dataframe thead th {\n",
       "        text-align: right;\n",
       "    }\n",
       "</style>\n",
       "<table border=\"1\" class=\"dataframe\">\n",
       "  <thead>\n",
       "    <tr style=\"text-align: right;\">\n",
       "      <th></th>\n",
       "      <th>atraso_15</th>\n",
       "      <th>n</th>\n",
       "    </tr>\n",
       "    <tr>\n",
       "      <th>OPERA</th>\n",
       "      <th></th>\n",
       "      <th></th>\n",
       "    </tr>\n",
       "  </thead>\n",
       "  <tbody>\n",
       "    <tr>\n",
       "      <th>Latin American Wings</th>\n",
       "      <td>0.406455</td>\n",
       "      <td>1673</td>\n",
       "    </tr>\n",
       "    <tr>\n",
       "      <th>Gol Trans</th>\n",
       "      <td>0.356522</td>\n",
       "      <td>805</td>\n",
       "    </tr>\n",
       "    <tr>\n",
       "      <th>Avianca</th>\n",
       "      <td>0.265625</td>\n",
       "      <td>1152</td>\n",
       "    </tr>\n",
       "    <tr>\n",
       "      <th>Aerolineas Argentinas</th>\n",
       "      <td>0.240123</td>\n",
       "      <td>1949</td>\n",
       "    </tr>\n",
       "    <tr>\n",
       "      <th>JetSmart SPA</th>\n",
       "      <td>0.178995</td>\n",
       "      <td>1095</td>\n",
       "    </tr>\n",
       "    <tr>\n",
       "      <th>Grupo LATAM</th>\n",
       "      <td>0.178622</td>\n",
       "      <td>40874</td>\n",
       "    </tr>\n",
       "    <tr>\n",
       "      <th>Sky Airline</th>\n",
       "      <td>0.177582</td>\n",
       "      <td>14292</td>\n",
       "    </tr>\n",
       "    <tr>\n",
       "      <th>American Airlines</th>\n",
       "      <td>0.067371</td>\n",
       "      <td>757</td>\n",
       "    </tr>\n",
       "    <tr>\n",
       "      <th>Copa Air</th>\n",
       "      <td>0.062703</td>\n",
       "      <td>1850</td>\n",
       "    </tr>\n",
       "  </tbody>\n",
       "</table>\n",
       "</div>"
      ],
      "text/plain": [
       "                       atraso_15      n\n",
       "OPERA                                  \n",
       "Latin American Wings    0.406455   1673\n",
       "Gol Trans               0.356522    805\n",
       "Avianca                 0.265625   1152\n",
       "Aerolineas Argentinas   0.240123   1949\n",
       "JetSmart SPA            0.178995   1095\n",
       "Grupo LATAM             0.178622  40874\n",
       "Sky Airline             0.177582  14292\n",
       "American Airlines       0.067371    757\n",
       "Copa Air                0.062703   1850"
      ]
     },
     "execution_count": 28,
     "metadata": {},
     "output_type": "execute_result"
    }
   ],
   "source": [
    "br_aerolinea_plot"
   ]
  },
  {
   "cell_type": "code",
   "execution_count": 29,
   "id": "7e6459b7-2165-4997-a67a-13be6a949bd9",
   "metadata": {},
   "outputs": [
    {
     "data": {
      "text/plain": [
       "0.9452756021003843"
      ]
     },
     "execution_count": 29,
     "metadata": {},
     "output_type": "execute_result"
    }
   ],
   "source": [
    "sum(br_aerolinea_plot[\"n\"])/df[\"SIGLADES\"].count()"
   ]
  },
  {
   "cell_type": "code",
   "execution_count": 30,
   "id": "91466e83-741b-4133-8f3e-d0d7bd057509",
   "metadata": {},
   "outputs": [
    {
     "data": {
      "text/html": [
       "<div>\n",
       "<style scoped>\n",
       "    .dataframe tbody tr th:only-of-type {\n",
       "        vertical-align: middle;\n",
       "    }\n",
       "\n",
       "    .dataframe tbody tr th {\n",
       "        vertical-align: top;\n",
       "    }\n",
       "\n",
       "    .dataframe thead th {\n",
       "        text-align: right;\n",
       "    }\n",
       "</style>\n",
       "<table border=\"1\" class=\"dataframe\">\n",
       "  <thead>\n",
       "    <tr style=\"text-align: right;\">\n",
       "      <th></th>\n",
       "      <th>atraso_15</th>\n",
       "      <th>n</th>\n",
       "    </tr>\n",
       "  </thead>\n",
       "  <tbody>\n",
       "    <tr>\n",
       "      <th>count</th>\n",
       "      <td>9.000000</td>\n",
       "      <td>9.000000</td>\n",
       "    </tr>\n",
       "    <tr>\n",
       "      <th>mean</th>\n",
       "      <td>0.214889</td>\n",
       "      <td>7160.777778</td>\n",
       "    </tr>\n",
       "    <tr>\n",
       "      <th>std</th>\n",
       "      <td>0.116665</td>\n",
       "      <td>13356.747955</td>\n",
       "    </tr>\n",
       "    <tr>\n",
       "      <th>min</th>\n",
       "      <td>0.062703</td>\n",
       "      <td>757.000000</td>\n",
       "    </tr>\n",
       "    <tr>\n",
       "      <th>25%</th>\n",
       "      <td>0.177582</td>\n",
       "      <td>1095.000000</td>\n",
       "    </tr>\n",
       "    <tr>\n",
       "      <th>50%</th>\n",
       "      <td>0.178995</td>\n",
       "      <td>1673.000000</td>\n",
       "    </tr>\n",
       "    <tr>\n",
       "      <th>75%</th>\n",
       "      <td>0.265625</td>\n",
       "      <td>1949.000000</td>\n",
       "    </tr>\n",
       "    <tr>\n",
       "      <th>max</th>\n",
       "      <td>0.406455</td>\n",
       "      <td>40874.000000</td>\n",
       "    </tr>\n",
       "  </tbody>\n",
       "</table>\n",
       "</div>"
      ],
      "text/plain": [
       "       atraso_15             n\n",
       "count   9.000000      9.000000\n",
       "mean    0.214889   7160.777778\n",
       "std     0.116665  13356.747955\n",
       "min     0.062703    757.000000\n",
       "25%     0.177582   1095.000000\n",
       "50%     0.178995   1673.000000\n",
       "75%     0.265625   1949.000000\n",
       "max     0.406455  40874.000000"
      ]
     },
     "execution_count": 30,
     "metadata": {},
     "output_type": "execute_result"
    }
   ],
   "source": [
    "br_aerolinea_plot.describe()"
   ]
  },
  {
   "cell_type": "markdown",
   "id": "abf3bde6-9b13-4653-9d6c-e62536e7d5b3",
   "metadata": {},
   "source": [
    "**Existen 9 aerolineas con un peso mayor al 1% de la muestra que van desde el 40,65% de a un 6,27% de Bad Rate, estas 9 aerolíneaa representan un 94,53% del total de registros, pero sabemos que el 81% de los vuelos fueron operados por Grupo LATAM O Sky Airline y ambas están en un rango medio de Bad Rate, por lo que se esperaría que no sea una variable tan influyente para predecir el retraso**"
   ]
  },
  {
   "cell_type": "code",
   "execution_count": 31,
   "id": "117c9a9b-ac8e-457c-acaa-ee224e3ea9b6",
   "metadata": {},
   "outputs": [
    {
     "data": {
      "text/plain": [
       "Text(0, 0.5, 'Ciudades')"
      ]
     },
     "execution_count": 31,
     "metadata": {},
     "output_type": "execute_result"
    },
    {
     "data": {
      "image/png": "[encoded data removed]",
      "text/plain": [
       "<Figure size 360x1080 with 1 Axes>"
      ]
     },
     "metadata": {
      "needs_background": "light"
     },
     "output_type": "display_data"
    }
   ],
   "source": [
    "#Mes del Año\n",
    "br_MES = pd.DataFrame(df.groupby(by = [\"MES_I\"])[\"atraso_15\"].sum() / df.groupby(by = [\"MES_I\"])[\"atraso_15\"].count())\n",
    "br_MES[\"n\"] = df.groupby(by = [\"MES_I\"])[\"atraso_15\"].count()\n",
    "br_MES = br_MES.sort_values('atraso_15',ascending=False)\n",
    "br_MES_plot = br_MES[br_MES[\"n\"] > df[\"Fecha-I\"].size*0.01]\n",
    "\n",
    "br_MES_plot[\"atraso_15\"].plot(kind='barh', figsize=(5,15))\n",
    "plt.title('Tasa de atraso_15 por Mes')\n",
    "plt.xlabel('Tasa Atraso')\n",
    "plt.ylabel('Ciudades')"
   ]
  },
  {
   "cell_type": "code",
   "execution_count": 32,
   "id": "72098fcf-06d7-430e-aa6d-20e8eeb67e06",
   "metadata": {},
   "outputs": [
    {
     "data": {
      "text/html": [
       "<div>\n",
       "<style scoped>\n",
       "    .dataframe tbody tr th:only-of-type {\n",
       "        vertical-align: middle;\n",
       "    }\n",
       "\n",
       "    .dataframe tbody tr th {\n",
       "        vertical-align: top;\n",
       "    }\n",
       "\n",
       "    .dataframe thead th {\n",
       "        text-align: right;\n",
       "    }\n",
       "</style>\n",
       "<table border=\"1\" class=\"dataframe\">\n",
       "  <thead>\n",
       "    <tr style=\"text-align: right;\">\n",
       "      <th></th>\n",
       "      <th>atraso_15</th>\n",
       "      <th>n</th>\n",
       "    </tr>\n",
       "    <tr>\n",
       "      <th>MES_I</th>\n",
       "      <th></th>\n",
       "      <th></th>\n",
       "    </tr>\n",
       "  </thead>\n",
       "  <tbody>\n",
       "    <tr>\n",
       "      <th>7</th>\n",
       "      <td>0.293184</td>\n",
       "      <td>5986</td>\n",
       "    </tr>\n",
       "    <tr>\n",
       "      <th>12</th>\n",
       "      <td>0.254251</td>\n",
       "      <td>6352</td>\n",
       "    </tr>\n",
       "    <tr>\n",
       "      <th>10</th>\n",
       "      <td>0.225833</td>\n",
       "      <td>6031</td>\n",
       "    </tr>\n",
       "    <tr>\n",
       "      <th>11</th>\n",
       "      <td>0.197204</td>\n",
       "      <td>6080</td>\n",
       "    </tr>\n",
       "    <tr>\n",
       "      <th>8</th>\n",
       "      <td>0.173459</td>\n",
       "      <td>5742</td>\n",
       "    </tr>\n",
       "    <tr>\n",
       "      <th>9</th>\n",
       "      <td>0.172371</td>\n",
       "      <td>5610</td>\n",
       "    </tr>\n",
       "    <tr>\n",
       "      <th>6</th>\n",
       "      <td>0.171016</td>\n",
       "      <td>4982</td>\n",
       "    </tr>\n",
       "    <tr>\n",
       "      <th>1</th>\n",
       "      <td>0.160144</td>\n",
       "      <td>6107</td>\n",
       "    </tr>\n",
       "    <tr>\n",
       "      <th>5</th>\n",
       "      <td>0.157784</td>\n",
       "      <td>5235</td>\n",
       "    </tr>\n",
       "    <tr>\n",
       "      <th>2</th>\n",
       "      <td>0.151493</td>\n",
       "      <td>5558</td>\n",
       "    </tr>\n",
       "    <tr>\n",
       "      <th>4</th>\n",
       "      <td>0.116756</td>\n",
       "      <td>5019</td>\n",
       "    </tr>\n",
       "    <tr>\n",
       "      <th>3</th>\n",
       "      <td>0.114682</td>\n",
       "      <td>5476</td>\n",
       "    </tr>\n",
       "  </tbody>\n",
       "</table>\n",
       "</div>"
      ],
      "text/plain": [
       "       atraso_15     n\n",
       "MES_I                 \n",
       "7       0.293184  5986\n",
       "12      0.254251  6352\n",
       "10      0.225833  6031\n",
       "11      0.197204  6080\n",
       "8       0.173459  5742\n",
       "9       0.172371  5610\n",
       "6       0.171016  4982\n",
       "1       0.160144  6107\n",
       "5       0.157784  5235\n",
       "2       0.151493  5558\n",
       "4       0.116756  5019\n",
       "3       0.114682  5476"
      ]
     },
     "execution_count": 32,
     "metadata": {},
     "output_type": "execute_result"
    }
   ],
   "source": [
    "br_MES_plot"
   ]
  },
  {
   "cell_type": "markdown",
   "id": "1993dcb2-55e3-411f-8186-fe7c36247b26",
   "metadata": {},
   "source": [
    "**Se observa Tasa de Malos desde un 29,31% el peor mes hasta un 11,47% el peor, por lo que se espera que sea una variable influyente en el Modelo**"
   ]
  },
  {
   "cell_type": "code",
   "execution_count": 33,
   "id": "a03044eb-b7c5-4af8-918a-6c0283d8a70c",
   "metadata": {},
   "outputs": [
    {
     "data": {
      "text/plain": [
       "Text(0, 0.5, 'Día de la Semana')"
      ]
     },
     "execution_count": 33,
     "metadata": {},
     "output_type": "execute_result"
    },
    {
     "data": {
      "image/png": "[encoded data removed]",
      "text/plain": [
       "<Figure size 360x1080 with 1 Axes>"
      ]
     },
     "metadata": {
      "needs_background": "light"
     },
     "output_type": "display_data"
    }
   ],
   "source": [
    "#Tasa de atrasos por dia semana\n",
    "df['DIANOM_I'] = np.where(\n",
    "     df['Fecha_I2'].dt.day_name() == \"Monday\",  'Lunes',   \n",
    "     \n",
    "     np.where(\n",
    "         df['Fecha_I2'].dt.day_name() == \"Tuesday\", 'Martes',  \n",
    "     \n",
    "     np.where(\n",
    "        df['Fecha_I2'].dt.day_name() == \"Wednesday\", 'Miercoles',  \n",
    "     \n",
    "     np.where(\n",
    "        df['Fecha_I2'].dt.day_name() == \"Thursday\", 'Jueves',  \n",
    "     \n",
    "     np.where(\n",
    "        df['Fecha_I2'].dt.day_name() == \"Friday\", 'Viernes',   \n",
    "     \n",
    "     np.where(\n",
    "        df['Fecha_I2'].dt.day_name() == \"Saturday\", 'Sabado',  \n",
    "     \n",
    "     np.where(\n",
    "        df['Fecha_I2'].dt.day_name() == \"Sunday\", 'Domingo',  \n",
    "         'error'                                                  #Si no cumple ninguna de las condiciones anteriores entonces es un error\n",
    "         \n",
    "         \n",
    "     )\n",
    "))))))\n",
    "\n",
    "#df[df[\"DIANOM_I\"] != df[\"DIANOM\"]][[\"Fecha-I\", \"Fecha-O\",\"Fecha_I2\", \"DIANOM\",\"DIANOM_I\",]]\n",
    "#df.groupby(by = [\"DIANOM\"])[\"atraso_15\"].count()\n",
    "\n",
    "\n",
    "\n",
    "\n",
    "br_dianom = pd.DataFrame(df.groupby(by = [\"DIANOM_I\"])[\"atraso_15\"].sum() / df.groupby(by = [\"DIANOM_I\"])[\"atraso_15\"].count())\n",
    "br_dianom[\"n\"] = df.groupby(by = [\"DIANOM_I\"])[\"atraso_15\"].count()\n",
    "br_dianom = br_dianom.sort_values('atraso_15',ascending=False)\n",
    "br_dianom_plot = br_dianom[br_dianom[\"n\"] > 68206*0.01]\n",
    "\n",
    "br_dianom_plot[\"atraso_15\"].plot(kind='barh', figsize=(5,15))\n",
    "plt.title('Tasa de atraso_15 por Día de la semana')\n",
    "plt.xlabel('Tasa Atraso')\n",
    "plt.ylabel('Día de la Semana')\n"
   ]
  },
  {
   "cell_type": "code",
   "execution_count": 34,
   "id": "76d74abc-fe6e-4991-887a-1212269b2f77",
   "metadata": {},
   "outputs": [
    {
     "data": {
      "text/html": [
       "<div>\n",
       "<style scoped>\n",
       "    .dataframe tbody tr th:only-of-type {\n",
       "        vertical-align: middle;\n",
       "    }\n",
       "\n",
       "    .dataframe tbody tr th {\n",
       "        vertical-align: top;\n",
       "    }\n",
       "\n",
       "    .dataframe thead th {\n",
       "        text-align: right;\n",
       "    }\n",
       "</style>\n",
       "<table border=\"1\" class=\"dataframe\">\n",
       "  <thead>\n",
       "    <tr style=\"text-align: right;\">\n",
       "      <th></th>\n",
       "      <th>atraso_15</th>\n",
       "      <th>n</th>\n",
       "    </tr>\n",
       "    <tr>\n",
       "      <th>DIANOM_I</th>\n",
       "      <th></th>\n",
       "      <th></th>\n",
       "    </tr>\n",
       "  </thead>\n",
       "  <tbody>\n",
       "    <tr>\n",
       "      <th>Viernes</th>\n",
       "      <td>0.223513</td>\n",
       "      <td>10326</td>\n",
       "    </tr>\n",
       "    <tr>\n",
       "      <th>Lunes</th>\n",
       "      <td>0.200852</td>\n",
       "      <td>10092</td>\n",
       "    </tr>\n",
       "    <tr>\n",
       "      <th>Jueves</th>\n",
       "      <td>0.199122</td>\n",
       "      <td>10245</td>\n",
       "    </tr>\n",
       "    <tr>\n",
       "      <th>Miercoles</th>\n",
       "      <td>0.171690</td>\n",
       "      <td>9721</td>\n",
       "    </tr>\n",
       "    <tr>\n",
       "      <th>Martes</th>\n",
       "      <td>0.169341</td>\n",
       "      <td>9661</td>\n",
       "    </tr>\n",
       "    <tr>\n",
       "      <th>Domingo</th>\n",
       "      <td>0.162649</td>\n",
       "      <td>9831</td>\n",
       "    </tr>\n",
       "    <tr>\n",
       "      <th>Sabado</th>\n",
       "      <td>0.159841</td>\n",
       "      <td>8302</td>\n",
       "    </tr>\n",
       "  </tbody>\n",
       "</table>\n",
       "</div>"
      ],
      "text/plain": [
       "           atraso_15      n\n",
       "DIANOM_I                   \n",
       "Viernes     0.223513  10326\n",
       "Lunes       0.200852  10092\n",
       "Jueves      0.199122  10245\n",
       "Miercoles   0.171690   9721\n",
       "Martes      0.169341   9661\n",
       "Domingo     0.162649   9831\n",
       "Sabado      0.159841   8302"
      ]
     },
     "execution_count": 34,
     "metadata": {},
     "output_type": "execute_result"
    }
   ],
   "source": [
    "br_dianom_plot"
   ]
  },
  {
   "cell_type": "markdown",
   "id": "14ddaa9f-aa26-4848-90e6-b646cefdd34e",
   "metadata": {},
   "source": [
    "**El día de la semana present Bad Rates que van desde el 15,98% al 22,35%, por lo tanto se espera que su influencia sea baja**"
   ]
  },
  {
   "cell_type": "code",
   "execution_count": 35,
   "id": "453a2a9a-f776-45cd-a8b7-a178b6d85b83",
   "metadata": {},
   "outputs": [
    {
     "data": {
      "text/plain": [
       "Text(0, 0.5, 'Temporada')"
      ]
     },
     "execution_count": 35,
     "metadata": {},
     "output_type": "execute_result"
    },
    {
     "data": {
      "image/png": "[encoded data removed]",
      "text/plain": [
       "<Figure size 360x1080 with 1 Axes>"
      ]
     },
     "metadata": {
      "needs_background": "light"
     },
     "output_type": "display_data"
    }
   ],
   "source": [
    "#Tasa de atrasos por temporada\n",
    "br_temporada = pd.DataFrame(df.groupby(by = [\"temporada_alta\"])[\"atraso_15\"].sum() / df.groupby(by = [\"temporada_alta\"])[\"atraso_15\"].count())\n",
    "br_temporada[\"n\"] = df.groupby(by = [\"temporada_alta\"])[\"atraso_15\"].count()\n",
    "br_temporada = br_temporada.sort_values('atraso_15',ascending=False)\n",
    "br_temporada_plot = br_temporada[br_temporada[\"n\"] > 68206*0.01]\n",
    "\n",
    "br_temporada_plot[\"atraso_15\"].plot(kind='barh', figsize=(5,15))\n",
    "plt.title('Tasa de atraso_15 por Temporada')\n",
    "plt.xlabel('Tasa Atraso')\n",
    "plt.ylabel('Temporada')\n"
   ]
  },
  {
   "cell_type": "code",
   "execution_count": 36,
   "id": "65a1a4c0-e3ca-4850-96bc-9319fdc7516f",
   "metadata": {},
   "outputs": [
    {
     "data": {
      "text/html": [
       "<div>\n",
       "<style scoped>\n",
       "    .dataframe tbody tr th:only-of-type {\n",
       "        vertical-align: middle;\n",
       "    }\n",
       "\n",
       "    .dataframe tbody tr th {\n",
       "        vertical-align: top;\n",
       "    }\n",
       "\n",
       "    .dataframe thead th {\n",
       "        text-align: right;\n",
       "    }\n",
       "</style>\n",
       "<table border=\"1\" class=\"dataframe\">\n",
       "  <thead>\n",
       "    <tr style=\"text-align: right;\">\n",
       "      <th></th>\n",
       "      <th>atraso_15</th>\n",
       "      <th>n</th>\n",
       "    </tr>\n",
       "    <tr>\n",
       "      <th>temporada_alta</th>\n",
       "      <th></th>\n",
       "      <th></th>\n",
       "    </tr>\n",
       "  </thead>\n",
       "  <tbody>\n",
       "    <tr>\n",
       "      <th>1</th>\n",
       "      <td>0.196229</td>\n",
       "      <td>22754</td>\n",
       "    </tr>\n",
       "    <tr>\n",
       "      <th>0</th>\n",
       "      <td>0.179222</td>\n",
       "      <td>45424</td>\n",
       "    </tr>\n",
       "  </tbody>\n",
       "</table>\n",
       "</div>"
      ],
      "text/plain": [
       "                atraso_15      n\n",
       "temporada_alta                  \n",
       "1                0.196229  22754\n",
       "0                0.179222  45424"
      ]
     },
     "execution_count": 36,
     "metadata": {},
     "output_type": "execute_result"
    }
   ],
   "source": [
    "br_temporada_plot"
   ]
  },
  {
   "cell_type": "markdown",
   "id": "2e48cd5f-1797-409a-944a-8d8c57ab79d5",
   "metadata": {},
   "source": [
    "**El Bad Rate de la temporada alta es 19,62%, mientras que la temporada baja es 17,92%, se espera que su influencia en la predicción de atrasos sea débil**"
   ]
  },
  {
   "cell_type": "markdown",
   "id": "610a2163-8e99-431e-88a5-c3c451ee2d51",
   "metadata": {},
   "source": [
    "# **4) Entrena uno o varios modelos (usando el/los algoritmo(s) que prefieras) para estimar la probabilidad de atraso de un vuelo. Siéntete libre de generar variables adicionales y/o complementar con variables externas.**"
   ]
  },
  {
   "cell_type": "code",
   "execution_count": 37,
   "id": "313f5b02-2d33-4b17-ae0b-82027a9f7435",
   "metadata": {},
   "outputs": [
    {
     "data": {
      "text/plain": [
       "atraso_15\n",
       "0    55572\n",
       "1    12606\n",
       "Name: atraso_15, dtype: int64"
      ]
     },
     "execution_count": 37,
     "metadata": {},
     "output_type": "execute_result"
    }
   ],
   "source": [
    "df.groupby(by = [\"atraso_15\"])[\"atraso_15\"].count()"
   ]
  },
  {
   "cell_type": "code",
   "execution_count": 38,
   "id": "34147a0b-3cc0-4279-8825-11ecabb8d827",
   "metadata": {},
   "outputs": [
    {
     "data": {
      "text/plain": [
       "camada\n",
       "201701    6107\n",
       "201702    5558\n",
       "201703    5476\n",
       "201704    5019\n",
       "201705    5235\n",
       "201706    4982\n",
       "201707    5986\n",
       "201708    5742\n",
       "201709    5610\n",
       "201710    6031\n",
       "201711    6080\n",
       "201712    6352\n",
       "dtype: int64"
      ]
     },
     "execution_count": 38,
     "metadata": {},
     "output_type": "execute_result"
    }
   ],
   "source": [
    "#Camada\n",
    "df[\"camada\"] = pd.to_numeric(df['Fecha_I2'].astype(str).str[0:4])*100 + pd.to_numeric(df['Fecha_I2'].astype(str).str[5:7])\n",
    "df[[\"Fecha-I\", \"Fecha_I2\", \"camada\"]]\n",
    "\n",
    "df.groupby(by = [\"camada\"]).size()"
   ]
  },
  {
   "cell_type": "markdown",
   "id": "7667b64b-8098-4704-af86-b0573ca10f85",
   "metadata": {},
   "source": [
    "**Como solo se cuenta con un año de historia, no es recomendable utilizar muestra de validación OOT**"
   ]
  },
  {
   "cell_type": "code",
   "execution_count": 39,
   "id": "936535ce-1fca-4d92-ab05-9d86378cf3f8",
   "metadata": {},
   "outputs": [],
   "source": [
    "#Considerar aerolineas con menos de 1% del total como \"Otro\"\n",
    "br_destino_plot=br_destino_plot.drop(columns = ['atraso_15'], axis=1)\n",
    "br_destino_plot.rename(columns = {'n':'n_destino'}, inplace = True)\n",
    "#br_destino_plot\n",
    "\n",
    "#Left join\n",
    "df = pd.merge(df,br_destino_plot, on = \"SIGLADES\", how=\"left\")\n",
    "#df"
   ]
  },
  {
   "cell_type": "code",
   "execution_count": 40,
   "id": "81b63433-2ea7-4435-bd85-3bfca68f89ef",
   "metadata": {},
   "outputs": [],
   "source": [
    "#df[\"n_destino\"].isnull()"
   ]
  },
  {
   "cell_type": "code",
   "execution_count": 41,
   "id": "0ccc44fd-6ea8-4d0d-b4d8-f4bcaf66450b",
   "metadata": {},
   "outputs": [],
   "source": [
    "#Destino_2\n",
    "df[\"Destino_2\"] = np.where(\n",
    "     df[\"n_destino\"].isnull(),  'Otro',  df[\"SIGLADES\"])\n",
    "\n",
    "#df"
   ]
  },
  {
   "cell_type": "code",
   "execution_count": 42,
   "id": "2c127a82-69bc-4e0b-aa1d-b3238fa088d5",
   "metadata": {},
   "outputs": [],
   "source": [
    "#Aerolineas con menos de 1% como \"Otro\"\n",
    "br_aerolinea_plot=br_aerolinea_plot.drop(columns = ['atraso_15'], axis=1)\n",
    "br_aerolinea_plot.rename(columns = {'n':'n_aerolinea'}, inplace = True)\n",
    "#br_aerolinea_plot\n",
    "\n",
    "#Left join\n",
    "df = pd.merge(df,br_aerolinea_plot, on = \"OPERA\", how=\"left\")\n",
    "#df"
   ]
  },
  {
   "cell_type": "code",
   "execution_count": 43,
   "id": "cbad5360-d771-4eea-ae95-9702a7091137",
   "metadata": {},
   "outputs": [],
   "source": [
    "#Destino_2\n",
    "df[\"Aerolinea_2\"] = np.where(\n",
    "     df[\"n_aerolinea\"].isnull(),  'Otro',  df[\"OPERA\"])\n"
   ]
  },
  {
   "cell_type": "code",
   "execution_count": 44,
   "id": "567f10bb-638f-4329-9354-a5a7700efd02",
   "metadata": {},
   "outputs": [
    {
     "data": {
      "text/plain": [
       "68178"
      ]
     },
     "execution_count": 44,
     "metadata": {},
     "output_type": "execute_result"
    }
   ],
   "source": [
    "#Creación de muestras train/testing 75/25\n",
    "np.random.seed(35)   #Para que se pueda recrear\n",
    "df[\"aleatorio\"] = np.random.rand(df[\"camada\"].size,1)\n",
    "df[\"aleatorio\"].describe()\n",
    "\n",
    "train = df[df[\"aleatorio\"] <= 0.75]\n",
    "test = df[df[\"aleatorio\"] > 0.75]\n",
    "\n",
    "train[\"aleatorio\"].size+test[\"aleatorio\"].size    #Verificación"
   ]
  },
  {
   "cell_type": "code",
   "execution_count": 45,
   "id": "13790988-343d-42e0-983d-f2cf62fb110e",
   "metadata": {},
   "outputs": [],
   "source": [
    "#Ranking Destino\n",
    "br_destino = pd.DataFrame(train.groupby(by = [\"Destino_2\"])[\"atraso_15\"].sum() / train.groupby(by = [\"Destino_2\"])[\"atraso_15\"].count())\n",
    "br_destino[\"n\"] = train.groupby(by = [\"Destino_2\"])[\"atraso_15\"].count()\n",
    "br_destino = br_destino.sort_values('atraso_15',ascending=True)\n",
    "br_destino[\"Destino_Rank\"] = br_destino.reset_index().index\n",
    "br_destino=br_destino.drop(columns = ['atraso_15','n'], axis=1)\n",
    "#br_destino #Verificación\n",
    "\n",
    "#Left join\n",
    "df_aux = pd.merge(train,br_destino, on = \"Destino_2\", how=\"left\")\n",
    "train = df_aux\n",
    "\n",
    "df_aux = pd.merge(test,br_destino, on = \"Destino_2\", how=\"left\")\n",
    "test = df_aux\n",
    "\n",
    "df_aux = pd.merge(df,br_destino, on = \"Destino_2\", how=\"left\")\n",
    "df = df_aux\n",
    "\n",
    "#train #Verificación\n",
    "#test #Verificación"
   ]
  },
  {
   "cell_type": "code",
   "execution_count": 46,
   "id": "a94b625a-78b4-42a2-adb1-738655eb6125",
   "metadata": {},
   "outputs": [
    {
     "data": {
      "text/plain": [
       "KstestResult(statistic=0.14922709579535132, pvalue=3.3393233319358155e-200)"
      ]
     },
     "execution_count": 46,
     "metadata": {},
     "output_type": "execute_result"
    }
   ],
   "source": [
    "from scipy.stats import ks_2samp\n",
    "ks_2samp(df[\"Destino_Rank\"][df[\"atraso_15\"]==0], df[\"Destino_Rank\"][df[\"atraso_15\"]==1])"
   ]
  },
  {
   "cell_type": "code",
   "execution_count": 47,
   "id": "7562fb85-5c69-439a-b71a-7561f735e812",
   "metadata": {},
   "outputs": [],
   "source": [
    "#Ranking Aerolinea\n",
    "br_aerolinea = pd.DataFrame(train.groupby(by = [\"Aerolinea_2\"])[\"atraso_15\"].sum() / train.groupby(by = [\"Aerolinea_2\"])[\"atraso_15\"].count())\n",
    "br_aerolinea[\"n\"] = train.groupby(by = [\"Aerolinea_2\"])[\"atraso_15\"].count()\n",
    "br_aerolinea = br_aerolinea.sort_values('atraso_15',ascending=True)\n",
    "br_aerolinea[\"Aerolinea_Rank\"] = br_aerolinea.reset_index().index\n",
    "br_aerolinea=br_aerolinea.drop(['atraso_15','n'], axis=1)\n",
    "#br_aerolinea\n",
    "\n",
    "#Left join\n",
    "df_aux = pd.merge(train,br_aerolinea, on = \"Aerolinea_2\", how=\"left\")\n",
    "train = df_aux\n",
    "\n",
    "df_aux = pd.merge(test,br_aerolinea, on = \"Aerolinea_2\", how=\"left\")\n",
    "test = df_aux\n",
    "\n",
    "df_aux = pd.merge(df,br_aerolinea, on = \"Aerolinea_2\", how=\"left\")\n",
    "df = df_aux\n",
    "\n",
    "#train #Verificacion\n",
    "#test #Verificacion"
   ]
  },
  {
   "cell_type": "code",
   "execution_count": 48,
   "id": "e5d2a9df-ac26-4c00-a4f1-19cf85c9db13",
   "metadata": {},
   "outputs": [
    {
     "data": {
      "text/plain": [
       "KstestResult(statistic=0.06904527987464404, pvalue=4.9002171984543286e-43)"
      ]
     },
     "execution_count": 48,
     "metadata": {},
     "output_type": "execute_result"
    }
   ],
   "source": [
    "from scipy.stats import ks_2samp\n",
    "ks_2samp(df[\"Aerolinea_Rank\"][df[\"atraso_15\"]==0], df[\"Aerolinea_Rank\"][df[\"atraso_15\"]==1])"
   ]
  },
  {
   "cell_type": "code",
   "execution_count": 49,
   "id": "e8b231af-917b-4a4f-aacb-2f1561796d23",
   "metadata": {},
   "outputs": [],
   "source": [
    "#Mes del Año\n",
    "br_MES = pd.DataFrame(train.groupby(by = [\"MES_I\"])[\"atraso_15\"].sum() / train.groupby(by = [\"MES_I\"])[\"atraso_15\"].count())\n",
    "br_MES[\"n\"] = train.groupby(by = [\"MES_I\"])[\"atraso_15\"].count()\n",
    "br_MES = br_MES.sort_values('atraso_15',ascending=True)\n",
    "br_MES[\"Mes_Rank\"] = br_MES.reset_index().index\n",
    "br_MES=br_MES.drop(['atraso_15','n'], axis=1)\n",
    "#br_MES #Verficacion\n",
    "\n",
    "#Left join\n",
    "df_aux = pd.merge(train,br_MES, on = \"MES_I\", how=\"left\")\n",
    "train = df_aux\n",
    "\n",
    "df_aux = pd.merge(test,br_MES, on = \"MES_I\", how=\"left\")\n",
    "test = df_aux\n",
    "\n",
    "df_aux = pd.merge(df,br_MES, on = \"MES_I\", how=\"left\")\n",
    "df = df_aux\n",
    "#train #Verificacion\n",
    "#test #Verificacion"
   ]
  },
  {
   "cell_type": "code",
   "execution_count": 50,
   "id": "1aae7a34-5b6b-41fd-8dc1-e3c005f7f383",
   "metadata": {},
   "outputs": [
    {
     "data": {
      "text/plain": [
       "KstestResult(statistic=0.13726487744967797, pvalue=2.4915105368027306e-169)"
      ]
     },
     "execution_count": 50,
     "metadata": {},
     "output_type": "execute_result"
    }
   ],
   "source": [
    "from scipy.stats import ks_2samp\n",
    "ks_2samp(df[\"Mes_Rank\"][df[\"atraso_15\"]==0], df[\"Mes_Rank\"][df[\"atraso_15\"]==1])"
   ]
  },
  {
   "cell_type": "code",
   "execution_count": 51,
   "id": "ddd385ba-7ad8-4456-806b-a942999a98c4",
   "metadata": {},
   "outputs": [],
   "source": [
    "#train.dtypes"
   ]
  },
  {
   "cell_type": "code",
   "execution_count": 52,
   "id": "296e26a0-05b3-436c-9733-bb3f58ebf70a",
   "metadata": {},
   "outputs": [],
   "source": [
    "#test.dtypes"
   ]
  },
  {
   "cell_type": "code",
   "execution_count": 53,
   "id": "6bec3980-c13c-4d60-a1c8-b8025cfd66cb",
   "metadata": {},
   "outputs": [],
   "source": [
    "#Prueba Dianom\n",
    "#train.groupby(by = [\"TIPOVUELO\"])[\"atraso_15\"].count()\n",
    "#train.groupby(by = [\"TIPOVUELO\"])[\"atraso_15\"].sum() / train.groupby(by = [\"TIPOVUELO\"])[\"atraso_15\"].count()\n",
    "\n",
    "br_DIANOM = pd.DataFrame(train.groupby(by = [\"DIANOM_I\"])[\"atraso_15\"].sum() / train.groupby(by = [\"DIANOM_I\"])[\"atraso_15\"].count())\n",
    "br_DIANOM[\"n\"] = train.groupby(by = [\"DIANOM_I\"])[\"atraso_15\"].count()\n",
    "br_DIANOM = br_DIANOM.sort_values('atraso_15',ascending=True)\n",
    "br_DIANOM[\"DIANOM_Rank\"] = br_DIANOM.reset_index().index\n",
    "br_DIANOM=br_DIANOM.drop(['atraso_15','n'], axis=1)\n",
    "#br_TIPOVUELO #Verficacion\n",
    "\n",
    "#Left join\n",
    "df_aux = pd.merge(train,br_DIANOM, on = \"DIANOM_I\", how=\"left\")\n",
    "train = df_aux\n",
    "\n",
    "df_aux = pd.merge(test,br_DIANOM, on = \"DIANOM_I\", how=\"left\")\n",
    "test = df_aux\n",
    "\n",
    "df_aux = pd.merge(df,br_DIANOM, on = \"DIANOM_I\", how=\"left\")\n",
    "df = df_aux\n",
    "#train #Verficacion"
   ]
  },
  {
   "cell_type": "code",
   "execution_count": 54,
   "id": "e8578ec6-c67c-4e2e-996c-cde43eb3aa5b",
   "metadata": {},
   "outputs": [
    {
     "data": {
      "text/plain": [
       "KstestResult(statistic=0.06865693409201135, pvalue=1.4743070576609177e-42)"
      ]
     },
     "execution_count": 54,
     "metadata": {},
     "output_type": "execute_result"
    }
   ],
   "source": [
    "from scipy.stats import ks_2samp\n",
    "ks_2samp(df[\"DIANOM_Rank\"][df[\"atraso_15\"]==0], df[\"DIANOM_Rank\"][df[\"atraso_15\"]==1])"
   ]
  },
  {
   "cell_type": "code",
   "execution_count": 55,
   "id": "12f8a5b4-ce15-4f9d-8a0a-88936b2c8497",
   "metadata": {},
   "outputs": [],
   "source": [
    "#Prueba TIPOVUELO\n",
    "#train.groupby(by = [\"TIPOVUELO\"])[\"atraso_15\"].count()\n",
    "#train.groupby(by = [\"TIPOVUELO\"])[\"atraso_15\"].sum() / train.groupby(by = [\"TIPOVUELO\"])[\"atraso_15\"].count()\n",
    "\n",
    "br_TIPOVUELO = pd.DataFrame(train.groupby(by = [\"TIPOVUELO\"])[\"atraso_15\"].sum() / train.groupby(by = [\"TIPOVUELO\"])[\"atraso_15\"].count())\n",
    "br_TIPOVUELO[\"n\"] = train.groupby(by = [\"TIPOVUELO\"])[\"atraso_15\"].count()\n",
    "br_TIPOVUELO = br_TIPOVUELO.sort_values('atraso_15',ascending=True)\n",
    "br_TIPOVUELO[\"TIPOVUELO_Rank\"] = br_TIPOVUELO.reset_index().index\n",
    "br_TIPOVUELO=br_TIPOVUELO.drop(['atraso_15','n'], axis=1)\n",
    "#br_TIPOVUELO #Verficacion\n",
    "\n",
    "#Left join\n",
    "df_aux = pd.merge(train,br_TIPOVUELO, on = \"TIPOVUELO\", how=\"left\")\n",
    "train = df_aux\n",
    "\n",
    "df_aux = pd.merge(test,br_TIPOVUELO, on = \"TIPOVUELO\", how=\"left\")\n",
    "test = df_aux\n",
    "\n",
    "df_aux = pd.merge(df,br_TIPOVUELO, on = \"TIPOVUELO\", how=\"left\")\n",
    "df = df_aux\n",
    "#train #Verficacion"
   ]
  },
  {
   "cell_type": "code",
   "execution_count": 56,
   "id": "92c3013b-9d1c-4084-aa73-0cf0fd5de9ad",
   "metadata": {},
   "outputs": [
    {
     "data": {
      "text/plain": [
       "KstestResult(statistic=0.12353701419563051, pvalue=3.964473703253583e-137)"
      ]
     },
     "execution_count": 56,
     "metadata": {},
     "output_type": "execute_result"
    }
   ],
   "source": [
    "from scipy.stats import ks_2samp\n",
    "ks_2samp(df[\"TIPOVUELO_Rank\"][df[\"atraso_15\"]==0], df[\"TIPOVUELO_Rank\"][df[\"atraso_15\"]==1])"
   ]
  },
  {
   "cell_type": "code",
   "execution_count": 57,
   "id": "d81fef9c-1d32-4717-8d74-e6f93cd1847f",
   "metadata": {},
   "outputs": [
    {
     "data": {
      "text/html": [
       "<div>\n",
       "<style scoped>\n",
       "    .dataframe tbody tr th:only-of-type {\n",
       "        vertical-align: middle;\n",
       "    }\n",
       "\n",
       "    .dataframe tbody tr th {\n",
       "        vertical-align: top;\n",
       "    }\n",
       "\n",
       "    .dataframe thead th {\n",
       "        text-align: right;\n",
       "    }\n",
       "</style>\n",
       "<table border=\"1\" class=\"dataframe\">\n",
       "  <thead>\n",
       "    <tr style=\"text-align: right;\">\n",
       "      <th></th>\n",
       "      <th>atraso_15</th>\n",
       "    </tr>\n",
       "    <tr>\n",
       "      <th>temporada_alta</th>\n",
       "      <th></th>\n",
       "    </tr>\n",
       "  </thead>\n",
       "  <tbody>\n",
       "    <tr>\n",
       "      <th>0</th>\n",
       "      <td>0.178988</td>\n",
       "    </tr>\n",
       "    <tr>\n",
       "      <th>1</th>\n",
       "      <td>0.196042</td>\n",
       "    </tr>\n",
       "  </tbody>\n",
       "</table>\n",
       "</div>"
      ],
      "text/plain": [
       "                atraso_15\n",
       "temporada_alta           \n",
       "0                0.178988\n",
       "1                0.196042"
      ]
     },
     "execution_count": 57,
     "metadata": {},
     "output_type": "execute_result"
    }
   ],
   "source": [
    "pd.DataFrame(train.groupby(by = [\"temporada_alta\"])[\"atraso_15\"].sum() / train.groupby(by = [\"temporada_alta\"])[\"atraso_15\"].count())"
   ]
  },
  {
   "cell_type": "code",
   "execution_count": 58,
   "id": "8ce22301-70b8-4f27-9f98-a7936b9d43d1",
   "metadata": {
    "tags": []
   },
   "outputs": [],
   "source": [
    "#Prueba temporada_alta\n",
    "br_temporada = pd.DataFrame(train.groupby(by = [\"temporada_alta\"])[\"atraso_15\"].sum() / train.groupby(by = [\"temporada_alta\"])[\"atraso_15\"].count())\n",
    "br_temporada[\"n\"] = train.groupby(by = [\"temporada_alta\"])[\"atraso_15\"].count()\n",
    "br_temporada = br_temporada.sort_values('atraso_15',ascending=True)\n",
    "br_temporada[\"temporada_alta_Rank\"] = br_temporada.reset_index().index\n",
    "br_temporada=br_temporada.drop(['atraso_15','n'], axis=1)\n",
    "#br_temporada #Verficacion\n",
    "\n",
    "#Left join\n",
    "df_aux = pd.merge(train,br_temporada, on = \"temporada_alta\", how=\"left\")\n",
    "train = df_aux\n",
    "\n",
    "df_aux = pd.merge(test,br_temporada, on = \"temporada_alta\", how=\"left\")\n",
    "test = df_aux\n",
    "\n",
    "df_aux = pd.merge(df,br_temporada, on = \"temporada_alta\", how=\"left\")\n",
    "df = df_aux\n",
    "#train #Verfi"
   ]
  },
  {
   "cell_type": "code",
   "execution_count": 59,
   "id": "0f7c5c16-5c1c-4f2d-8ead-0375c19f6c41",
   "metadata": {},
   "outputs": [
    {
     "data": {
      "text/plain": [
       "KstestResult(statistic=0.02509182936301113, pvalue=4.721458706052107e-06)"
      ]
     },
     "execution_count": 59,
     "metadata": {},
     "output_type": "execute_result"
    }
   ],
   "source": [
    "from scipy.stats import ks_2samp\n",
    "ks_2samp(df[\"temporada_alta_Rank\"][df[\"atraso_15\"]==0], df[\"temporada_alta_Rank\"][df[\"atraso_15\"]==1])"
   ]
  },
  {
   "cell_type": "code",
   "execution_count": 60,
   "id": "64be9833-734f-45cf-9305-0a815b9e62bb",
   "metadata": {},
   "outputs": [],
   "source": [
    "#Prueba periodo_dia\n",
    "br_periodo_dia = pd.DataFrame(train.groupby(by = [\"periodo_dia\"])[\"atraso_15\"].sum() / train.groupby(by = [\"periodo_dia\"])[\"atraso_15\"].count())\n",
    "br_periodo_dia[\"n\"] = train.groupby(by = [\"periodo_dia\"])[\"atraso_15\"].count()\n",
    "br_periodo_dia = br_periodo_dia.sort_values('atraso_15',ascending=True)\n",
    "br_periodo_dia[\"periodo_dia_Rank\"] = br_periodo_dia.reset_index().index\n",
    "br_periodo_dia=br_periodo_dia.drop(['atraso_15','n'], axis=1)\n",
    "#br_periodo_dia #Verficacion\n",
    "\n",
    "#Left join\n",
    "df_aux = pd.merge(train,br_periodo_dia, on = \"periodo_dia\", how=\"left\")\n",
    "train = df_aux\n",
    "\n",
    "df_aux = pd.merge(test,br_periodo_dia, on = \"periodo_dia\", how=\"left\")\n",
    "test = df_aux\n",
    "\n",
    "df_aux = pd.merge(df,br_periodo_dia, on = \"periodo_dia\", how=\"left\")\n",
    "df = df_aux"
   ]
  },
  {
   "cell_type": "code",
   "execution_count": 61,
   "id": "e9e35145-118f-44d4-a3bd-eb2fd5fae9b0",
   "metadata": {},
   "outputs": [
    {
     "data": {
      "text/plain": [
       "KstestResult(statistic=0.061308418153252775, pvalue=5.131540850904886e-34)"
      ]
     },
     "execution_count": 61,
     "metadata": {},
     "output_type": "execute_result"
    }
   ],
   "source": [
    "from scipy.stats import ks_2samp\n",
    "ks_2samp(df[\"periodo_dia_Rank\"][df[\"atraso_15\"]==0], df[\"periodo_dia_Rank\"][df[\"atraso_15\"]==1])"
   ]
  },
  {
   "cell_type": "code",
   "execution_count": 62,
   "id": "aa70233d-bcbd-430f-b3c7-2c929446108d",
   "metadata": {},
   "outputs": [],
   "source": [
    "#train.dtypes"
   ]
  },
  {
   "cell_type": "code",
   "execution_count": 63,
   "id": "28fd099c-a3d6-4f84-94a9-7cf092a7aec3",
   "metadata": {},
   "outputs": [],
   "source": [
    "#Prueba Dia\n",
    "br_diadmes = pd.DataFrame(train.groupby(by = [\"DIA_I\"])[\"atraso_15\"].sum() / train.groupby(by = [\"DIA_I\"])[\"atraso_15\"].count())\n",
    "br_diadmes[\"n\"] = train.groupby(by = [\"DIA_I\"])[\"atraso_15\"].count()\n",
    "br_diadmes = br_diadmes.sort_values('atraso_15',ascending=True)\n",
    "br_diadmes[\"diadmes_Rank\"] = br_diadmes.reset_index().index\n",
    "br_diadmes=br_diadmes.drop(['atraso_15','n'], axis=1)\n",
    "#br_diadmes #Verficacion\n",
    "\n",
    "#Left join\n",
    "df_aux = pd.merge(train,br_diadmes, on = \"DIA_I\", how=\"left\")\n",
    "train = df_aux\n",
    "\n",
    "df_aux = pd.merge(test,br_diadmes, on = \"DIA_I\", how=\"left\")\n",
    "test = df_aux\n",
    "\n",
    "df_aux = pd.merge(df,br_diadmes, on = \"DIA_I\", how=\"left\")\n",
    "df = df_aux"
   ]
  },
  {
   "cell_type": "code",
   "execution_count": 64,
   "id": "c3eb7ea8-34b6-4b40-ac97-074da7ea20a1",
   "metadata": {},
   "outputs": [
    {
     "data": {
      "text/plain": [
       "KstestResult(statistic=0.05732556566397712, pvalue=8.607830505373418e-30)"
      ]
     },
     "execution_count": 64,
     "metadata": {},
     "output_type": "execute_result"
    }
   ],
   "source": [
    "from scipy.stats import ks_2samp\n",
    "ks_2samp(df[\"diadmes_Rank\"][df[\"atraso_15\"]==0], df[\"diadmes_Rank\"][df[\"atraso_15\"]==1])"
   ]
  },
  {
   "cell_type": "code",
   "execution_count": 65,
   "id": "31867c31-b417-4ba2-9447-20da280f9b8d",
   "metadata": {},
   "outputs": [
    {
     "data": {
      "text/html": [
       "<div>\n",
       "<style scoped>\n",
       "    .dataframe tbody tr th:only-of-type {\n",
       "        vertical-align: middle;\n",
       "    }\n",
       "\n",
       "    .dataframe tbody tr th {\n",
       "        vertical-align: top;\n",
       "    }\n",
       "\n",
       "    .dataframe thead th {\n",
       "        text-align: right;\n",
       "    }\n",
       "</style>\n",
       "<table border=\"1\" class=\"dataframe\">\n",
       "  <thead>\n",
       "    <tr style=\"text-align: right;\">\n",
       "      <th></th>\n",
       "      <th>DIA</th>\n",
       "      <th>MES</th>\n",
       "      <th>AÑO</th>\n",
       "      <th>Retraso</th>\n",
       "      <th>MES_I</th>\n",
       "      <th>DIA_I</th>\n",
       "      <th>mesdia</th>\n",
       "      <th>temporada_alta</th>\n",
       "      <th>dif_min</th>\n",
       "      <th>atraso_15</th>\n",
       "      <th>...</th>\n",
       "      <th>n_aerolinea</th>\n",
       "      <th>aleatorio</th>\n",
       "      <th>Destino_Rank</th>\n",
       "      <th>Aerolinea_Rank</th>\n",
       "      <th>Mes_Rank</th>\n",
       "      <th>DIANOM_Rank</th>\n",
       "      <th>TIPOVUELO_Rank</th>\n",
       "      <th>temporada_alta_Rank</th>\n",
       "      <th>periodo_dia_Rank</th>\n",
       "      <th>diadmes_Rank</th>\n",
       "    </tr>\n",
       "  </thead>\n",
       "  <tbody>\n",
       "    <tr>\n",
       "      <th>count</th>\n",
       "      <td>51113.000000</td>\n",
       "      <td>51113.00000</td>\n",
       "      <td>51113.000000</td>\n",
       "      <td>51113.000000</td>\n",
       "      <td>51113.000000</td>\n",
       "      <td>51113.000000</td>\n",
       "      <td>51113.000000</td>\n",
       "      <td>51113.000000</td>\n",
       "      <td>51113.000000</td>\n",
       "      <td>51113.000000</td>\n",
       "      <td>...</td>\n",
       "      <td>48306.000000</td>\n",
       "      <td>51113.000000</td>\n",
       "      <td>51113.000000</td>\n",
       "      <td>51113.000000</td>\n",
       "      <td>51113.000000</td>\n",
       "      <td>51113.000000</td>\n",
       "      <td>51113.000000</td>\n",
       "      <td>51113.000000</td>\n",
       "      <td>51113.000000</td>\n",
       "      <td>51113.000000</td>\n",
       "    </tr>\n",
       "    <tr>\n",
       "      <th>mean</th>\n",
       "      <td>15.711306</td>\n",
       "      <td>6.62311</td>\n",
       "      <td>2017.000039</td>\n",
       "      <td>0.006298</td>\n",
       "      <td>6.623423</td>\n",
       "      <td>15.711580</td>\n",
       "      <td>678.053841</td>\n",
       "      <td>0.333125</td>\n",
       "      <td>9.069434</td>\n",
       "      <td>0.184669</td>\n",
       "      <td>...</td>\n",
       "      <td>29294.906927</td>\n",
       "      <td>0.376350</td>\n",
       "      <td>12.084988</td>\n",
       "      <td>3.964882</td>\n",
       "      <td>5.679064</td>\n",
       "      <td>3.108133</td>\n",
       "      <td>0.457261</td>\n",
       "      <td>0.333125</td>\n",
       "      <td>0.999765</td>\n",
       "      <td>15.250191</td>\n",
       "    </tr>\n",
       "    <tr>\n",
       "      <th>std</th>\n",
       "      <td>8.792937</td>\n",
       "      <td>3.52316</td>\n",
       "      <td>0.006255</td>\n",
       "      <td>0.013356</td>\n",
       "      <td>3.523221</td>\n",
       "      <td>8.793362</td>\n",
       "      <td>352.568822</td>\n",
       "      <td>0.471335</td>\n",
       "      <td>19.232916</td>\n",
       "      <td>0.388033</td>\n",
       "      <td>...</td>\n",
       "      <td>15699.673428</td>\n",
       "      <td>0.216645</td>\n",
       "      <td>6.698051</td>\n",
       "      <td>1.348756</td>\n",
       "      <td>3.466392</td>\n",
       "      <td>1.974736</td>\n",
       "      <td>0.498175</td>\n",
       "      <td>0.471335</td>\n",
       "      <td>0.864261</td>\n",
       "      <td>8.857848</td>\n",
       "    </tr>\n",
       "    <tr>\n",
       "      <th>min</th>\n",
       "      <td>1.000000</td>\n",
       "      <td>1.00000</td>\n",
       "      <td>2017.000000</td>\n",
       "      <td>-0.009722</td>\n",
       "      <td>1.000000</td>\n",
       "      <td>1.000000</td>\n",
       "      <td>101.000000</td>\n",
       "      <td>0.000000</td>\n",
       "      <td>-14.000000</td>\n",
       "      <td>0.000000</td>\n",
       "      <td>...</td>\n",
       "      <td>757.000000</td>\n",
       "      <td>0.000001</td>\n",
       "      <td>0.000000</td>\n",
       "      <td>0.000000</td>\n",
       "      <td>0.000000</td>\n",
       "      <td>0.000000</td>\n",
       "      <td>0.000000</td>\n",
       "      <td>0.000000</td>\n",
       "      <td>0.000000</td>\n",
       "      <td>0.000000</td>\n",
       "    </tr>\n",
       "    <tr>\n",
       "      <th>25%</th>\n",
       "      <td>8.000000</td>\n",
       "      <td>3.00000</td>\n",
       "      <td>2017.000000</td>\n",
       "      <td>-0.000694</td>\n",
       "      <td>3.000000</td>\n",
       "      <td>8.000000</td>\n",
       "      <td>331.000000</td>\n",
       "      <td>0.000000</td>\n",
       "      <td>-1.000000</td>\n",
       "      <td>0.000000</td>\n",
       "      <td>...</td>\n",
       "      <td>14292.000000</td>\n",
       "      <td>0.189072</td>\n",
       "      <td>5.000000</td>\n",
       "      <td>3.000000</td>\n",
       "      <td>3.000000</td>\n",
       "      <td>1.000000</td>\n",
       "      <td>0.000000</td>\n",
       "      <td>0.000000</td>\n",
       "      <td>0.000000</td>\n",
       "      <td>8.000000</td>\n",
       "    </tr>\n",
       "    <tr>\n",
       "      <th>50%</th>\n",
       "      <td>16.000000</td>\n",
       "      <td>7.00000</td>\n",
       "      <td>2017.000000</td>\n",
       "      <td>0.002778</td>\n",
       "      <td>7.000000</td>\n",
       "      <td>16.000000</td>\n",
       "      <td>710.000000</td>\n",
       "      <td>0.000000</td>\n",
       "      <td>4.000000</td>\n",
       "      <td>0.000000</td>\n",
       "      <td>...</td>\n",
       "      <td>40874.000000</td>\n",
       "      <td>0.376682</td>\n",
       "      <td>12.000000</td>\n",
       "      <td>4.000000</td>\n",
       "      <td>6.000000</td>\n",
       "      <td>3.000000</td>\n",
       "      <td>0.000000</td>\n",
       "      <td>0.000000</td>\n",
       "      <td>1.000000</td>\n",
       "      <td>15.000000</td>\n",
       "    </tr>\n",
       "    <tr>\n",
       "      <th>75%</th>\n",
       "      <td>23.000000</td>\n",
       "      <td>10.00000</td>\n",
       "      <td>2017.000000</td>\n",
       "      <td>0.008333</td>\n",
       "      <td>10.000000</td>\n",
       "      <td>23.000000</td>\n",
       "      <td>1008.000000</td>\n",
       "      <td>1.000000</td>\n",
       "      <td>12.000000</td>\n",
       "      <td>0.000000</td>\n",
       "      <td>...</td>\n",
       "      <td>40874.000000</td>\n",
       "      <td>0.564040</td>\n",
       "      <td>18.000000</td>\n",
       "      <td>4.000000</td>\n",
       "      <td>9.000000</td>\n",
       "      <td>5.000000</td>\n",
       "      <td>1.000000</td>\n",
       "      <td>1.000000</td>\n",
       "      <td>2.000000</td>\n",
       "      <td>23.000000</td>\n",
       "    </tr>\n",
       "    <tr>\n",
       "      <th>max</th>\n",
       "      <td>31.000000</td>\n",
       "      <td>12.00000</td>\n",
       "      <td>2018.000000</td>\n",
       "      <td>0.111806</td>\n",
       "      <td>12.000000</td>\n",
       "      <td>31.000000</td>\n",
       "      <td>1231.000000</td>\n",
       "      <td>1.000000</td>\n",
       "      <td>161.000000</td>\n",
       "      <td>1.000000</td>\n",
       "      <td>...</td>\n",
       "      <td>40874.000000</td>\n",
       "      <td>0.749982</td>\n",
       "      <td>24.000000</td>\n",
       "      <td>9.000000</td>\n",
       "      <td>11.000000</td>\n",
       "      <td>6.000000</td>\n",
       "      <td>1.000000</td>\n",
       "      <td>1.000000</td>\n",
       "      <td>2.000000</td>\n",
       "      <td>30.000000</td>\n",
       "    </tr>\n",
       "  </tbody>\n",
       "</table>\n",
       "<p>8 rows × 23 columns</p>\n",
       "</div>"
      ],
      "text/plain": [
       "                DIA          MES           AÑO       Retraso         MES_I  \\\n",
       "count  51113.000000  51113.00000  51113.000000  51113.000000  51113.000000   \n",
       "mean      15.711306      6.62311   2017.000039      0.006298      6.623423   \n",
       "std        8.792937      3.52316      0.006255      0.013356      3.523221   \n",
       "min        1.000000      1.00000   2017.000000     -0.009722      1.000000   \n",
       "25%        8.000000      3.00000   2017.000000     -0.000694      3.000000   \n",
       "50%       16.000000      7.00000   2017.000000      0.002778      7.000000   \n",
       "75%       23.000000     10.00000   2017.000000      0.008333     10.000000   \n",
       "max       31.000000     12.00000   2018.000000      0.111806     12.000000   \n",
       "\n",
       "              DIA_I        mesdia  temporada_alta       dif_min     atraso_15  \\\n",
       "count  51113.000000  51113.000000    51113.000000  51113.000000  51113.000000   \n",
       "mean      15.711580    678.053841        0.333125      9.069434      0.184669   \n",
       "std        8.793362    352.568822        0.471335     19.232916      0.388033   \n",
       "min        1.000000    101.000000        0.000000    -14.000000      0.000000   \n",
       "25%        8.000000    331.000000        0.000000     -1.000000      0.000000   \n",
       "50%       16.000000    710.000000        0.000000      4.000000      0.000000   \n",
       "75%       23.000000   1008.000000        1.000000     12.000000      0.000000   \n",
       "max       31.000000   1231.000000        1.000000    161.000000      1.000000   \n",
       "\n",
       "       ...   n_aerolinea     aleatorio  Destino_Rank  Aerolinea_Rank  \\\n",
       "count  ...  48306.000000  51113.000000  51113.000000    51113.000000   \n",
       "mean   ...  29294.906927      0.376350     12.084988        3.964882   \n",
       "std    ...  15699.673428      0.216645      6.698051        1.348756   \n",
       "min    ...    757.000000      0.000001      0.000000        0.000000   \n",
       "25%    ...  14292.000000      0.189072      5.000000        3.000000   \n",
       "50%    ...  40874.000000      0.376682     12.000000        4.000000   \n",
       "75%    ...  40874.000000      0.564040     18.000000        4.000000   \n",
       "max    ...  40874.000000      0.749982     24.000000        9.000000   \n",
       "\n",
       "           Mes_Rank   DIANOM_Rank  TIPOVUELO_Rank  temporada_alta_Rank  \\\n",
       "count  51113.000000  51113.000000    51113.000000         51113.000000   \n",
       "mean       5.679064      3.108133        0.457261             0.333125   \n",
       "std        3.466392      1.974736        0.498175             0.471335   \n",
       "min        0.000000      0.000000        0.000000             0.000000   \n",
       "25%        3.000000      1.000000        0.000000             0.000000   \n",
       "50%        6.000000      3.000000        0.000000             0.000000   \n",
       "75%        9.000000      5.000000        1.000000             1.000000   \n",
       "max       11.000000      6.000000        1.000000             1.000000   \n",
       "\n",
       "       periodo_dia_Rank  diadmes_Rank  \n",
       "count      51113.000000  51113.000000  \n",
       "mean           0.999765     15.250191  \n",
       "std            0.864261      8.857848  \n",
       "min            0.000000      0.000000  \n",
       "25%            0.000000      8.000000  \n",
       "50%            1.000000     15.000000  \n",
       "75%            2.000000     23.000000  \n",
       "max            2.000000     30.000000  \n",
       "\n",
       "[8 rows x 23 columns]"
      ]
     },
     "execution_count": 65,
     "metadata": {},
     "output_type": "execute_result"
    }
   ],
   "source": [
    "train.describe()"
   ]
  },
  {
   "cell_type": "markdown",
   "id": "9e2d59a5-014f-446c-b6d6-4d6ee12588d2",
   "metadata": {},
   "source": [
    "**Regresion Logística**"
   ]
  },
  {
   "cell_type": "code",
   "execution_count": 66,
   "id": "d92219ec-bdaf-40a4-8503-558e90e783a5",
   "metadata": {},
   "outputs": [
    {
     "data": {
      "text/html": [
       "<div>\n",
       "<style scoped>\n",
       "    .dataframe tbody tr th:only-of-type {\n",
       "        vertical-align: middle;\n",
       "    }\n",
       "\n",
       "    .dataframe tbody tr th {\n",
       "        vertical-align: top;\n",
       "    }\n",
       "\n",
       "    .dataframe thead th {\n",
       "        text-align: right;\n",
       "    }\n",
       "</style>\n",
       "<table border=\"1\" class=\"dataframe\">\n",
       "  <thead>\n",
       "    <tr style=\"text-align: right;\">\n",
       "      <th></th>\n",
       "      <th>Destino_Rank</th>\n",
       "      <th>Aerolinea_Rank</th>\n",
       "      <th>Mes_Rank</th>\n",
       "      <th>DIANOM_Rank</th>\n",
       "      <th>TIPOVUELO_Rank</th>\n",
       "      <th>temporada_alta_Rank</th>\n",
       "      <th>periodo_dia_Rank</th>\n",
       "      <th>diadmes_Rank</th>\n",
       "    </tr>\n",
       "  </thead>\n",
       "  <tbody>\n",
       "    <tr>\n",
       "      <th>Destino_Rank</th>\n",
       "      <td>1.000000</td>\n",
       "      <td>0.355267</td>\n",
       "      <td>-0.004242</td>\n",
       "      <td>-0.032642</td>\n",
       "      <td>0.701168</td>\n",
       "      <td>0.002156</td>\n",
       "      <td>0.000365</td>\n",
       "      <td>-0.002384</td>\n",
       "    </tr>\n",
       "    <tr>\n",
       "      <th>Aerolinea_Rank</th>\n",
       "      <td>0.355267</td>\n",
       "      <td>1.000000</td>\n",
       "      <td>0.004080</td>\n",
       "      <td>0.012679</td>\n",
       "      <td>0.201170</td>\n",
       "      <td>-0.019175</td>\n",
       "      <td>0.006656</td>\n",
       "      <td>0.003329</td>\n",
       "    </tr>\n",
       "    <tr>\n",
       "      <th>Mes_Rank</th>\n",
       "      <td>-0.004242</td>\n",
       "      <td>0.004080</td>\n",
       "      <td>1.000000</td>\n",
       "      <td>-0.007163</td>\n",
       "      <td>-0.006810</td>\n",
       "      <td>-0.002496</td>\n",
       "      <td>0.006022</td>\n",
       "      <td>-0.004872</td>\n",
       "    </tr>\n",
       "    <tr>\n",
       "      <th>DIANOM_Rank</th>\n",
       "      <td>-0.032642</td>\n",
       "      <td>0.012679</td>\n",
       "      <td>-0.007163</td>\n",
       "      <td>1.000000</td>\n",
       "      <td>-0.047597</td>\n",
       "      <td>-0.002968</td>\n",
       "      <td>0.001012</td>\n",
       "      <td>0.003013</td>\n",
       "    </tr>\n",
       "    <tr>\n",
       "      <th>TIPOVUELO_Rank</th>\n",
       "      <td>0.701168</td>\n",
       "      <td>0.201170</td>\n",
       "      <td>-0.006810</td>\n",
       "      <td>-0.047597</td>\n",
       "      <td>1.000000</td>\n",
       "      <td>-0.004399</td>\n",
       "      <td>0.003158</td>\n",
       "      <td>-0.003447</td>\n",
       "    </tr>\n",
       "    <tr>\n",
       "      <th>temporada_alta_Rank</th>\n",
       "      <td>0.002156</td>\n",
       "      <td>-0.019175</td>\n",
       "      <td>-0.002496</td>\n",
       "      <td>-0.002968</td>\n",
       "      <td>-0.004399</td>\n",
       "      <td>1.000000</td>\n",
       "      <td>0.009702</td>\n",
       "      <td>0.011584</td>\n",
       "    </tr>\n",
       "    <tr>\n",
       "      <th>periodo_dia_Rank</th>\n",
       "      <td>0.000365</td>\n",
       "      <td>0.006656</td>\n",
       "      <td>0.006022</td>\n",
       "      <td>0.001012</td>\n",
       "      <td>0.003158</td>\n",
       "      <td>0.009702</td>\n",
       "      <td>1.000000</td>\n",
       "      <td>0.000626</td>\n",
       "    </tr>\n",
       "    <tr>\n",
       "      <th>diadmes_Rank</th>\n",
       "      <td>-0.002384</td>\n",
       "      <td>0.003329</td>\n",
       "      <td>-0.004872</td>\n",
       "      <td>0.003013</td>\n",
       "      <td>-0.003447</td>\n",
       "      <td>0.011584</td>\n",
       "      <td>0.000626</td>\n",
       "      <td>1.000000</td>\n",
       "    </tr>\n",
       "  </tbody>\n",
       "</table>\n",
       "</div>"
      ],
      "text/plain": [
       "                     Destino_Rank  Aerolinea_Rank  Mes_Rank  DIANOM_Rank  \\\n",
       "Destino_Rank             1.000000        0.355267 -0.004242    -0.032642   \n",
       "Aerolinea_Rank           0.355267        1.000000  0.004080     0.012679   \n",
       "Mes_Rank                -0.004242        0.004080  1.000000    -0.007163   \n",
       "DIANOM_Rank             -0.032642        0.012679 -0.007163     1.000000   \n",
       "TIPOVUELO_Rank           0.701168        0.201170 -0.006810    -0.047597   \n",
       "temporada_alta_Rank      0.002156       -0.019175 -0.002496    -0.002968   \n",
       "periodo_dia_Rank         0.000365        0.006656  0.006022     0.001012   \n",
       "diadmes_Rank            -0.002384        0.003329 -0.004872     0.003013   \n",
       "\n",
       "                     TIPOVUELO_Rank  temporada_alta_Rank  periodo_dia_Rank  \\\n",
       "Destino_Rank               0.701168             0.002156          0.000365   \n",
       "Aerolinea_Rank             0.201170            -0.019175          0.006656   \n",
       "Mes_Rank                  -0.006810            -0.002496          0.006022   \n",
       "DIANOM_Rank               -0.047597            -0.002968          0.001012   \n",
       "TIPOVUELO_Rank             1.000000            -0.004399          0.003158   \n",
       "temporada_alta_Rank       -0.004399             1.000000          0.009702   \n",
       "periodo_dia_Rank           0.003158             0.009702          1.000000   \n",
       "diadmes_Rank              -0.003447             0.011584          0.000626   \n",
       "\n",
       "                     diadmes_Rank  \n",
       "Destino_Rank            -0.002384  \n",
       "Aerolinea_Rank           0.003329  \n",
       "Mes_Rank                -0.004872  \n",
       "DIANOM_Rank              0.003013  \n",
       "TIPOVUELO_Rank          -0.003447  \n",
       "temporada_alta_Rank      0.011584  \n",
       "periodo_dia_Rank         0.000626  \n",
       "diadmes_Rank             1.000000  "
      ]
     },
     "execution_count": 66,
     "metadata": {},
     "output_type": "execute_result"
    }
   ],
   "source": [
    "# Matriz de correlación\n",
    "# ==============================================================================\n",
    "corr_matrix = train[['Destino_Rank', 'Aerolinea_Rank', 'Mes_Rank', 'DIANOM_Rank', 'TIPOVUELO_Rank', \"temporada_alta_Rank\", \"periodo_dia_Rank\", \"diadmes_Rank\"]].corr(method='pearson')\n",
    "corr_matrix"
   ]
  },
  {
   "cell_type": "code",
   "execution_count": 67,
   "id": "64e67453-edf8-42d4-934c-e00f91528355",
   "metadata": {},
   "outputs": [],
   "source": [
    "#PRedictores 'Destino_Rank', 'Aerolinea_Rank', 'Mes_Rank', 'DIANOM_Rank', 'TIPOVUELO_Rank'\n",
    "#Respuesta atraso_15\n",
    "#Muestras de Desarrollo y validación - Reg Logistica\n",
    "y_train = train[\"atraso_15\"]\n",
    "X_train = train\n",
    "\n",
    "y_test = test[\"atraso_15\"]\n",
    "X_test = test  "
   ]
  },
  {
   "cell_type": "code",
   "execution_count": 68,
   "id": "509e8f2c-3daa-46c8-a56f-db52434ee1d5",
   "metadata": {},
   "outputs": [
    {
     "name": "stdout",
     "output_type": "stream",
     "text": [
      "Matriz de Confusión:\n",
      "[[13870    28]\n",
      " [ 3129    38]]\n"
     ]
    }
   ],
   "source": [
    "#Defino el algoritmo a utilizar\n",
    "from sklearn.linear_model import LogisticRegression\n",
    "\n",
    "modelo_rl = LogisticRegression()\n",
    "\n",
    "#Entreno el modelo\n",
    "modelo_rl.fit(X_train[['Destino_Rank', 'Aerolinea_Rank', 'Mes_Rank', 'DIANOM_Rank', \"temporada_alta_Rank\", \"periodo_dia_Rank\", \"diadmes_Rank\"]], y_train) #Se Elimina tipo de vuelo ya que presenta una correlación de 0,7 con Destino\n",
    "\n",
    "#Realizo una predicción\n",
    "y_pred = modelo_rl.predict(X_test[['Destino_Rank', 'Aerolinea_Rank', 'Mes_Rank', 'DIANOM_Rank', \"temporada_alta_Rank\", \"periodo_dia_Rank\", \"diadmes_Rank\"]]) #Se Elimina tipo de vuelo ya que presenta una correlación de 0,7 con Destino\n",
    "\n",
    "#Verifico la matriz de Confusión\n",
    "from sklearn.metrics import confusion_matrix\n",
    "\n",
    "matriz = confusion_matrix(y_test, y_pred)\n",
    "print('Matriz de Confusión:')\n",
    "print(matriz)"
   ]
  },
  {
   "cell_type": "code",
   "execution_count": 69,
   "id": "8ed5d87e-e2c9-4fa4-87e6-6f72a14c54f3",
   "metadata": {},
   "outputs": [
    {
     "data": {
      "text/html": [
       "<div>\n",
       "<style scoped>\n",
       "    .dataframe tbody tr th:only-of-type {\n",
       "        vertical-align: middle;\n",
       "    }\n",
       "\n",
       "    .dataframe tbody tr th {\n",
       "        vertical-align: top;\n",
       "    }\n",
       "\n",
       "    .dataframe thead th {\n",
       "        text-align: right;\n",
       "    }\n",
       "</style>\n",
       "<table border=\"1\" class=\"dataframe\">\n",
       "  <thead>\n",
       "    <tr style=\"text-align: right;\">\n",
       "      <th></th>\n",
       "      <th>VIF Factor</th>\n",
       "      <th>features</th>\n",
       "    </tr>\n",
       "  </thead>\n",
       "  <tbody>\n",
       "    <tr>\n",
       "      <th>0</th>\n",
       "      <td>4.7</td>\n",
       "      <td>Destino_Rank</td>\n",
       "    </tr>\n",
       "    <tr>\n",
       "      <th>1</th>\n",
       "      <td>7.9</td>\n",
       "      <td>Aerolinea_Rank</td>\n",
       "    </tr>\n",
       "    <tr>\n",
       "      <th>2</th>\n",
       "      <td>3.2</td>\n",
       "      <td>Mes_Rank</td>\n",
       "    </tr>\n",
       "    <tr>\n",
       "      <th>3</th>\n",
       "      <td>3.1</td>\n",
       "      <td>DIANOM_Rank</td>\n",
       "    </tr>\n",
       "    <tr>\n",
       "      <th>4</th>\n",
       "      <td>1.5</td>\n",
       "      <td>temporada_alta_Rank</td>\n",
       "    </tr>\n",
       "    <tr>\n",
       "      <th>5</th>\n",
       "      <td>2.2</td>\n",
       "      <td>periodo_dia_Rank</td>\n",
       "    </tr>\n",
       "    <tr>\n",
       "      <th>6</th>\n",
       "      <td>3.4</td>\n",
       "      <td>diadmes_Rank</td>\n",
       "    </tr>\n",
       "  </tbody>\n",
       "</table>\n",
       "</div>"
      ],
      "text/plain": [
       "   VIF Factor             features\n",
       "0         4.7         Destino_Rank\n",
       "1         7.9       Aerolinea_Rank\n",
       "2         3.2             Mes_Rank\n",
       "3         3.1          DIANOM_Rank\n",
       "4         1.5  temporada_alta_Rank\n",
       "5         2.2     periodo_dia_Rank\n",
       "6         3.4         diadmes_Rank"
      ]
     },
     "execution_count": 69,
     "metadata": {},
     "output_type": "execute_result"
    }
   ],
   "source": [
    "# For each X, calculate VIF and save in dataframe\n",
    "from statsmodels.stats.outliers_influence import variance_inflation_factor\n",
    "vif = pd.DataFrame()\n",
    "vif[\"VIF Factor\"] = [variance_inflation_factor(X_train[['Destino_Rank', 'Aerolinea_Rank', 'Mes_Rank', 'DIANOM_Rank', \"temporada_alta_Rank\", \"periodo_dia_Rank\", \"diadmes_Rank\"]].values, i) for i in range(X_train[['Destino_Rank', 'Aerolinea_Rank', 'Mes_Rank', 'DIANOM_Rank', \"temporada_alta_Rank\", \"periodo_dia_Rank\", \"diadmes_Rank\"]].shape[1])]\n",
    "vif[\"features\"] = X_train[['Destino_Rank', 'Aerolinea_Rank', 'Mes_Rank', 'DIANOM_Rank', \"temporada_alta_Rank\", \"periodo_dia_Rank\", \"diadmes_Rank\"]].columns\n",
    "vif.round(1)"
   ]
  },
  {
   "cell_type": "code",
   "execution_count": 70,
   "id": "5b768b2e-9e3c-49fa-bdfa-6033e5d944b5",
   "metadata": {},
   "outputs": [],
   "source": [
    "#Pego predicciones en bases de datos para después evaluar\n",
    "train[\"Prob_RL\"] = pd.DataFrame(modelo_rl.predict_proba(X_train[['Destino_Rank', 'Aerolinea_Rank', 'Mes_Rank', 'DIANOM_Rank', \"temporada_alta_Rank\", \"periodo_dia_Rank\", \"diadmes_Rank\"]]))[1]\n",
    "\n",
    "train['Pred_RL'] = np.where(\n",
    "     train['Prob_RL'] > 0.5,  1, 0)\n",
    "\n",
    "test[\"Prob_RL\"] = pd.DataFrame(modelo_rl.predict_proba(X_test[['Destino_Rank', 'Aerolinea_Rank', 'Mes_Rank', 'DIANOM_Rank', \"temporada_alta_Rank\", \"periodo_dia_Rank\", \"diadmes_Rank\"]]))[1]\n",
    "\n",
    "test['Pred_RL'] = np.where(\n",
    "     test['Prob_RL'] > 0.5,  1, 0)\n",
    "\n",
    "df[\"Prob_RL\"] = pd.DataFrame(modelo_rl.predict_proba(df[['Destino_Rank', 'Aerolinea_Rank', 'Mes_Rank', 'DIANOM_Rank', \"temporada_alta_Rank\", \"periodo_dia_Rank\", \"diadmes_Rank\"]]))[1]\n",
    "\n",
    "df['Pred_RL'] = np.where(\n",
    "     df['Prob_RL'] > 0.5,  1, 0)"
   ]
  },
  {
   "cell_type": "code",
   "execution_count": 71,
   "id": "23d7c855-377f-443f-b54a-2af4acb05745",
   "metadata": {},
   "outputs": [
    {
     "data": {
      "text/plain": [
       "KstestResult(statistic=0.20594224700752928, pvalue=2.115823854536154e-96)"
      ]
     },
     "execution_count": 71,
     "metadata": {},
     "output_type": "execute_result"
    }
   ],
   "source": [
    "from scipy.stats import ks_2samp\n",
    "ks_2samp(test[\"Prob_RL\"][test[\"atraso_15\"]==0], test[\"Prob_RL\"][test[\"atraso_15\"]==1])"
   ]
  },
  {
   "cell_type": "code",
   "execution_count": 72,
   "id": "f547d1a1-cb7b-46fd-9b79-3e975b7d2691",
   "metadata": {},
   "outputs": [
    {
     "name": "stdout",
     "output_type": "stream",
     "text": [
      "Matriz de Confusión:\n",
      "[[13865    33]\n",
      " [ 3128    39]]\n"
     ]
    }
   ],
   "source": [
    "#Defino el algoritmo a utilizar\n",
    "from sklearn.linear_model import LogisticRegression\n",
    "\n",
    "modelo_rl2 = LogisticRegression()\n",
    "\n",
    "#Entreno el modelo\n",
    "modelo_rl2.fit(X_train[['TIPOVUELO_Rank', 'Aerolinea_Rank', 'Mes_Rank', 'DIANOM_Rank', \"temporada_alta_Rank\", \"periodo_dia_Rank\", \"diadmes_Rank\"]], y_train) #Reemplazo Destino por TIPOVUELO\n",
    "\n",
    "#Realizo una predicción\n",
    "y_pred = modelo_rl2.predict(X_test[['TIPOVUELO_Rank', 'Aerolinea_Rank', 'Mes_Rank', 'DIANOM_Rank', \"temporada_alta_Rank\", \"periodo_dia_Rank\", \"diadmes_Rank\"]]) #Reemplazo Destino por TIPOVUELO\n",
    "\n",
    "#Verifico la matriz de Confusión\n",
    "from sklearn.metrics import confusion_matrix\n",
    "\n",
    "matriz = confusion_matrix(y_test, y_pred)\n",
    "print('Matriz de Confusión:')\n",
    "print(matriz)"
   ]
  },
  {
   "cell_type": "code",
   "execution_count": 73,
   "id": "e6f08f3d-730f-4642-ac12-59e415c912e8",
   "metadata": {},
   "outputs": [
    {
     "data": {
      "text/html": [
       "<div>\n",
       "<style scoped>\n",
       "    .dataframe tbody tr th:only-of-type {\n",
       "        vertical-align: middle;\n",
       "    }\n",
       "\n",
       "    .dataframe tbody tr th {\n",
       "        vertical-align: top;\n",
       "    }\n",
       "\n",
       "    .dataframe thead th {\n",
       "        text-align: right;\n",
       "    }\n",
       "</style>\n",
       "<table border=\"1\" class=\"dataframe\">\n",
       "  <thead>\n",
       "    <tr style=\"text-align: right;\">\n",
       "      <th></th>\n",
       "      <th>VIF Factor</th>\n",
       "      <th>features</th>\n",
       "    </tr>\n",
       "  </thead>\n",
       "  <tbody>\n",
       "    <tr>\n",
       "      <th>0</th>\n",
       "      <td>1.9</td>\n",
       "      <td>TIPOVUELO_Rank</td>\n",
       "    </tr>\n",
       "    <tr>\n",
       "      <th>1</th>\n",
       "      <td>6.1</td>\n",
       "      <td>Aerolinea_Rank</td>\n",
       "    </tr>\n",
       "    <tr>\n",
       "      <th>2</th>\n",
       "      <td>3.2</td>\n",
       "      <td>Mes_Rank</td>\n",
       "    </tr>\n",
       "    <tr>\n",
       "      <th>3</th>\n",
       "      <td>3.1</td>\n",
       "      <td>DIANOM_Rank</td>\n",
       "    </tr>\n",
       "    <tr>\n",
       "      <th>4</th>\n",
       "      <td>1.5</td>\n",
       "      <td>temporada_alta_Rank</td>\n",
       "    </tr>\n",
       "    <tr>\n",
       "      <th>5</th>\n",
       "      <td>2.2</td>\n",
       "      <td>periodo_dia_Rank</td>\n",
       "    </tr>\n",
       "    <tr>\n",
       "      <th>6</th>\n",
       "      <td>3.4</td>\n",
       "      <td>diadmes_Rank</td>\n",
       "    </tr>\n",
       "  </tbody>\n",
       "</table>\n",
       "</div>"
      ],
      "text/plain": [
       "   VIF Factor             features\n",
       "0         1.9       TIPOVUELO_Rank\n",
       "1         6.1       Aerolinea_Rank\n",
       "2         3.2             Mes_Rank\n",
       "3         3.1          DIANOM_Rank\n",
       "4         1.5  temporada_alta_Rank\n",
       "5         2.2     periodo_dia_Rank\n",
       "6         3.4         diadmes_Rank"
      ]
     },
     "execution_count": 73,
     "metadata": {},
     "output_type": "execute_result"
    }
   ],
   "source": [
    "# For each X, calculate VIF and save in dataframe\n",
    "from statsmodels.stats.outliers_influence import variance_inflation_factor\n",
    "vif = pd.DataFrame()\n",
    "vif[\"VIF Factor\"] = [variance_inflation_factor(X_train[['TIPOVUELO_Rank', 'Aerolinea_Rank', 'Mes_Rank', 'DIANOM_Rank', \"temporada_alta_Rank\", \"periodo_dia_Rank\", \"diadmes_Rank\"]].values, i) for i in range(X_train[['TIPOVUELO_Rank', 'Aerolinea_Rank', 'Mes_Rank', 'DIANOM_Rank', \"temporada_alta_Rank\", \"periodo_dia_Rank\", \"diadmes_Rank\"]].shape[1])]\n",
    "vif[\"features\"] = X_train[['TIPOVUELO_Rank', 'Aerolinea_Rank', 'Mes_Rank', 'DIANOM_Rank', \"temporada_alta_Rank\", \"periodo_dia_Rank\", \"diadmes_Rank\"]].columns\n",
    "vif.round(1)"
   ]
  },
  {
   "cell_type": "code",
   "execution_count": 74,
   "id": "ac252311-c513-4437-baae-d642d9adb84a",
   "metadata": {},
   "outputs": [],
   "source": [
    "#Pego predicciones en bases de datos para después evaluar\n",
    "train[\"Prob_RL2\"] = pd.DataFrame(modelo_rl2.predict_proba(X_train[['TIPOVUELO_Rank', 'Aerolinea_Rank', 'Mes_Rank', 'DIANOM_Rank', \"temporada_alta_Rank\", \"periodo_dia_Rank\", \"diadmes_Rank\"]]))[1]\n",
    "\n",
    "train['Pred_RL2'] = np.where(\n",
    "     train['Prob_RL2'] > 0.5,  1, 0)\n",
    "\n",
    "test[\"Prob_RL2\"] = pd.DataFrame(modelo_rl2.predict_proba(X_test[['TIPOVUELO_Rank', 'Aerolinea_Rank', 'Mes_Rank', 'DIANOM_Rank', \"temporada_alta_Rank\", \"periodo_dia_Rank\", \"diadmes_Rank\"]]))[1]\n",
    "\n",
    "test['Pred_RL2'] = np.where(\n",
    "     test['Prob_RL2'] > 0.5,  1, 0)\n",
    "\n",
    "df[\"Prob_RL2\"] = pd.DataFrame(modelo_rl2.predict_proba(df[['TIPOVUELO_Rank', 'Aerolinea_Rank', 'Mes_Rank', 'DIANOM_Rank', \"temporada_alta_Rank\", \"periodo_dia_Rank\", \"diadmes_Rank\"]]))[1]\n",
    "\n",
    "df['Pred_RL2'] = np.where(\n",
    "     df['Prob_RL2'] > 0.5,  1, 0)"
   ]
  },
  {
   "cell_type": "code",
   "execution_count": 75,
   "id": "e39c67af-6de2-4245-a455-74a07463064e",
   "metadata": {},
   "outputs": [
    {
     "data": {
      "text/plain": [
       "KstestResult(statistic=0.20058934045297233, pvalue=1.967788987734217e-91)"
      ]
     },
     "execution_count": 75,
     "metadata": {},
     "output_type": "execute_result"
    }
   ],
   "source": [
    "from scipy.stats import ks_2samp\n",
    "ks_2samp(test[\"Prob_RL2\"][test[\"atraso_15\"]==0], test[\"Prob_RL2\"][test[\"atraso_15\"]==1])"
   ]
  },
  {
   "cell_type": "code",
   "execution_count": 76,
   "id": "e7eed675-8128-490d-a903-785d5661fa52",
   "metadata": {},
   "outputs": [
    {
     "name": "stdout",
     "output_type": "stream",
     "text": [
      "Matriz de Confusión:\n",
      "[[13865    33]\n",
      " [ 3128    39]]\n"
     ]
    }
   ],
   "source": [
    "#Modelo RL3\n",
    "import pandas as pd\n",
    "import numpy as np\n",
    "from sklearn.linear_model import LogisticRegression\n",
    "from sklearn.metrics import confusion_matrix\n",
    "import matplotlib.pyplot as plt\n",
    "\n",
    "modelo_rl3 = LogisticRegression()\n",
    "modelo_rl3.fit(X_train[['TIPOVUELO_Rank', 'Mes_Rank', 'DIANOM_Rank', \"temporada_alta_Rank\", \"periodo_dia_Rank\", \"diadmes_Rank\"]],y_train)\n",
    "\n",
    "#Verifico la matriz de Confusión\n",
    "from sklearn.metrics import confusion_matrix\n",
    "\n",
    "matriz = confusion_matrix(y_test, y_pred)\n",
    "print('Matriz de Confusión:')\n",
    "print(matriz)"
   ]
  },
  {
   "cell_type": "code",
   "execution_count": 77,
   "id": "5df4df8f-1346-4e78-a2c5-8ed3a2d4bb73",
   "metadata": {},
   "outputs": [
    {
     "data": {
      "text/html": [
       "<div>\n",
       "<style scoped>\n",
       "    .dataframe tbody tr th:only-of-type {\n",
       "        vertical-align: middle;\n",
       "    }\n",
       "\n",
       "    .dataframe tbody tr th {\n",
       "        vertical-align: top;\n",
       "    }\n",
       "\n",
       "    .dataframe thead th {\n",
       "        text-align: right;\n",
       "    }\n",
       "</style>\n",
       "<table border=\"1\" class=\"dataframe\">\n",
       "  <thead>\n",
       "    <tr style=\"text-align: right;\">\n",
       "      <th></th>\n",
       "      <th>VIF Factor</th>\n",
       "      <th>features</th>\n",
       "    </tr>\n",
       "  </thead>\n",
       "  <tbody>\n",
       "    <tr>\n",
       "      <th>0</th>\n",
       "      <td>1.7</td>\n",
       "      <td>TIPOVUELO_Rank</td>\n",
       "    </tr>\n",
       "    <tr>\n",
       "      <th>1</th>\n",
       "      <td>2.8</td>\n",
       "      <td>Mes_Rank</td>\n",
       "    </tr>\n",
       "    <tr>\n",
       "      <th>2</th>\n",
       "      <td>2.7</td>\n",
       "      <td>DIANOM_Rank</td>\n",
       "    </tr>\n",
       "    <tr>\n",
       "      <th>3</th>\n",
       "      <td>1.4</td>\n",
       "      <td>temporada_alta_Rank</td>\n",
       "    </tr>\n",
       "    <tr>\n",
       "      <th>4</th>\n",
       "      <td>2.1</td>\n",
       "      <td>periodo_dia_Rank</td>\n",
       "    </tr>\n",
       "    <tr>\n",
       "      <th>5</th>\n",
       "      <td>3.0</td>\n",
       "      <td>diadmes_Rank</td>\n",
       "    </tr>\n",
       "  </tbody>\n",
       "</table>\n",
       "</div>"
      ],
      "text/plain": [
       "   VIF Factor             features\n",
       "0         1.7       TIPOVUELO_Rank\n",
       "1         2.8             Mes_Rank\n",
       "2         2.7          DIANOM_Rank\n",
       "3         1.4  temporada_alta_Rank\n",
       "4         2.1     periodo_dia_Rank\n",
       "5         3.0         diadmes_Rank"
      ]
     },
     "execution_count": 77,
     "metadata": {},
     "output_type": "execute_result"
    }
   ],
   "source": [
    "# For each X, calculate VIF and save in dataframe\n",
    "from statsmodels.stats.outliers_influence import variance_inflation_factor\n",
    "vif = pd.DataFrame()\n",
    "vif[\"VIF Factor\"] = [variance_inflation_factor(X_train[['TIPOVUELO_Rank', 'Mes_Rank', 'DIANOM_Rank', \"temporada_alta_Rank\", \"periodo_dia_Rank\", \"diadmes_Rank\"]].values, i) for i in range(X_train[['TIPOVUELO_Rank', 'Mes_Rank', 'DIANOM_Rank', \"temporada_alta_Rank\", \"periodo_dia_Rank\", \"diadmes_Rank\"]].shape[1])]\n",
    "vif[\"features\"] = X_train[['TIPOVUELO_Rank', 'Mes_Rank', 'DIANOM_Rank', \"temporada_alta_Rank\", \"periodo_dia_Rank\", \"diadmes_Rank\"]].columns\n",
    "vif.round(1)"
   ]
  },
  {
   "cell_type": "code",
   "execution_count": 78,
   "id": "c517b3fc-fab1-4f2e-8211-8e128f3e0d8a",
   "metadata": {},
   "outputs": [],
   "source": [
    "#Pego predicciones en bases de datos para después evaluar\n",
    "train[\"Prob_RL3\"] = pd.DataFrame(modelo_rl3.predict_proba(X_train[['TIPOVUELO_Rank', 'Mes_Rank', 'DIANOM_Rank', \"temporada_alta_Rank\", \"periodo_dia_Rank\", \"diadmes_Rank\"]]))[1]\n",
    "\n",
    "train['Pred_RL3'] = np.where(\n",
    "     train['Prob_RL3'] > 0.5,  1, 0)\n",
    "\n",
    "test[\"Prob_RL3\"] = pd.DataFrame(modelo_rl3.predict_proba(X_test[['TIPOVUELO_Rank', 'Mes_Rank', 'DIANOM_Rank', \"temporada_alta_Rank\", \"periodo_dia_Rank\", \"diadmes_Rank\"]]))[1]\n",
    "\n",
    "test['Pred_RL3'] = np.where(\n",
    "     test['Prob_RL3'] > 0.5,  1, 0)\n",
    "\n",
    "df[\"Prob_RL3\"] = pd.DataFrame(modelo_rl3.predict_proba(df[['TIPOVUELO_Rank', 'Mes_Rank', 'DIANOM_Rank', \"temporada_alta_Rank\", \"periodo_dia_Rank\", \"diadmes_Rank\"]]))[1]\n",
    "\n",
    "df['Pred_RL3'] = np.where(\n",
    "     df['Prob_RL3'] > 0.5,  1, 0)"
   ]
  },
  {
   "cell_type": "code",
   "execution_count": 79,
   "id": "f00fe4a2-9a70-48c2-a1d2-d41578590f35",
   "metadata": {},
   "outputs": [
    {
     "data": {
      "text/plain": [
       "KstestResult(statistic=0.20317437347445677, pvalue=0.0)"
      ]
     },
     "execution_count": 79,
     "metadata": {},
     "output_type": "execute_result"
    }
   ],
   "source": [
    "from scipy.stats import ks_2samp\n",
    "ks_2samp(df[\"Prob_RL3\"][df[\"atraso_15\"]==0], df[\"Prob_RL3\"][df[\"atraso_15\"]==1])"
   ]
  },
  {
   "cell_type": "markdown",
   "id": "e1e43508-c3b0-4735-8d61-5f5fa37d4037",
   "metadata": {},
   "source": [
    "**Naive Bayes**"
   ]
  },
  {
   "cell_type": "code",
   "execution_count": 80,
   "id": "f96fccce-ef2d-49dd-ac02-053573c5f78b",
   "metadata": {},
   "outputs": [],
   "source": [
    "#Como Naive Bayes no tiene tantas restricciones como la regresión lineal, se vuelve a generar X_train y X_test\n",
    "X_train = train[['Destino_Rank', 'Aerolinea_Rank', 'Mes_Rank', 'DIANOM_Rank', 'TIPOVUELO_Rank', \"temporada_alta_Rank\", \"periodo_dia_Rank\", \"diadmes_Rank\", \"Prob_RL\", \"Prob_RL2\", \"Prob_RL3\"]]\n",
    "\n",
    "X_test = test[['Destino_Rank', 'Aerolinea_Rank', 'Mes_Rank', 'DIANOM_Rank', 'TIPOVUELO_Rank', \"temporada_alta_Rank\", \"periodo_dia_Rank\", \"diadmes_Rank\", \"Prob_RL\", \"Prob_RL2\", \"Prob_RL3\"]]"
   ]
  },
  {
   "cell_type": "code",
   "execution_count": 81,
   "id": "3ef85dd6-4099-49bd-9764-21843bdcd069",
   "metadata": {},
   "outputs": [],
   "source": [
    "import numpy as np\n",
    "from sklearn.naive_bayes import BernoulliNB\n",
    "from sklearn.naive_bayes import MultinomialNB\n",
    "from sklearn.naive_bayes import GaussianNB"
   ]
  },
  {
   "cell_type": "code",
   "execution_count": 82,
   "id": "9bd45e7e-d351-4efc-8906-6f2d34ca00fd",
   "metadata": {},
   "outputs": [],
   "source": [
    "#Modelo Bernoulli\n",
    "modelo_NB = BernoulliNB()\n",
    "#clf = MultinomialNB()\n",
    "modelo_NB.fit(X_train,y_train)\n",
    "Y_pred = pd.DataFrame(modelo_NB.predict_proba(X_train))[1]\n"
   ]
  },
  {
   "cell_type": "code",
   "execution_count": 83,
   "id": "f8dc7663-b3de-463b-93ad-12864ae97f9f",
   "metadata": {},
   "outputs": [],
   "source": [
    "#Pego predicciones en bases de datos para después evaluar\n",
    "train[\"Prob_NB\"] = pd.DataFrame(modelo_NB.predict_proba(X_train[['Destino_Rank', 'Aerolinea_Rank', 'Mes_Rank', 'DIANOM_Rank', 'TIPOVUELO_Rank', \"temporada_alta_Rank\", \"periodo_dia_Rank\", \"diadmes_Rank\", \"Prob_RL\", \"Prob_RL2\", \"Prob_RL3\"]]))[1]\n",
    "\n",
    "train['Pred_NB'] = np.where(\n",
    "     train['Prob_NB'] > 0.5,  1, 0)\n",
    "\n",
    "test[\"Prob_NB\"] = pd.DataFrame(modelo_NB.predict_proba(X_test[['Destino_Rank', 'Aerolinea_Rank', 'Mes_Rank', 'DIANOM_Rank', 'TIPOVUELO_Rank', \"temporada_alta_Rank\", \"periodo_dia_Rank\", \"diadmes_Rank\", \"Prob_RL\", \"Prob_RL2\", \"Prob_RL3\"]]))[1]\n",
    "\n",
    "test['Pred_NB'] = np.where(\n",
    "     test['Prob_NB'] > 0.5,  1, 0)\n",
    "\n",
    "df[\"Prob_NB\"] = pd.DataFrame(modelo_NB.predict_proba(df[['Destino_Rank', 'Aerolinea_Rank', 'Mes_Rank', 'DIANOM_Rank', 'TIPOVUELO_Rank', \"temporada_alta_Rank\", \"periodo_dia_Rank\", \"diadmes_Rank\", \"Prob_RL\", \"Prob_RL2\", \"Prob_RL3\"]]))[1]\n",
    "\n",
    "df['Pred_NB'] = np.where(\n",
    "     df['Prob_NB'] > 0.5,  1, 0)\n",
    "#df"
   ]
  },
  {
   "cell_type": "code",
   "execution_count": 84,
   "id": "4649d82e-8adf-4007-a791-157dc308c349",
   "metadata": {},
   "outputs": [
    {
     "data": {
      "text/plain": [
       "KstestResult(statistic=0.15522290218849155, pvalue=1.147533263518002e-216)"
      ]
     },
     "execution_count": 84,
     "metadata": {},
     "output_type": "execute_result"
    }
   ],
   "source": [
    "from scipy.stats import ks_2samp\n",
    "ks_2samp(df[\"Prob_NB\"][df[\"atraso_15\"]==0], df[\"Prob_NB\"][df[\"atraso_15\"]==1])"
   ]
  },
  {
   "cell_type": "markdown",
   "id": "e226aab1-c69d-480e-b800-8e35b97a5527",
   "metadata": {},
   "source": [
    "**Árbol de Decisión**"
   ]
  },
  {
   "cell_type": "code",
   "execution_count": 85,
   "id": "29c4ea8d-942e-49bb-b428-380a14b9a2db",
   "metadata": {},
   "outputs": [],
   "source": [
    "#Árbol de Decisión para comparar con Random Forest\n",
    "from sklearn import tree\n",
    "from sklearn.ensemble import RandomForestClassifier\n",
    "arbol_dec = tree.DecisionTreeClassifier()\n",
    "\n",
    "arbol_dec = arbol_dec.fit(X_train,y_train)"
   ]
  },
  {
   "cell_type": "code",
   "execution_count": 86,
   "id": "6eb9f8ef-1bd8-4c20-8f9d-0e8a2ef74748",
   "metadata": {},
   "outputs": [],
   "source": [
    "#Pego predicciones en bases de datos para después evaluar\n",
    "train[\"Prob_DT\"] = pd.DataFrame(arbol_dec.predict_proba(X_train[['Destino_Rank', 'Aerolinea_Rank', 'Mes_Rank', 'DIANOM_Rank', 'TIPOVUELO_Rank', \"temporada_alta_Rank\", \"periodo_dia_Rank\", \"diadmes_Rank\", \"Prob_RL\", \"Prob_RL2\", \"Prob_RL3\"]]))[1]\n",
    "\n",
    "train['Pred_DT'] = np.where(\n",
    "     train['Prob_DT'] > 0.5,  1, 0)\n",
    "\n",
    "test[\"Prob_DT\"] = pd.DataFrame(arbol_dec.predict_proba(X_test[['Destino_Rank', 'Aerolinea_Rank', 'Mes_Rank', 'DIANOM_Rank', 'TIPOVUELO_Rank', \"temporada_alta_Rank\", \"periodo_dia_Rank\", \"diadmes_Rank\", \"Prob_RL\", \"Prob_RL2\", \"Prob_RL3\"]]))[1]\n",
    "\n",
    "test['Pred_DT'] = np.where(\n",
    "     test['Prob_DT'] > 0.5,  1, 0)\n",
    "\n",
    "df[\"Prob_DT\"] = pd.DataFrame(arbol_dec.predict_proba(df[['Destino_Rank', 'Aerolinea_Rank', 'Mes_Rank', 'DIANOM_Rank', 'TIPOVUELO_Rank', \"temporada_alta_Rank\", \"periodo_dia_Rank\", \"diadmes_Rank\", \"Prob_RL\", \"Prob_RL2\", \"Prob_RL3\"]]))[1]\n",
    "\n",
    "df['Pred_DT'] = np.where(\n",
    "     df['Prob_DT'] > 0.5,  1, 0)\n",
    "#df"
   ]
  },
  {
   "cell_type": "code",
   "execution_count": 87,
   "id": "7bcb9904-9916-4bbb-bf40-35ebbf9ccf2e",
   "metadata": {},
   "outputs": [
    {
     "data": {
      "text/plain": [
       "KstestResult(statistic=0.14240831175468815, pvalue=4.238226341421116e-46)"
      ]
     },
     "execution_count": 87,
     "metadata": {},
     "output_type": "execute_result"
    }
   ],
   "source": [
    "from scipy.stats import ks_2samp\n",
    "ks_2samp(test[\"Prob_DT\"][test[\"atraso_15\"]==0], test[\"Prob_DT\"][test[\"atraso_15\"]==1])"
   ]
  },
  {
   "cell_type": "markdown",
   "id": "203fcc80-9b30-4015-b906-507e81392c85",
   "metadata": {},
   "source": [
    "**Random Forest**"
   ]
  },
  {
   "cell_type": "code",
   "execution_count": 88,
   "id": "e66044b8-270e-4b9b-b2b4-723be949673a",
   "metadata": {},
   "outputs": [],
   "source": [
    "#Random Forest\n",
    "rdm_forest = RandomForestClassifier(n_estimators = 100, n_jobs = -1)\n",
    "rdm_forest.fit(X_train,y_train)\n",
    "Y_pred_test = rdm_forest.predict(X_test)"
   ]
  },
  {
   "cell_type": "code",
   "execution_count": 89,
   "id": "61514edf-f56b-45ae-a44a-8271e89f0fbb",
   "metadata": {},
   "outputs": [],
   "source": [
    "#Pego predicciones en bases de datos para después evaluar\n",
    "train[\"Prob_RF\"] = pd.DataFrame(rdm_forest.predict_proba(X_train))[1]\n",
    "\n",
    "train['Pred_RF'] = np.where(\n",
    "     train['Prob_RF'] > 0.5,  1, 0)\n",
    "\n",
    "test[\"Prob_RF\"] = pd.DataFrame(rdm_forest.predict_proba(X_test))[1]\n",
    "\n",
    "test['Pred_RF'] = np.where(\n",
    "     test['Prob_RF'] > 0.5,  1, 0)\n",
    "\n",
    "df[\"Prob_RF\"] = pd.DataFrame(rdm_forest.predict_proba(df[['Destino_Rank', 'Aerolinea_Rank', 'Mes_Rank', 'DIANOM_Rank', 'TIPOVUELO_Rank', \"temporada_alta_Rank\", \"periodo_dia_Rank\", \"diadmes_Rank\", \"Prob_RL\", \"Prob_RL2\", \"Prob_RL3\"]]))[1]\n",
    "\n",
    "df['Pred_RF'] = np.where(\n",
    "     df['Prob_RF'] > 0.5,  1, 0)\n",
    "#df"
   ]
  },
  {
   "cell_type": "code",
   "execution_count": 90,
   "id": "66eeba60-30db-45d8-b70f-f0e9cef76690",
   "metadata": {},
   "outputs": [
    {
     "data": {
      "text/plain": [
       "KstestResult(statistic=0.23544069078685648, pvalue=3.1090420126716885e-126)"
      ]
     },
     "execution_count": 90,
     "metadata": {},
     "output_type": "execute_result"
    }
   ],
   "source": [
    "from scipy.stats import ks_2samp\n",
    "ks_2samp(test[\"Prob_RF\"][test[\"atraso_15\"]==0], test[\"Prob_RF\"][test[\"atraso_15\"]==1])"
   ]
  },
  {
   "cell_type": "markdown",
   "id": "04fd7c42-aa91-43cd-80a7-db67fd9960ad",
   "metadata": {},
   "source": [
    "**XGBoost**"
   ]
  },
  {
   "cell_type": "code",
   "execution_count": 91,
   "id": "63372578-08ee-41ea-b117-5bc64b6b19ac",
   "metadata": {},
   "outputs": [
    {
     "name": "stderr",
     "output_type": "stream",
     "text": [
      "C:\\Users\\patri\\anaconda3_v2\\lib\\site-packages\\xgboost\\compat.py:36: FutureWarning: pandas.Int64Index is deprecated and will be removed from pandas in a future version. Use pandas.Index with the appropriate dtype instead.\n",
      "  from pandas import MultiIndex, Int64Index\n"
     ]
    }
   ],
   "source": [
    "from numpy import loadtxt\n",
    "from xgboost import XGBClassifier"
   ]
  },
  {
   "cell_type": "code",
   "execution_count": 92,
   "id": "211404cf-1689-4c01-972a-af2e18faa034",
   "metadata": {},
   "outputs": [],
   "source": [
    "#df.dtypes"
   ]
  },
  {
   "cell_type": "code",
   "execution_count": 93,
   "id": "29fc0ff1-af8d-4828-ba33-b0bd03f70a80",
   "metadata": {},
   "outputs": [
    {
     "name": "stderr",
     "output_type": "stream",
     "text": [
      "C:\\Users\\patri\\anaconda3_v2\\lib\\site-packages\\xgboost\\sklearn.py:1224: UserWarning: The use of label encoder in XGBClassifier is deprecated and will be removed in a future release. To remove this warning, do the following: 1) Pass option use_label_encoder=False when constructing XGBClassifier object; and 2) Encode your labels (y) as integers starting with 0, i.e. 0, 1, 2, ..., [num_class - 1].\n",
      "  warnings.warn(label_encoder_deprecation_msg, UserWarning)\n",
      "C:\\Users\\patri\\anaconda3_v2\\lib\\site-packages\\xgboost\\data.py:250: FutureWarning: pandas.Int64Index is deprecated and will be removed from pandas in a future version. Use pandas.Index with the appropriate dtype instead.\n",
      "  elif isinstance(data.columns, (pd.Int64Index, pd.RangeIndex)):\n"
     ]
    },
    {
     "name": "stdout",
     "output_type": "stream",
     "text": [
      "[23:03:05] WARNING: C:\\Windows\\Temp\\abs_557yfx631l\\croots\\recipe\\xgboost-split_1659548953302\\work\\src\\learner.cc:1115: Starting in XGBoost 1.3.0, the default evaluation metric used with the objective 'binary:logistic' was changed from 'error' to 'logloss'. Explicitly set eval_metric if you'd like to restore the old behavior.\n"
     ]
    },
    {
     "data": {
      "text/plain": [
       "XGBClassifier(base_score=0.5, booster='gbtree', colsample_bylevel=1,\n",
       "              colsample_bynode=1, colsample_bytree=1, enable_categorical=False,\n",
       "              gamma=0, gpu_id=-1, importance_type=None,\n",
       "              interaction_constraints='', learning_rate=0.300000012,\n",
       "              max_delta_step=0, max_depth=6, min_child_weight=1, missing=nan,\n",
       "              monotone_constraints='()', n_estimators=100, n_jobs=8,\n",
       "              num_parallel_tree=1, predictor='auto', random_state=0,\n",
       "              reg_alpha=0, reg_lambda=1, scale_pos_weight=1, subsample=1,\n",
       "              tree_method='exact', validate_parameters=1, verbosity=None)"
      ]
     },
     "execution_count": 93,
     "metadata": {},
     "output_type": "execute_result"
    }
   ],
   "source": [
    "# fit model on training data\n",
    "model_xgb = XGBClassifier()\n",
    "model_xgb.fit(X_train, y_train)"
   ]
  },
  {
   "cell_type": "code",
   "execution_count": 94,
   "id": "c10b3ded-ba04-48a1-a18e-f516f39d764e",
   "metadata": {},
   "outputs": [],
   "source": [
    "# make predictions for test data\n",
    "y_pred = model_xgb.predict(X_test)\n",
    "predictions = [round(value) for value in y_pred]"
   ]
  },
  {
   "cell_type": "code",
   "execution_count": 95,
   "id": "80496fe8-4104-445f-9dad-760e5c62ab40",
   "metadata": {
    "tags": []
   },
   "outputs": [],
   "source": [
    "#Se Agrega probabilidad estimada con xgb a df, train y test\n",
    "train[\"Prob_XGB1\"] = pd.DataFrame(model_xgb.predict_proba(train[['Destino_Rank', 'Aerolinea_Rank', 'Mes_Rank', 'DIANOM_Rank', 'TIPOVUELO_Rank', \"temporada_alta_Rank\", \"periodo_dia_Rank\", \"diadmes_Rank\", \"Prob_RL\", \"Prob_RL2\", \"Prob_RL3\"]]))[1]\n",
    "test[\"Prob_XGB1\"] = pd.DataFrame(model_xgb.predict_proba(test[['Destino_Rank', 'Aerolinea_Rank', 'Mes_Rank', 'DIANOM_Rank', 'TIPOVUELO_Rank', \"temporada_alta_Rank\", \"periodo_dia_Rank\", \"diadmes_Rank\", \"Prob_RL\", \"Prob_RL2\", \"Prob_RL3\"]]))[1]\n",
    "df[\"Prob_XGB1\"] = pd.DataFrame(model_xgb.predict_proba(df[['Destino_Rank', 'Aerolinea_Rank', 'Mes_Rank', 'DIANOM_Rank', 'TIPOVUELO_Rank', \"temporada_alta_Rank\", \"periodo_dia_Rank\", \"diadmes_Rank\", \"Prob_RL\", \"Prob_RL2\", \"Prob_RL3\"]]))[1]"
   ]
  },
  {
   "cell_type": "code",
   "execution_count": 96,
   "id": "e6bf282a-d5d7-43ef-9d23-f656c82a26d7",
   "metadata": {},
   "outputs": [
    {
     "data": {
      "text/plain": [
       "KstestResult(statistic=0.29229221715177517, pvalue=1.096972655270055e-195)"
      ]
     },
     "execution_count": 96,
     "metadata": {},
     "output_type": "execute_result"
    }
   ],
   "source": [
    "from scipy.stats import ks_2samp\n",
    "ks_2samp(test[\"Prob_XGB1\"][test[\"atraso_15\"]==0], test[\"Prob_XGB1\"][test[\"atraso_15\"]==1])"
   ]
  },
  {
   "cell_type": "code",
   "execution_count": 97,
   "id": "7d4ababd-d6a6-4746-ba51-291502c84271",
   "metadata": {},
   "outputs": [
    {
     "data": {
      "text/plain": [
       "KstestResult(statistic=0.47120282569223215, pvalue=0.0)"
      ]
     },
     "execution_count": 97,
     "metadata": {},
     "output_type": "execute_result"
    }
   ],
   "source": [
    "from scipy.stats import ks_2samp\n",
    "ks_2samp(train[\"Prob_XGB1\"][train[\"atraso_15\"]==0], train[\"Prob_XGB1\"][train[\"atraso_15\"]==1])"
   ]
  },
  {
   "cell_type": "code",
   "execution_count": 98,
   "id": "19d61178-c1f1-4a8c-a1d4-a4d9a680619a",
   "metadata": {},
   "outputs": [
    {
     "name": "stderr",
     "output_type": "stream",
     "text": [
      "C:\\Users\\patri\\anaconda3_v2\\lib\\site-packages\\xgboost\\sklearn.py:1224: UserWarning: The use of label encoder in XGBClassifier is deprecated and will be removed in a future release. To remove this warning, do the following: 1) Pass option use_label_encoder=False when constructing XGBClassifier object; and 2) Encode your labels (y) as integers starting with 0, i.e. 0, 1, 2, ..., [num_class - 1].\n",
      "  warnings.warn(label_encoder_deprecation_msg, UserWarning)\n",
      "C:\\Users\\patri\\anaconda3_v2\\lib\\site-packages\\xgboost\\data.py:250: FutureWarning: pandas.Int64Index is deprecated and will be removed from pandas in a future version. Use pandas.Index with the appropriate dtype instead.\n",
      "  elif isinstance(data.columns, (pd.Int64Index, pd.RangeIndex)):\n"
     ]
    },
    {
     "data": {
      "text/plain": [
       "XGBClassifier(base_score=0.5, booster='gbtree', colsample_bylevel=1,\n",
       "              colsample_bynode=1, colsample_bytree=1, enable_categorical=False,\n",
       "              eval_metric='aucpr', gamma=0.01, gpu_id=-1, importance_type=None,\n",
       "              interaction_constraints='', learning_rate=0.2, max_delta_step=0,\n",
       "              max_depth=3, min_child_weight=1, missing=nan,\n",
       "              monotone_constraints='()', n_estimators=500, n_jobs=-1,\n",
       "              num_parallel_tree=1, predictor='auto', random_state=0,\n",
       "              reg_alpha=0, reg_lambda=1, scale_pos_weight=1, subsample=1,\n",
       "              tree_method='exact', validate_parameters=1, verbosity=0)"
      ]
     },
     "execution_count": 98,
     "metadata": {},
     "output_type": "execute_result"
    }
   ],
   "source": [
    "#XGBoost 2 Modificando Hiper parámetros\n",
    "model_xgb2 = XGBClassifier(#base_score=0.5,  Se estima automáticamente por defecto \n",
    "                          booster='gbtree', #Booster que se va a usar, puede ser gbtree, gblinear or dart\n",
    "                          colsample_bylevel=1, colsample_bynode=1, colsample_bytree=1, #Muestreo de columnas\n",
    "                          enable_categorical=False,\n",
    "                          gamma=0.01, #Llamado también min_split_loss\n",
    "                          gpu_id=-1, \n",
    "                          interaction_constraints='', #Restricciones a las interacciones\n",
    "                          learning_rate=0.2,   #También llamado eta, velocidad a la que aprende cada vez que hace un árbol\n",
    "                          max_delta_step=0,            #Delta máximo en cada paso, para poner restricciones es recomendable de 1-10\n",
    "                          max_depth=3,                 #Máxima profundidad por árbol\n",
    "                          min_child_weight=1,          #Minimum sum of instance weight (hessian) needed in a child\n",
    "                          monotone_constraints='()', \n",
    "                          n_estimators=500,            \n",
    "                          n_jobs=-1,\n",
    "                          num_parallel_tree=1,        #Number of paralell trees\n",
    "                          predictor='auto',           #The type of predictor algorithm to use. Provides the same results but allows the use of GPU or CPU.\n",
    "                          subsample=1,\n",
    "                          tree_method='exact', \n",
    "                          validate_parameters=1, \n",
    "                          verbosity= 0,                #Mensajes - Verbosity of printing messages. Valid values of 0 (silent), 1 (warning), 2 (info), and 3 (debug). | None por defecto\n",
    "                          eval_metric = \"aucpr\")\n",
    "model_xgb2.fit(X_train, y_train)"
   ]
  },
  {
   "cell_type": "code",
   "execution_count": 99,
   "id": "5e755e93-e437-4e23-8fce-ba11d5408660",
   "metadata": {},
   "outputs": [],
   "source": [
    "#Se Agrega probabilidad estimada con xgb a df, train y test\n",
    "train[\"Prob_XGB2\"] = pd.DataFrame(model_xgb2.predict_proba(train[['Destino_Rank', 'Aerolinea_Rank', 'Mes_Rank', 'DIANOM_Rank', 'TIPOVUELO_Rank', \"temporada_alta_Rank\", \"periodo_dia_Rank\", \"diadmes_Rank\", \"Prob_RL\", \"Prob_RL2\", \"Prob_RL3\"]]))[1]\n",
    "test[\"Prob_XGB2\"] = pd.DataFrame(model_xgb2.predict_proba(test[['Destino_Rank', 'Aerolinea_Rank', 'Mes_Rank', 'DIANOM_Rank', 'TIPOVUELO_Rank', \"temporada_alta_Rank\", \"periodo_dia_Rank\", \"diadmes_Rank\", \"Prob_RL\", \"Prob_RL2\", \"Prob_RL3\"]]))[1]\n",
    "df[\"Prob_XGB2\"] = pd.DataFrame(model_xgb2.predict_proba(df[['Destino_Rank', 'Aerolinea_Rank', 'Mes_Rank', 'DIANOM_Rank', 'TIPOVUELO_Rank', \"temporada_alta_Rank\", \"periodo_dia_Rank\", \"diadmes_Rank\", \"Prob_RL\", \"Prob_RL2\", \"Prob_RL3\"]]))[1]"
   ]
  },
  {
   "cell_type": "code",
   "execution_count": 100,
   "id": "e17ae169-e376-4c27-b15b-0cb3200ef189",
   "metadata": {},
   "outputs": [
    {
     "data": {
      "text/plain": [
       "KstestResult(statistic=0.28485840475260166, pvalue=1.081578409886009e-185)"
      ]
     },
     "execution_count": 100,
     "metadata": {},
     "output_type": "execute_result"
    }
   ],
   "source": [
    "from scipy.stats import ks_2samp\n",
    "ks_2samp(test[\"Prob_XGB2\"][test[\"atraso_15\"]==0], test[\"Prob_XGB2\"][test[\"atraso_15\"]==1])"
   ]
  },
  {
   "cell_type": "code",
   "execution_count": 101,
   "id": "4f05ec90-9868-4a68-88cd-de08979897eb",
   "metadata": {},
   "outputs": [
    {
     "data": {
      "text/plain": [
       "KstestResult(statistic=0.40384716593301545, pvalue=0.0)"
      ]
     },
     "execution_count": 101,
     "metadata": {},
     "output_type": "execute_result"
    }
   ],
   "source": [
    "from scipy.stats import ks_2samp\n",
    "ks_2samp(train[\"Prob_XGB2\"][train[\"atraso_15\"]==0], train[\"Prob_XGB2\"][train[\"atraso_15\"]==1])"
   ]
  },
  {
   "cell_type": "code",
   "execution_count": 102,
   "id": "12ff1695-df28-44d2-85c4-067d4a6035e2",
   "metadata": {},
   "outputs": [
    {
     "name": "stderr",
     "output_type": "stream",
     "text": [
      "C:\\Users\\patri\\anaconda3_v2\\lib\\site-packages\\xgboost\\sklearn.py:1224: UserWarning: The use of label encoder in XGBClassifier is deprecated and will be removed in a future release. To remove this warning, do the following: 1) Pass option use_label_encoder=False when constructing XGBClassifier object; and 2) Encode your labels (y) as integers starting with 0, i.e. 0, 1, 2, ..., [num_class - 1].\n",
      "  warnings.warn(label_encoder_deprecation_msg, UserWarning)\n",
      "C:\\Users\\patri\\anaconda3_v2\\lib\\site-packages\\xgboost\\data.py:250: FutureWarning: pandas.Int64Index is deprecated and will be removed from pandas in a future version. Use pandas.Index with the appropriate dtype instead.\n",
      "  elif isinstance(data.columns, (pd.Int64Index, pd.RangeIndex)):\n"
     ]
    },
    {
     "data": {
      "text/plain": [
       "XGBClassifier(base_score=0.5, booster='gbtree', colsample_bylevel=1,\n",
       "              colsample_bynode=1, colsample_bytree=1, enable_categorical=False,\n",
       "              eval_metric='aucpr', gamma=0.01, gpu_id=-1, importance_type=None,\n",
       "              interaction_constraints='', learning_rate=0.5, max_delta_step=0,\n",
       "              max_depth=3, min_child_weight=1, missing=nan,\n",
       "              monotone_constraints='()', n_estimators=2000, n_jobs=-1,\n",
       "              num_parallel_tree=2, predictor='auto', random_state=0,\n",
       "              reg_alpha=0, reg_lambda=1, scale_pos_weight=1, subsample=1,\n",
       "              tree_method='exact', validate_parameters=1, verbosity=0)"
      ]
     },
     "execution_count": 102,
     "metadata": {},
     "output_type": "execute_result"
    }
   ],
   "source": [
    "#XGBoost 3 Modificando Hiper parámetros\n",
    "model_xgb3 = XGBClassifier(#base_score=0.5,  Se estima automáticamente por defecto \n",
    "                          booster='gbtree', #Booster que se va a usar, puede ser gbtree, gblinear or dart\n",
    "                          colsample_bylevel=1, colsample_bynode=1, colsample_bytree=1, #Muestreo de columnas\n",
    "                          enable_categorical=False,\n",
    "                          gamma=0.01,                  #Llamado también min_split_loss\n",
    "                          gpu_id=-1, \n",
    "                          interaction_constraints='',  #Restricciones a las interacciones\n",
    "                          learning_rate= .5,           #También llamado eta, velocidad a la que aprende cada vez que hace un árbol\n",
    "                          max_delta_step=0,            #Delta máximo en cada paso, para poner restricciones es recomendable de 1-10\n",
    "                          max_depth=3,                 #Máxima profundidad por árbol\n",
    "                          min_child_weight=1,          #Minimum sum of instance weight (hessian) needed in a child\n",
    "                          monotone_constraints='()', \n",
    "                          n_estimators=2000,            \n",
    "                          n_jobs=-1,\n",
    "                          num_parallel_tree=2,         #Number of paralell trees\n",
    "                          predictor='auto',            #The type of predictor algorithm to use. Provides the same results but allows the use of GPU or CPU.\n",
    "                          subsample=1,\n",
    "                          tree_method='exact', \n",
    "                          validate_parameters=1, \n",
    "                          verbosity= 0,                #Mensajes - Verbosity of printing messages. Valid values of 0 (silent), 1 (warning), 2 (info), and 3 (debug). | None por defecto\n",
    "                          eval_metric = \"aucpr\")\n",
    "model_xgb3.fit(X_train, y_train)"
   ]
  },
  {
   "cell_type": "code",
   "execution_count": 103,
   "id": "9ecc7769-420a-4bdc-bc81-0145e64ed2a8",
   "metadata": {},
   "outputs": [],
   "source": [
    "#Se Agrega probabilidad estimada con xgb a df, train y test\n",
    "train[\"Prob_XGB3\"] = pd.DataFrame(model_xgb3.predict_proba(train[['Destino_Rank', 'Aerolinea_Rank', 'Mes_Rank', 'DIANOM_Rank', 'TIPOVUELO_Rank', \"temporada_alta_Rank\", \"periodo_dia_Rank\", \"diadmes_Rank\", \"Prob_RL\", \"Prob_RL2\", \"Prob_RL3\"]]))[1]\n",
    "test[\"Prob_XGB3\"] = pd.DataFrame(model_xgb3.predict_proba(test[['Destino_Rank', 'Aerolinea_Rank', 'Mes_Rank', 'DIANOM_Rank', 'TIPOVUELO_Rank', \"temporada_alta_Rank\", \"periodo_dia_Rank\", \"diadmes_Rank\", \"Prob_RL\", \"Prob_RL2\", \"Prob_RL3\"]]))[1]\n",
    "df[\"Prob_XGB3\"] = pd.DataFrame(model_xgb3.predict_proba(df[['Destino_Rank', 'Aerolinea_Rank', 'Mes_Rank', 'DIANOM_Rank', 'TIPOVUELO_Rank', \"temporada_alta_Rank\", \"periodo_dia_Rank\", \"diadmes_Rank\", \"Prob_RL\", \"Prob_RL2\", \"Prob_RL3\"]]))[1]"
   ]
  },
  {
   "cell_type": "code",
   "execution_count": 104,
   "id": "839601aa-7666-493d-8f3d-c557b7dcbcf4",
   "metadata": {},
   "outputs": [
    {
     "data": {
      "text/plain": [
       "KstestResult(statistic=0.26403632800716015, pvalue=3.585594217184333e-159)"
      ]
     },
     "execution_count": 104,
     "metadata": {},
     "output_type": "execute_result"
    }
   ],
   "source": [
    "from scipy.stats import ks_2samp\n",
    "ks_2samp(test[\"Prob_XGB3\"][test[\"atraso_15\"]==0], test[\"Prob_XGB3\"][test[\"atraso_15\"]==1])"
   ]
  },
  {
   "cell_type": "code",
   "execution_count": 105,
   "id": "eeb8c94b-0a9f-4825-a497-57d97612e73e",
   "metadata": {},
   "outputs": [
    {
     "data": {
      "text/plain": [
       "KstestResult(statistic=0.6678751837059875, pvalue=0.0)"
      ]
     },
     "execution_count": 105,
     "metadata": {},
     "output_type": "execute_result"
    }
   ],
   "source": [
    "from scipy.stats import ks_2samp\n",
    "ks_2samp(train[\"Prob_XGB3\"][train[\"atraso_15\"]==0], train[\"Prob_XGB3\"][train[\"atraso_15\"]==1])"
   ]
  },
  {
   "cell_type": "code",
   "execution_count": 106,
   "id": "b9bba4d1-7b97-4553-9afd-66ce847124b7",
   "metadata": {},
   "outputs": [
    {
     "name": "stderr",
     "output_type": "stream",
     "text": [
      "C:\\Users\\patri\\anaconda3_v2\\lib\\site-packages\\xgboost\\sklearn.py:1224: UserWarning: The use of label encoder in XGBClassifier is deprecated and will be removed in a future release. To remove this warning, do the following: 1) Pass option use_label_encoder=False when constructing XGBClassifier object; and 2) Encode your labels (y) as integers starting with 0, i.e. 0, 1, 2, ..., [num_class - 1].\n",
      "  warnings.warn(label_encoder_deprecation_msg, UserWarning)\n",
      "C:\\Users\\patri\\anaconda3_v2\\lib\\site-packages\\xgboost\\data.py:250: FutureWarning: pandas.Int64Index is deprecated and will be removed from pandas in a future version. Use pandas.Index with the appropriate dtype instead.\n",
      "  elif isinstance(data.columns, (pd.Int64Index, pd.RangeIndex)):\n"
     ]
    },
    {
     "data": {
      "text/plain": [
       "XGBClassifier(base_score=0.5, booster='gbtree', colsample_bylevel=1,\n",
       "              colsample_bynode=1, colsample_bytree=0.8,\n",
       "              enable_categorical=False, eval_metric='aucpr', gamma=0.01,\n",
       "              gpu_id=-1, importance_type=None, interaction_constraints='',\n",
       "              learning_rate=0.3, max_delta_step=0, max_depth=3,\n",
       "              min_child_weight=1, missing=nan, monotone_constraints='()',\n",
       "              n_estimators=30, n_jobs=-1, num_parallel_tree=2, predictor='auto',\n",
       "              random_state=0, reg_alpha=0, reg_lambda=1, scale_pos_weight=1,\n",
       "              subsample=1, tree_method='exact', validate_parameters=1,\n",
       "              verbosity=0)"
      ]
     },
     "execution_count": 106,
     "metadata": {},
     "output_type": "execute_result"
    }
   ],
   "source": [
    "#XGBoost 4 Modificando Hiper parámetros\n",
    "model_xgb4 = XGBClassifier(#base_score=0.5,  Se estima automáticamente por defecto \n",
    "                          booster='gbtree', #Booster que se va a usar, puede ser gbtree, gblinear or dart\n",
    "                          colsample_bylevel=1, colsample_bynode=1, colsample_bytree=0.8, #Muestreo de columnas\n",
    "                          enable_categorical=False,\n",
    "                          gamma=0.01,                  #Llamado también min_split_loss\n",
    "                          gpu_id=-1, \n",
    "                          interaction_constraints='',  #Restricciones a las interacciones\n",
    "                          learning_rate= .3,           #También llamado eta, velocidad a la que aprende cada vez que hace un árbol\n",
    "                          max_delta_step=0,            #Delta máximo en cada paso, para poner restricciones es recomendable de 1-10\n",
    "                          max_depth=3,                 #Máxima profundidad por árbol\n",
    "                          min_child_weight=1,          #Minimum sum of instance weight (hessian) needed in a child\n",
    "                          monotone_constraints='()', \n",
    "                          n_estimators=30,            \n",
    "                          n_jobs=-1,\n",
    "                          num_parallel_tree=2,         #Number of paralell trees\n",
    "                          predictor='auto',            #The type of predictor algorithm to use. Provides the same results but allows the use of GPU or CPU.\n",
    "                          subsample=1,\n",
    "                          tree_method='exact', \n",
    "                          validate_parameters=1, \n",
    "                          verbosity= 0,                #Mensajes - Verbosity of printing messages. Valid values of 0 (silent), 1 (warning), 2 (info), and 3 (debug). | None por defecto\n",
    "                          eval_metric = \"aucpr\")\n",
    "model_xgb4.fit(X_train, y_train)"
   ]
  },
  {
   "cell_type": "code",
   "execution_count": 107,
   "id": "86a339a6-f0e1-4df0-a835-27eb91b750b5",
   "metadata": {},
   "outputs": [],
   "source": [
    "#Se Agrega probabilidad estimada con xgb a df, train y test\n",
    "train[\"Prob_XGB4\"] = pd.DataFrame(model_xgb4.predict_proba(train[['Destino_Rank', 'Aerolinea_Rank', 'Mes_Rank', 'DIANOM_Rank', 'TIPOVUELO_Rank', \"temporada_alta_Rank\", \"periodo_dia_Rank\", \"diadmes_Rank\", \"Prob_RL\", \"Prob_RL2\", \"Prob_RL3\"]]))[1]\n",
    "test[\"Prob_XGB4\"] = pd.DataFrame(model_xgb4.predict_proba(test[['Destino_Rank', 'Aerolinea_Rank', 'Mes_Rank', 'DIANOM_Rank', 'TIPOVUELO_Rank', \"temporada_alta_Rank\", \"periodo_dia_Rank\", \"diadmes_Rank\", \"Prob_RL\", \"Prob_RL2\", \"Prob_RL3\"]]))[1]\n",
    "df[\"Prob_XGB4\"] = pd.DataFrame(model_xgb4.predict_proba(df[['Destino_Rank', 'Aerolinea_Rank', 'Mes_Rank', 'DIANOM_Rank', 'TIPOVUELO_Rank', \"temporada_alta_Rank\", \"periodo_dia_Rank\", \"diadmes_Rank\", \"Prob_RL\", \"Prob_RL2\", \"Prob_RL3\"]]))[1]"
   ]
  },
  {
   "cell_type": "code",
   "execution_count": 108,
   "id": "8917b8d7-96e7-4393-89a6-731815e00fa7",
   "metadata": {},
   "outputs": [
    {
     "data": {
      "text/plain": [
       "KstestResult(statistic=0.24290003995459175, pvalue=1.9279875375786245e-134)"
      ]
     },
     "execution_count": 108,
     "metadata": {},
     "output_type": "execute_result"
    }
   ],
   "source": [
    "from scipy.stats import ks_2samp\n",
    "ks_2samp(test[\"Prob_XGB4\"][test[\"atraso_15\"]==0], test[\"Prob_XGB4\"][test[\"atraso_15\"]==1])"
   ]
  },
  {
   "cell_type": "code",
   "execution_count": 109,
   "id": "5da6497d-fd84-4ac0-9786-ac1226e1de57",
   "metadata": {},
   "outputs": [
    {
     "data": {
      "text/plain": [
       "KstestResult(statistic=0.274218947127346, pvalue=0.0)"
      ]
     },
     "execution_count": 109,
     "metadata": {},
     "output_type": "execute_result"
    }
   ],
   "source": [
    "from scipy.stats import ks_2samp\n",
    "ks_2samp(train[\"Prob_XGB4\"][train[\"atraso_15\"]==0], train[\"Prob_XGB4\"][train[\"atraso_15\"]==1])"
   ]
  },
  {
   "cell_type": "code",
   "execution_count": 110,
   "id": "217c3186-81fd-4364-bf7e-f9cca5cbb16c",
   "metadata": {},
   "outputs": [
    {
     "name": "stderr",
     "output_type": "stream",
     "text": [
      "C:\\Users\\patri\\anaconda3_v2\\lib\\site-packages\\xgboost\\sklearn.py:1224: UserWarning: The use of label encoder in XGBClassifier is deprecated and will be removed in a future release. To remove this warning, do the following: 1) Pass option use_label_encoder=False when constructing XGBClassifier object; and 2) Encode your labels (y) as integers starting with 0, i.e. 0, 1, 2, ..., [num_class - 1].\n",
      "  warnings.warn(label_encoder_deprecation_msg, UserWarning)\n",
      "C:\\Users\\patri\\anaconda3_v2\\lib\\site-packages\\xgboost\\data.py:250: FutureWarning: pandas.Int64Index is deprecated and will be removed from pandas in a future version. Use pandas.Index with the appropriate dtype instead.\n",
      "  elif isinstance(data.columns, (pd.Int64Index, pd.RangeIndex)):\n"
     ]
    },
    {
     "data": {
      "text/plain": [
       "XGBClassifier(base_score=0.5, booster='gbtree', colsample_bylevel=1,\n",
       "              colsample_bynode=1, colsample_bytree=0.8,\n",
       "              enable_categorical=False, eval_metric='aucpr', gamma=0.01,\n",
       "              gpu_id=-1, importance_type=None, interaction_constraints='',\n",
       "              learning_rate=0.3, max_delta_step=0, max_depth=3,\n",
       "              min_child_weight=1, missing=nan, monotone_constraints='()',\n",
       "              n_estimators=30, n_jobs=-1, num_parallel_tree=2, predictor='auto',\n",
       "              random_state=0, reg_alpha=0, reg_lambda=1, scale_pos_weight=1,\n",
       "              subsample=1, tree_method='exact', validate_parameters=1,\n",
       "              verbosity=0)"
      ]
     },
     "execution_count": 110,
     "metadata": {},
     "output_type": "execute_result"
    }
   ],
   "source": [
    "#XGBoost 5 Modificando Hiper parámetros - Sin Ensamble\n",
    "model_xgb5 = XGBClassifier(#base_score=0.5,  Se estima automáticamente por defecto \n",
    "                          booster='gbtree', #Booster que se va a usar, puede ser gbtree, gblinear or dart\n",
    "                          colsample_bylevel=1, colsample_bynode=1, colsample_bytree=0.8, #Muestreo de columnas\n",
    "                          enable_categorical=False,\n",
    "                          gamma=0.01,                  #Llamado también min_split_loss\n",
    "                          gpu_id=-1, \n",
    "                          interaction_constraints='',  #Restricciones a las interacciones\n",
    "                          learning_rate= .3,           #También llamado eta, velocidad a la que aprende cada vez que hace un árbol\n",
    "                          max_delta_step=0,            #Delta máximo en cada paso, para poner restricciones es recomendable de 1-10\n",
    "                          max_depth=3,                 #Máxima profundidad por árbol\n",
    "                          min_child_weight=1,          #Minimum sum of instance weight (hessian) needed in a child\n",
    "                          monotone_constraints='()', \n",
    "                          n_estimators=30,            \n",
    "                          n_jobs=-1,\n",
    "                          num_parallel_tree=2,         #Number of paralell trees\n",
    "                          predictor='auto',            #The type of predictor algorithm to use. Provides the same results but allows the use of GPU or CPU.\n",
    "                          subsample=1,\n",
    "                          tree_method='exact', \n",
    "                          validate_parameters=1, \n",
    "                          verbosity= 0,                #Mensajes - Verbosity of printing messages. Valid values of 0 (silent), 1 (warning), 2 (info), and 3 (debug). | None por defecto\n",
    "                          eval_metric = \"aucpr\")\n",
    "model_xgb5.fit(X_train[['Destino_Rank', 'Aerolinea_Rank', 'Mes_Rank', 'DIANOM_Rank', 'TIPOVUELO_Rank', \"temporada_alta_Rank\", \"periodo_dia_Rank\", \"diadmes_Rank\"]], y_train)"
   ]
  },
  {
   "cell_type": "code",
   "execution_count": 111,
   "id": "a161145d-d643-44bc-ac1a-687f1f5e12c6",
   "metadata": {},
   "outputs": [],
   "source": [
    "#Se Agrega probabilidad estimada con xgb a df, train y test\n",
    "train[\"Prob_XGB5\"] = pd.DataFrame(model_xgb5.predict_proba(train[['Destino_Rank', 'Aerolinea_Rank', 'Mes_Rank', 'DIANOM_Rank', 'TIPOVUELO_Rank', \"temporada_alta_Rank\", \"periodo_dia_Rank\", \"diadmes_Rank\"]]))[1]\n",
    "test[\"Prob_XGB5\"] = pd.DataFrame(model_xgb5.predict_proba(test[['Destino_Rank', 'Aerolinea_Rank', 'Mes_Rank', 'DIANOM_Rank', 'TIPOVUELO_Rank', \"temporada_alta_Rank\", \"periodo_dia_Rank\", \"diadmes_Rank\"]]))[1]\n",
    "df[\"Prob_XGB5\"] = pd.DataFrame(model_xgb5.predict_proba(df[['Destino_Rank', 'Aerolinea_Rank', 'Mes_Rank', 'DIANOM_Rank', 'TIPOVUELO_Rank', \"temporada_alta_Rank\", \"periodo_dia_Rank\", \"diadmes_Rank\"]]))[1]"
   ]
  },
  {
   "cell_type": "code",
   "execution_count": 113,
   "id": "c95a7b2b-5871-41f5-87fe-0d3694b25972",
   "metadata": {},
   "outputs": [
    {
     "data": {
      "text/plain": [
       "KstestResult(statistic=0.25801276320422467, pvalue=6.694346870728345e-152)"
      ]
     },
     "execution_count": 113,
     "metadata": {},
     "output_type": "execute_result"
    }
   ],
   "source": [
    "from scipy.stats import ks_2samp\n",
    "ks_2samp(test[\"Prob_XGB5\"][test[\"atraso_15\"]==0], test[\"Prob_XGB5\"][test[\"atraso_15\"]==1])"
   ]
  },
  {
   "cell_type": "code",
   "execution_count": 114,
   "id": "19590da1-a746-4d16-a985-d262936beaca",
   "metadata": {},
   "outputs": [
    {
     "data": {
      "text/plain": [
       "KstestResult(statistic=0.280789643635285, pvalue=0.0)"
      ]
     },
     "execution_count": 114,
     "metadata": {},
     "output_type": "execute_result"
    }
   ],
   "source": [
    "from scipy.stats import ks_2samp\n",
    "ks_2samp(train[\"Prob_XGB5\"][train[\"atraso_15\"]==0], train[\"Prob_XGB5\"][train[\"atraso_15\"]==1])"
   ]
  },
  {
   "cell_type": "markdown",
   "id": "758846a8-f8fb-4755-986e-3ad2fa8ab91b",
   "metadata": {},
   "source": [
    "# **5) Evalúa tu modelo. ¿Qué performance tiene? ¿Qué métricas usaste para evaluar esa performance y por qué? ¿Por qué elegiste ese algoritmo en particular? ¿Qué variables son las que más influyen en la predicción? ¿Cómo podrías mejorar la performance?**"
   ]
  },
  {
   "cell_type": "code",
   "execution_count": 116,
   "id": "eae81d05-b125-4fd8-89c1-00532d16b497",
   "metadata": {},
   "outputs": [
    {
     "data": {
      "text/html": [
       "<div>\n",
       "<style scoped>\n",
       "    .dataframe tbody tr th:only-of-type {\n",
       "        vertical-align: middle;\n",
       "    }\n",
       "\n",
       "    .dataframe tbody tr th {\n",
       "        vertical-align: top;\n",
       "    }\n",
       "\n",
       "    .dataframe thead th {\n",
       "        text-align: right;\n",
       "    }\n",
       "</style>\n",
       "<table border=\"1\" class=\"dataframe\">\n",
       "  <thead>\n",
       "    <tr style=\"text-align: right;\">\n",
       "      <th></th>\n",
       "      <th>KS Entrenamiento</th>\n",
       "      <th>KS Validación</th>\n",
       "      <th>KS Muestra Completa</th>\n",
       "      <th>AUC Entrenamiento</th>\n",
       "      <th>AUC Validación</th>\n",
       "      <th>AUC Muestra Completa</th>\n",
       "    </tr>\n",
       "  </thead>\n",
       "  <tbody>\n",
       "    <tr>\n",
       "      <th>Regresión Logística 1</th>\n",
       "      <td>0.232227</td>\n",
       "      <td>0.205942</td>\n",
       "      <td>0.224455</td>\n",
       "      <td>0.659124</td>\n",
       "      <td>0.643775</td>\n",
       "      <td>0.655279</td>\n",
       "    </tr>\n",
       "    <tr>\n",
       "      <th>Regresión Logística 2</th>\n",
       "      <td>0.223167</td>\n",
       "      <td>0.200589</td>\n",
       "      <td>0.217486</td>\n",
       "      <td>0.651071</td>\n",
       "      <td>0.634756</td>\n",
       "      <td>0.646982</td>\n",
       "    </tr>\n",
       "    <tr>\n",
       "      <th>Regresión Logística 3</th>\n",
       "      <td>0.207323</td>\n",
       "      <td>0.191835</td>\n",
       "      <td>0.203174</td>\n",
       "      <td>0.638889</td>\n",
       "      <td>0.624319</td>\n",
       "      <td>0.635218</td>\n",
       "    </tr>\n",
       "    <tr>\n",
       "      <th>Clasificador Naïve Bayes</th>\n",
       "      <td>0.158664</td>\n",
       "      <td>0.150032</td>\n",
       "      <td>0.155223</td>\n",
       "      <td>0.610906</td>\n",
       "      <td>0.604159</td>\n",
       "      <td>0.609223</td>\n",
       "    </tr>\n",
       "    <tr>\n",
       "      <th>Árbol de Decisión</th>\n",
       "      <td>0.869776</td>\n",
       "      <td>0.142408</td>\n",
       "      <td>0.686406</td>\n",
       "      <td>0.980032</td>\n",
       "      <td>0.574630</td>\n",
       "      <td>0.873571</td>\n",
       "    </tr>\n",
       "    <tr>\n",
       "      <th>Random Forest</th>\n",
       "      <td>0.858837</td>\n",
       "      <td>0.235441</td>\n",
       "      <td>0.696754</td>\n",
       "      <td>0.978789</td>\n",
       "      <td>0.651023</td>\n",
       "      <td>0.910797</td>\n",
       "    </tr>\n",
       "    <tr>\n",
       "      <th>XGBoost 1</th>\n",
       "      <td>0.471203</td>\n",
       "      <td>0.292292</td>\n",
       "      <td>0.425264</td>\n",
       "      <td>0.819116</td>\n",
       "      <td>0.698522</td>\n",
       "      <td>0.789302</td>\n",
       "    </tr>\n",
       "    <tr>\n",
       "      <th>XGBoost 2</th>\n",
       "      <td>0.403847</td>\n",
       "      <td>0.284858</td>\n",
       "      <td>0.373390</td>\n",
       "      <td>0.776464</td>\n",
       "      <td>0.698764</td>\n",
       "      <td>0.757144</td>\n",
       "    </tr>\n",
       "    <tr>\n",
       "      <th>XGBoost 3</th>\n",
       "      <td>0.667875</td>\n",
       "      <td>0.264036</td>\n",
       "      <td>0.562243</td>\n",
       "      <td>0.919692</td>\n",
       "      <td>0.682184</td>\n",
       "      <td>0.861349</td>\n",
       "    </tr>\n",
       "    <tr>\n",
       "      <th>XGBoost 4</th>\n",
       "      <td>0.274219</td>\n",
       "      <td>0.242900</td>\n",
       "      <td>0.265639</td>\n",
       "      <td>0.692684</td>\n",
       "      <td>0.671250</td>\n",
       "      <td>0.687320</td>\n",
       "    </tr>\n",
       "    <tr>\n",
       "      <th>XGBoost 5</th>\n",
       "      <td>0.280790</td>\n",
       "      <td>0.258013</td>\n",
       "      <td>0.274969</td>\n",
       "      <td>0.695944</td>\n",
       "      <td>0.678344</td>\n",
       "      <td>0.691558</td>\n",
       "    </tr>\n",
       "  </tbody>\n",
       "</table>\n",
       "</div>"
      ],
      "text/plain": [
       "                          KS Entrenamiento  KS Validación  \\\n",
       "Regresión Logística 1             0.232227       0.205942   \n",
       "Regresión Logística 2             0.223167       0.200589   \n",
       "Regresión Logística 3             0.207323       0.191835   \n",
       "Clasificador Naïve Bayes          0.158664       0.150032   \n",
       "Árbol de Decisión                 0.869776       0.142408   \n",
       "Random Forest                     0.858837       0.235441   \n",
       "XGBoost 1                         0.471203       0.292292   \n",
       "XGBoost 2                         0.403847       0.284858   \n",
       "XGBoost 3                         0.667875       0.264036   \n",
       "XGBoost 4                         0.274219       0.242900   \n",
       "XGBoost 5                         0.280790       0.258013   \n",
       "\n",
       "                          KS Muestra Completa  AUC Entrenamiento  \\\n",
       "Regresión Logística 1                0.224455           0.659124   \n",
       "Regresión Logística 2                0.217486           0.651071   \n",
       "Regresión Logística 3                0.203174           0.638889   \n",
       "Clasificador Naïve Bayes             0.155223           0.610906   \n",
       "Árbol de Decisión                    0.686406           0.980032   \n",
       "Random Forest                        0.696754           0.978789   \n",
       "XGBoost 1                            0.425264           0.819116   \n",
       "XGBoost 2                            0.373390           0.776464   \n",
       "XGBoost 3                            0.562243           0.919692   \n",
       "XGBoost 4                            0.265639           0.692684   \n",
       "XGBoost 5                            0.274969           0.695944   \n",
       "\n",
       "                          AUC Validación  AUC Muestra Completa  \n",
       "Regresión Logística 1           0.643775              0.655279  \n",
       "Regresión Logística 2           0.634756              0.646982  \n",
       "Regresión Logística 3           0.624319              0.635218  \n",
       "Clasificador Naïve Bayes        0.604159              0.609223  \n",
       "Árbol de Decisión               0.574630              0.873571  \n",
       "Random Forest                   0.651023              0.910797  \n",
       "XGBoost 1                       0.698522              0.789302  \n",
       "XGBoost 2                       0.698764              0.757144  \n",
       "XGBoost 3                       0.682184              0.861349  \n",
       "XGBoost 4                       0.671250              0.687320  \n",
       "XGBoost 5                       0.678344              0.691558  "
      ]
     },
     "execution_count": 116,
     "metadata": {},
     "output_type": "execute_result"
    }
   ],
   "source": [
    "from sklearn.metrics import roc_auc_score\n",
    "Indicadores =pd.DataFrame()\n",
    "Indicadores['KS Entrenamiento'] = None\n",
    "Indicadores['KS Validación'] = None\n",
    "Indicadores['KS Muestra Completa'] = None\n",
    "Indicadores['AUC Entrenamiento'] = None\n",
    "Indicadores['AUC Validación'] = None\n",
    "Indicadores['AUC Muestra Completa'] = None\n",
    "Indicadores\n",
    "\n",
    "\n",
    "# Añadimos filas por su nombre de fila\n",
    "Indicadores.loc['Regresión Logística 1'] = [ks_2samp(train[\"Prob_RL\"][train[\"atraso_15\"]==0], train[\"Prob_RL\"][train[\"atraso_15\"]==1]).statistic, ks_2samp(test[\"Prob_RL\"][test[\"atraso_15\"]==0], test[\"Prob_RL\"][test[\"atraso_15\"]==1]).statistic, ks_2samp(df[\"Prob_RL\"][df[\"atraso_15\"]==0], df[\"Prob_RL\"][df[\"atraso_15\"]==1]).statistic, roc_auc_score(train[\"atraso_15\"], train[\"Prob_RL\"]), roc_auc_score(test[\"atraso_15\"], test[\"Prob_RL\"]), roc_auc_score(df[\"atraso_15\"], df[\"Prob_RL\"])]\n",
    "Indicadores.loc['Regresión Logística 2'] = [ks_2samp(train[\"Prob_RL2\"][train[\"atraso_15\"]==0], train[\"Prob_RL2\"][train[\"atraso_15\"]==1]).statistic, ks_2samp(test[\"Prob_RL2\"][test[\"atraso_15\"]==0], test[\"Prob_RL2\"][test[\"atraso_15\"]==1]).statistic, ks_2samp(df[\"Prob_RL2\"][df[\"atraso_15\"]==0], df[\"Prob_RL2\"][df[\"atraso_15\"]==1]).statistic, roc_auc_score(train[\"atraso_15\"], train[\"Prob_RL2\"]), roc_auc_score(test[\"atraso_15\"], test[\"Prob_RL2\"]), roc_auc_score(df[\"atraso_15\"], df[\"Prob_RL2\"])]\n",
    "Indicadores.loc['Regresión Logística 3'] = [ks_2samp(train[\"Prob_RL3\"][train[\"atraso_15\"]==0], train[\"Prob_RL3\"][train[\"atraso_15\"]==1]).statistic, ks_2samp(test[\"Prob_RL3\"][test[\"atraso_15\"]==0], test[\"Prob_RL3\"][test[\"atraso_15\"]==1]).statistic, ks_2samp(df[\"Prob_RL3\"][df[\"atraso_15\"]==0], df[\"Prob_RL3\"][df[\"atraso_15\"]==1]).statistic, roc_auc_score(train[\"atraso_15\"], train[\"Prob_RL3\"]), roc_auc_score(test[\"atraso_15\"], test[\"Prob_RL3\"]), roc_auc_score(df[\"atraso_15\"], df[\"Prob_RL3\"])]\n",
    "Indicadores.loc['Clasificador Naïve Bayes'] = [ks_2samp(train[\"Prob_NB\"][train[\"atraso_15\"]==0], train[\"Prob_NB\"][train[\"atraso_15\"]==1]).statistic, ks_2samp(test[\"Prob_NB\"][test[\"atraso_15\"]==0], test[\"Prob_NB\"][test[\"atraso_15\"]==1]).statistic, ks_2samp(df[\"Prob_NB\"][df[\"atraso_15\"]==0], df[\"Prob_NB\"][df[\"atraso_15\"]==1]).statistic, roc_auc_score(train[\"atraso_15\"], train[\"Prob_NB\"]), roc_auc_score(test[\"atraso_15\"], test[\"Prob_NB\"]), roc_auc_score(df[\"atraso_15\"], df[\"Prob_NB\"])]\n",
    "Indicadores.loc['Árbol de Decisión'] = [ks_2samp(train[\"Prob_DT\"][train[\"atraso_15\"]==0], train[\"Prob_DT\"][train[\"atraso_15\"]==1]).statistic, ks_2samp(test[\"Prob_DT\"][test[\"atraso_15\"]==0], test[\"Prob_DT\"][test[\"atraso_15\"]==1]).statistic, ks_2samp(df[\"Prob_DT\"][df[\"atraso_15\"]==0], df[\"Prob_DT\"][df[\"atraso_15\"]==1]).statistic, roc_auc_score(train[\"atraso_15\"], train[\"Prob_DT\"]), roc_auc_score(test[\"atraso_15\"], test[\"Prob_DT\"]), roc_auc_score(df[\"atraso_15\"], df[\"Prob_DT\"])]\n",
    "Indicadores.loc['Random Forest'] = [ks_2samp(train[\"Prob_RF\"][train[\"atraso_15\"]==0], train[\"Prob_RF\"][train[\"atraso_15\"]==1]).statistic, ks_2samp(test[\"Prob_RF\"][test[\"atraso_15\"]==0], test[\"Prob_RF\"][test[\"atraso_15\"]==1]).statistic, ks_2samp(df[\"Prob_RF\"][df[\"atraso_15\"]==0], df[\"Prob_RF\"][df[\"atraso_15\"]==1]).statistic, roc_auc_score(train[\"atraso_15\"], train[\"Prob_RF\"]), roc_auc_score(test[\"atraso_15\"], test[\"Prob_RF\"]), roc_auc_score(df[\"atraso_15\"], df[\"Prob_RF\"])]\n",
    "Indicadores.loc['XGBoost 1'] = [ks_2samp(train[\"Prob_XGB1\"][train[\"atraso_15\"]==0], train[\"Prob_XGB1\"][train[\"atraso_15\"]==1]).statistic, ks_2samp(test[\"Prob_XGB1\"][test[\"atraso_15\"]==0], test[\"Prob_XGB1\"][test[\"atraso_15\"]==1]).statistic, ks_2samp(df[\"Prob_XGB1\"][df[\"atraso_15\"]==0], df[\"Prob_XGB1\"][df[\"atraso_15\"]==1]).statistic, roc_auc_score(train[\"atraso_15\"], train[\"Prob_XGB1\"]), roc_auc_score(test[\"atraso_15\"], test[\"Prob_XGB1\"]), roc_auc_score(df[\"atraso_15\"], df[\"Prob_XGB1\"])]\n",
    "Indicadores.loc['XGBoost 2'] = [ks_2samp(train[\"Prob_XGB2\"][train[\"atraso_15\"]==0], train[\"Prob_XGB2\"][train[\"atraso_15\"]==1]).statistic, ks_2samp(test[\"Prob_XGB2\"][test[\"atraso_15\"]==0], test[\"Prob_XGB2\"][test[\"atraso_15\"]==1]).statistic, ks_2samp(df[\"Prob_XGB2\"][df[\"atraso_15\"]==0], df[\"Prob_XGB2\"][df[\"atraso_15\"]==1]).statistic, roc_auc_score(train[\"atraso_15\"], train[\"Prob_XGB2\"]), roc_auc_score(test[\"atraso_15\"], test[\"Prob_XGB2\"]), roc_auc_score(df[\"atraso_15\"], df[\"Prob_XGB2\"])]\n",
    "Indicadores.loc['XGBoost 3'] = [ks_2samp(train[\"Prob_XGB3\"][train[\"atraso_15\"]==0], train[\"Prob_XGB3\"][train[\"atraso_15\"]==1]).statistic, ks_2samp(test[\"Prob_XGB3\"][test[\"atraso_15\"]==0], test[\"Prob_XGB3\"][test[\"atraso_15\"]==1]).statistic, ks_2samp(df[\"Prob_XGB3\"][df[\"atraso_15\"]==0], df[\"Prob_XGB3\"][df[\"atraso_15\"]==1]).statistic, roc_auc_score(train[\"atraso_15\"], train[\"Prob_XGB3\"]), roc_auc_score(test[\"atraso_15\"], test[\"Prob_XGB3\"]), roc_auc_score(df[\"atraso_15\"], df[\"Prob_XGB3\"])]\n",
    "Indicadores.loc['XGBoost 4'] = [ks_2samp(train[\"Prob_XGB4\"][train[\"atraso_15\"]==0], train[\"Prob_XGB4\"][train[\"atraso_15\"]==1]).statistic, ks_2samp(test[\"Prob_XGB4\"][test[\"atraso_15\"]==0], test[\"Prob_XGB4\"][test[\"atraso_15\"]==1]).statistic, ks_2samp(df[\"Prob_XGB4\"][df[\"atraso_15\"]==0], df[\"Prob_XGB4\"][df[\"atraso_15\"]==1]).statistic, roc_auc_score(train[\"atraso_15\"], train[\"Prob_XGB4\"]), roc_auc_score(test[\"atraso_15\"], test[\"Prob_XGB4\"]), roc_auc_score(df[\"atraso_15\"], df[\"Prob_XGB4\"])]\n",
    "Indicadores.loc['XGBoost 5'] = [ks_2samp(train[\"Prob_XGB5\"][train[\"atraso_15\"]==0], train[\"Prob_XGB5\"][train[\"atraso_15\"]==1]).statistic, ks_2samp(test[\"Prob_XGB5\"][test[\"atraso_15\"]==0], test[\"Prob_XGB5\"][test[\"atraso_15\"]==1]).statistic, ks_2samp(df[\"Prob_XGB5\"][df[\"atraso_15\"]==0], df[\"Prob_XGB5\"][df[\"atraso_15\"]==1]).statistic, roc_auc_score(train[\"atraso_15\"], train[\"Prob_XGB5\"]), roc_auc_score(test[\"atraso_15\"], test[\"Prob_XGB5\"]), roc_auc_score(df[\"atraso_15\"], df[\"Prob_XGB5\"])]\n",
    "Indicadores"
   ]
  },
  {
   "cell_type": "markdown",
   "id": "9ae7ce31-e56c-4433-b764-03038f2ab656",
   "metadata": {},
   "source": [
    "**Se escoge el modelo XGBoost 5 porque posee mejores índices KS y ROC sin tener una diferencia de más de 10 puntos de KS entre las muestras de entrenamiento y validación**"
   ]
  },
  {
   "cell_type": "code",
   "execution_count": 131,
   "id": "32ca6acb-6f08-4eea-8211-17da5c1c49cf",
   "metadata": {},
   "outputs": [
    {
     "data": {
      "image/png": "[encoded data removed]",
      "text/plain": [
       "<Figure size 720x576 with 1 Axes>"
      ]
     },
     "metadata": {
      "needs_background": "light"
     },
     "output_type": "display_data"
    }
   ],
   "source": [
    "# feature importance\n",
    "# plot feature importance\n",
    "from xgboost import plot_importance\n",
    "from matplotlib import pyplot\n",
    "plt.rcParams[\"figure.figsize\"] = (10, 8)\n",
    "plot_importance(model_xgb5)\n",
    "pyplot.show()"
   ]
  },
  {
   "cell_type": "markdown",
   "id": "26f584a4-71d8-45f2-9149-6b6d74f364b0",
   "metadata": {},
   "source": [
    "**La variable más importante es la Aerolínea, seguido del mes del viaje**"
   ]
  },
  {
   "cell_type": "markdown",
   "id": "888dd0c9-5042-472f-9e21-9e7ed7fc2603",
   "metadata": {},
   "source": [
    "   "
   ]
  },
  {
   "cell_type": "markdown",
   "id": "c81a95da-e8fe-4146-be8b-3db3e57517d2",
   "metadata": {},
   "source": [
    "   "
   ]
  },
  {
   "cell_type": "markdown",
   "id": "ff8a828f-40ac-4a12-9a40-477ca60f5b4f",
   "metadata": {},
   "source": [
    "**Se Podría mejorar la performance del modelo de las siguientes maneras:**\n",
    "    "
   ]
  },
  {
   "cell_type": "markdown",
   "id": "70ffe383-4f2d-499e-beb5-330ab012baa7",
   "metadata": {},
   "source": [
    "**1) Añadiendo Historia: Tener una base de datos más completa apoyaría no solo en el ajuste, sino en el análisis de estabilidad del modelo y validaciónes con muestras OOT.**\n",
    "   "
   ]
  },
  {
   "cell_type": "markdown",
   "id": "a2eb473d-65e4-4b88-995c-8b01576b2496",
   "metadata": {},
   "source": [
    " **2) Con Información complementaria de congestión del tráfico aéreo, condiciones climáticas desde donde viene el avión antes de llegar a Santiago, cierres de aeropuertos, restricciones de slots, mantenimientos de última hora, fallas en la planeación de itinerarios, tiempos medios por aerolínea en la preparación de los aviones para los despegues, etc**"
   ]
  }
 ],
 "metadata": {
  "kernelspec": {
   "display_name": "Python 3 (ipykernel)",
   "language": "python",
   "name": "python3"
  },
  "language_info": {
   "codemirror_mode": {
    "name": "ipython",
    "version": 3
   },
   "file_extension": ".py",
   "mimetype": "text/x-python",
   "name": "python",
   "nbconvert_exporter": "python",
   "pygments_lexer": "ipython3",
   "version": "3.9.12"
  }
 },
 "nbformat": 4,
 "nbformat_minor": 5
}
